{
  "nbformat": 4,
  "nbformat_minor": 0,
  "metadata": {
    "colab": {
      "name": "BIO_Chapter_4.ipynb",
      "provenance": [],
      "collapsed_sections": [
        "H2_AEUCx5RE4",
        "ON8RR-1g5RCa",
        "GqbNLMVh5Q9X",
        "tJw9SFsm5Q7B",
        "wImjs3sE5Q3P",
        "4L4-XpuZ5QwQ",
        "lowYX-3M53fM"
      ]
    },
    "kernelspec": {
      "name": "python3",
      "display_name": "Python 3"
    }
  },
  "cells": [
    {
      "cell_type": "markdown",
      "metadata": {
        "id": "H2_AEUCx5RE4",
        "colab_type": "text"
      },
      "source": [
        "## BA4A\tTranslate an RNA String into an Amino Acid String"
      ]
    },
    {
      "cell_type": "code",
      "metadata": {
        "id": "oLAOxHAMwKpw",
        "colab_type": "code",
        "colab": {}
      },
      "source": [
        "d = {}\n",
        "d['UUU']='F'\n",
        "d['CUU']='L'\n",
        "d['AUU']='I'\n",
        "d['GUU']='V'\n",
        "d['UUC']='F'\n",
        "d['CUC']='L'\n",
        "d['AUC']='I'\n",
        "d['GUC']='V'\n",
        "d['UUA']='L'\n",
        "d['CUA']='L'\n",
        "d['AUA']='I'\n",
        "d['GUA']='V'\n",
        "d['UUG']='L'\n",
        "d['CUG']='L'\n",
        "d['AUG']='M'\n",
        "d['GUG']='V'\n",
        "d['UCU']='S'\n",
        "d['CCU']='P'\n",
        "d['ACU']='T'\n",
        "d['GCU']='A'\n",
        "d['UCC']='S'\n",
        "d['CCC']='P'\n",
        "d['ACC']='T'\n",
        "d['GCC']='A'\n",
        "d['UCA']='S'\n",
        "d['CCA']='P'\n",
        "d['ACA']='T'\n",
        "d['GCA']='A'\n",
        "d['UCG']='S'\n",
        "d['CCG']='P'\n",
        "d['ACG']='T'\n",
        "d['GCG']='A'\n",
        "d['UAU']='Y'\n",
        "d['CAU']='H'\n",
        "d['AAU']='N'\n",
        "d['GAU']='D'\n",
        "d['UAC']='Y'\n",
        "d['CAC']='H'\n",
        "d['AAC']='N'\n",
        "d['GAC']='D'\n",
        "d['UAA']='Stop'\n",
        "d['CAA']='Q'\n",
        "d['AAA']='K'\n",
        "d['GAA']='E'\n",
        "d['UAG']='Stop'\n",
        "d['CAG']='Q'\n",
        "d['AAG']='K'\n",
        "d['GAG']='E'\n",
        "d['UGU']='C'\n",
        "d['CGU']='R'\n",
        "d['AGU']='S'\n",
        "d['GGU']='G'\n",
        "d['UGC']='C'\n",
        "d['CGC']='R'\n",
        "d['AGC']='S'\n",
        "d['GGC']='G'\n",
        "d['UGA']='Stop'\n",
        "d['CGA']='R'\n",
        "d['AGA']='R'\n",
        "d['GGA']='G'\n",
        "d['UGG']='W'\n",
        "d['CGG']='R'\n",
        "d['AGG']='R'\n",
        "d['GGG']='G'\n",
        "\n",
        "def rna2protein(s):\n",
        "  pr=\"\"\n",
        "  for i in range(0,len(s),3):\n",
        "    a = d[s[i:i+3]]\n",
        "    if a=='Stop':\n",
        "      return pr\n",
        "    else:\n",
        "      pr += a\n",
        "  return pr"
      ],
      "execution_count": 0,
      "outputs": []
    },
    {
      "cell_type": "code",
      "metadata": {
        "id": "OuN9xTCwyY7g",
        "colab_type": "code",
        "outputId": "667dc9e1-7329-4d24-f2da-43f538ca36f5",
        "colab": {
          "base_uri": "https://localhost:8080/",
          "height": 34
        }
      },
      "source": [
        "rna2protein(\"AUGGCCAUGGCGCCCAGAACUGAGAUCAAUAGUACCCGUAUUAACGGGUGA\")"
      ],
      "execution_count": 0,
      "outputs": [
        {
          "output_type": "execute_result",
          "data": {
            "text/plain": [
              "'MAMAPRTEINSTRING'"
            ]
          },
          "metadata": {
            "tags": []
          },
          "execution_count": 13
        }
      ]
    },
    {
      "cell_type": "markdown",
      "metadata": {
        "id": "ON8RR-1g5RCa",
        "colab_type": "text"
      },
      "source": [
        "## BA4B\tFind Substrings of a Genome Encoding a Given Amino Acid String"
      ]
    },
    {
      "cell_type": "code",
      "metadata": {
        "id": "PX1YR8WKy7rX",
        "colab_type": "code",
        "colab": {}
      },
      "source": [
        "def reverseComplement(dna):\n",
        "  mp = {'A':'T',\n",
        "        'T':'A',\n",
        "        'G':'C',\n",
        "        'C':'G'}\n",
        "  dna = ''.join([mp[i] for i in dna][::-1])\n",
        "  return dna\n",
        "\n",
        "def dna2rna(dna):\n",
        "  return dna.replace('T','U')\n",
        "def rna2dna(dna):\n",
        "  return dna.replace('U','T')\n",
        "\n",
        "def peptideEncoding(dna,pr):\n",
        "  rna1 = dna2rna(dna+dna)\n",
        "  r = reverseComplement(dna)\n",
        "  rna2 = dna2rna(r+r)\n",
        "  lenRna = 3*len(pr)\n",
        "  for i in range(len(dna)):\n",
        "    if rna2protein(rna1[i:i+lenRna]) == pr:\n",
        "      print(dna[i:i+lenRna])\n",
        "  for i in range(len(dna)):\n",
        "    if rna2protein(rna2[i:i+lenRna]) == pr:\n",
        "      print(reverseComplement(rna2dna(rna2[i:i+lenRna])))"
      ],
      "execution_count": 0,
      "outputs": []
    },
    {
      "cell_type": "code",
      "metadata": {
        "id": "bb4Ohiojz3iw",
        "colab_type": "code",
        "outputId": "57e47ab2-4d42-444d-99cb-5e7cb11df031",
        "colab": {
          "base_uri": "https://localhost:8080/",
          "height": 70
        }
      },
      "source": [
        "dna=\"ATGGCCATGGCCCCCAGAACTGAGATCAATAGTACCCGTATTAACGGGTGA\"\n",
        "pr=\"MA\"\n",
        "\n",
        "peptideEncoding(dna,pr)"
      ],
      "execution_count": 0,
      "outputs": [
        {
          "output_type": "stream",
          "text": [
            "ATGGCC\n",
            "ATGGCC\n",
            "GGCCAT\n"
          ],
          "name": "stdout"
        }
      ]
    },
    {
      "cell_type": "markdown",
      "metadata": {
        "id": "hWijWwI95Q_6",
        "colab_type": "text"
      },
      "source": [
        "## BA4C\tGenerate the Theoretical Spectrum of a Cyclic Peptide\t"
      ]
    },
    {
      "cell_type": "code",
      "metadata": {
        "id": "okM1GdBi3HmZ",
        "colab_type": "code",
        "colab": {}
      },
      "source": [
        "mass = {}\n",
        "mass['G'] = 57\n",
        "mass['A'] = 71\n",
        "mass['S'] = 87\n",
        "mass['P'] = 97\n",
        "mass['V'] = 99\n",
        "mass['T'] = 101\n",
        "mass['C'] = 103\n",
        "mass['I'] = 113\n",
        "mass['L'] = 113\n",
        "mass['N'] = 114\n",
        "mass['D'] = 115\n",
        "mass['K'] = 128\n",
        "mass['Q'] = 128\n",
        "mass['E'] = 129\n",
        "mass['M'] = 131\n",
        "mass['H'] = 137\n",
        "mass['F'] = 147\n",
        "mass['R'] = 156\n",
        "mass['Y'] = 163\n",
        "mass['W'] = 186\n",
        "\n",
        "def Cyclospectrum(dna):\n",
        "\n",
        "  def calcMass(s):\n",
        "    ret = 0\n",
        "    for i in s:\n",
        "      ret+=mass[i]\n",
        "    return ret\n",
        "\n",
        "  ln = len(dna)\n",
        "  dna=dna*2\n",
        "  ret = []\n",
        "  for sln in range(1,ln):\n",
        "    for i in range(0,ln):\n",
        "      # if dna[i:i+sln] not in ret:\n",
        "      ret.append(dna[i:i+sln])\n",
        "  \n",
        "  return sorted([0]+[calcMass(s) for s in ret]+[calcMass(dna[:ln])])"
      ],
      "execution_count": 0,
      "outputs": []
    },
    {
      "cell_type": "code",
      "metadata": {
        "id": "Kb7kvW0DBEoJ",
        "colab_type": "code",
        "outputId": "edfd8e83-b1f0-4922-86a4-ef8d1af0256f",
        "colab": {
          "base_uri": "https://localhost:8080/",
          "height": 34
        }
      },
      "source": [
        "print(Cyclospectrum(\"LEQN\"))"
      ],
      "execution_count": 0,
      "outputs": [
        {
          "output_type": "stream",
          "text": [
            "[0, 113, 114, 128, 129, 227, 242, 242, 257, 355, 356, 370, 371, 484]\n"
          ],
          "name": "stdout"
        }
      ]
    },
    {
      "cell_type": "markdown",
      "metadata": {
        "id": "GqbNLMVh5Q9X",
        "colab_type": "text"
      },
      "source": [
        "## BA4D\tCompute the Number of Peptides of Given Total Mass"
      ]
    },
    {
      "cell_type": "code",
      "metadata": {
        "id": "zfOUcz0FDq1I",
        "colab_type": "code",
        "outputId": "80789559-7986-4d06-901e-d751322a048f",
        "colab": {
          "base_uri": "https://localhost:8080/",
          "height": 34
        }
      },
      "source": [
        "keys = [57, 71, 87, 97, 99, 101, 103, 113, 114, 115, 128, 129, 131, 137, 147, 156, 163, 186]\n",
        "def calc_varinats(m):\n",
        "    ways = [0]*(m + 1)\n",
        "    index = m\n",
        "    ways[m] = 1\n",
        "    while index > 0:\n",
        "        for key in keys:\n",
        "            ways[index-key] += ways[index]\n",
        "\n",
        "        index -= 1\n",
        "        while ways[index] == 0:\n",
        "            index -= 1\n",
        "    return ways[0]\n",
        "n = 1024\n",
        "print(calc_varinats(n))"
      ],
      "execution_count": 0,
      "outputs": [
        {
          "output_type": "stream",
          "text": [
            "14712706211\n"
          ],
          "name": "stdout"
        }
      ]
    },
    {
      "cell_type": "markdown",
      "metadata": {
        "id": "tJw9SFsm5Q7B",
        "colab_type": "text"
      },
      "source": [
        "\n",
        "## BA4E\tFind a Cyclic Peptide with Theoretical Spectrum Matching an Ideal Spectrum"
      ]
    },
    {
      "cell_type": "markdown",
      "metadata": {
        "id": "sQaIueHq8Kwk",
        "colab_type": "text"
      },
      "source": [
        "```\n",
        "CYCLOPEPTIDESEQUENCING(Spectrum)\n",
        "    Peptides ← a set containing only the empty peptide\n",
        "    while Peptides is nonempty\n",
        "        Peptides ← Expand(Peptides)\n",
        "        for each peptide Peptide in Peptides\n",
        "            if Mass(Peptide) = ParentMass(Spectrum)\n",
        "                if Cyclospectrum(Peptide) = Spectrum\n",
        "                    output Peptide\n",
        "                remove Peptide from Peptides\n",
        "            else if Peptide is not consistent with Spectrum\n",
        "                remove Peptide from Peptides\n",
        "```"
      ]
    },
    {
      "cell_type": "code",
      "metadata": {
        "id": "eBVOYpDx75vN",
        "colab_type": "code",
        "colab": {}
      },
      "source": [
        "aa = [57, 71, 87, 97, 99, 101, 103, 113, 114, 115, 128, 129, 131, 137, 147, 156, 163, 186]\n",
        "\n",
        "def Cyclospectrum(dna): ##from list of AA mass, instead of from string\n",
        "\n",
        "  def calcMass(s):\n",
        "    return sum(s)\n",
        "\n",
        "  ln = len(dna)\n",
        "  dna=dna*2\n",
        "  ret = []\n",
        "  for sln in range(1,ln):\n",
        "    for i in range(0,ln):\n",
        "      ret.append(dna[i:i+sln])\n",
        "  \n",
        "  return sorted([0]+[calcMass(s) for s in ret]+[calcMass(dna[:ln])])\n",
        "\n",
        "def okay(pep,spec):\n",
        "  cyc = Cyclospectrum(pep)\n",
        "  for val in cyc:\n",
        "    if val not in spec:\n",
        "      return False\n",
        "  return True\n",
        "\n",
        "def CyclopeptideSequencing(spectrum):\n",
        "  peptides = [] ##every peptide is a list of masses, i.e, its AA\n",
        "  ans = []\n",
        "  ## inserting 1-mers\n",
        "  for a in aa:\n",
        "    if a in spectrum:\n",
        "      peptides.append([a])\n",
        "  # print(\"1-mers:\",peptides)\n",
        "  one_mers=[i[0] for i in peptides]\n",
        "\n",
        "  while len(peptides)>0:\n",
        "    ##Expand\n",
        "    newPeptides=[]\n",
        "    for peptide in peptides:\n",
        "      for a in aa:\n",
        "        newPeptides.append(peptide+[a])\n",
        "    \n",
        "    peptides=[]\n",
        "    for peptide in newPeptides:\n",
        "      if sum(peptide)==spectrum[-1]:\n",
        "        if Cyclospectrum(peptide)==spectrum:\n",
        "          ans.append(peptide)\n",
        "      elif okay(peptide,spectrum):\n",
        "        peptides.append(peptide)\n",
        "\n",
        "  return ans"
      ],
      "execution_count": 0,
      "outputs": []
    },
    {
      "cell_type": "code",
      "metadata": {
        "id": "PDujouXJDQ2p",
        "colab_type": "code",
        "outputId": "6d10b004-0fea-457f-b3bd-d21c6cad878b",
        "colab": {
          "base_uri": "https://localhost:8080/",
          "height": 34
        }
      },
      "source": [
        "ans = CyclopeptideSequencing([0 ,113, 128, 186, 241, 299, 314, 427])\n",
        "for peptide in ans:\n",
        "  print('-'.join([str(i) for i in peptide]),end=' ')"
      ],
      "execution_count": 0,
      "outputs": [
        {
          "output_type": "stream",
          "text": [
            "113-128-186 113-186-128 128-113-186 128-186-113 186-113-128 186-128-113 "
          ],
          "name": "stdout"
        }
      ]
    },
    {
      "cell_type": "markdown",
      "metadata": {
        "id": "wImjs3sE5Q3P",
        "colab_type": "text"
      },
      "source": [
        "\n",
        "## BA4F\tCompute the Score of a Cyclic Peptide Against a Spectrum\n"
      ]
    },
    {
      "cell_type": "code",
      "metadata": {
        "id": "C9K-9690JPWZ",
        "colab_type": "code",
        "outputId": "80377763-5ba0-40ca-b7a5-38bf4a8d3129",
        "colab": {
          "base_uri": "https://localhost:8080/",
          "height": 34
        }
      },
      "source": [
        "mass = {}\n",
        "mass['G'] = 57\n",
        "mass['A'] = 71\n",
        "mass['S'] = 87\n",
        "mass['P'] = 97\n",
        "mass['V'] = 99\n",
        "mass['T'] = 101\n",
        "mass['C'] = 103\n",
        "mass['I'] = 113\n",
        "mass['L'] = 113\n",
        "mass['N'] = 114\n",
        "mass['D'] = 115\n",
        "mass['K'] = 128\n",
        "mass['Q'] = 128\n",
        "mass['E'] = 129\n",
        "mass['M'] = 131\n",
        "mass['H'] = 137\n",
        "mass['F'] = 147\n",
        "mass['R'] = 156\n",
        "mass['Y'] = 163\n",
        "mass['W'] = 186\n",
        "\n",
        "def proteinMass(pep):\n",
        "\tweight = 0\n",
        "\tfor x in pep:\n",
        "\t\tweight += mass[x]\n",
        "\treturn weight\n",
        "\n",
        "def cyclospectrum(peptide):\n",
        "\tspec = [0]\n",
        "\tfor x in range(1,len(peptide)):\n",
        "\t\tfor i in range(len(peptide)):\n",
        "\t\t\tif i+x >= len(peptide):\n",
        "\t\t\t\ty = i+x-len(peptide)\n",
        "\t\t\t\tspec.append(proteinMass(peptide[i:]+peptide[:y]))\n",
        "\t\t\telse:\n",
        "\t\t\t\tspec.append(proteinMass(peptide[i:i+x]))\n",
        "\tspec.append(proteinMass(peptide))\n",
        "\tspec.sort()\n",
        "\treturn spec\n",
        "\n",
        "def score(peptide, spectrum):\n",
        "\tspec = cyclospectrum(peptide)\n",
        "\tscore = 0\n",
        "\ti = 0\n",
        "\tfor x in spectrum:\n",
        "\t\tfor y in range(i,len(spec)):\n",
        "\t\t\tif x == spec[y]:\n",
        "\t\t\t\tscore +=1\n",
        "\t\t\t\ti = y+1\n",
        "\t\t\t\tbreak\n",
        "\treturn score\n",
        "\n",
        "pep = 'DWQPRPNQHGSYTMTNCQQPSLPNERYCLAFSPNRIPYLYD'\n",
        "spec = [0, 57, 57, 87, 87, 87, 87, 97, 97, 97, 97, 97, 101, 103, 113, 113, 113, 113, 114, 114, 114, 114, 115, 115, 128, 128, 128, 129, 129, 131, 137, 144, 144, 147, 147, 147, 147, 156, 156, 163, 163, 163, 163, 171, 184, 186, 194, 200, 201, 210, 210, 211, 211, 215, 216, 224, 225, 225, 230, 232, 234, 243, 250, 253, 253, 256, 258, 260, 260, 260, 260, 261, 261, 266, 275, 276, 276, 278, 281, 281, 285, 291, 292, 294, 297, 297, 298, 301, 307, 312, 314, 318, 319, 324, 338, 340, 346, 350, 353, 357, 361, 362, 363, 367, 368, 373, 373, 374, 379, 379, 381, 381, 389, 391, 393, 394, 395, 399, 403, 405, 405, 407, 411, 411, 416, 422, 423, 425, 429, 431, 435, 436, 438, 439, 440, 444, 448, 453, 454, 464, 471, 475, 478, 482, 486, 490, 492, 493, 494, 496, 500, 506, 508, 510, 510, 517, 518, 520, 522, 524, 526, 526, 528, 531, 535, 536, 540, 544, 551, 551, 551, 552, 552, 553, 554, 562, 567, 567, 573, 579, 579, 587, 591, 592, 597, 609, 611, 614, 615, 618, 621, 622, 633, 634, 636, 637, 638, 641, 645, 648, 649, 650, 651, 654, 659, 660, 664, 664, 665, 665, 665, 668, 669, 673, 679, 682, 682, 688, 691, 692, 696, 699, 700, 701, 704, 707, 715, 725, 735, 742, 745, 747, 749, 750, 760, 762, 762, 764, 764, 765, 766, 768, 772, 774, 778, 778, 778, 779, 782, 785, 791, 793, 796, 797, 797, 802, 804, 804, 805, 811, 812, 812, 814, 816, 817, 820, 829, 832, 846, 855, 859, 865, 871, 872, 873, 875, 875, 878, 879, 891, 892, 893, 893, 894, 898, 905, 909, 910, 911, 911, 911, 913, 915, 915, 916, 917, 919, 921, 925, 925, 925, 929, 931, 933, 952, 956, 958, 960, 960, 962, 967, 973, 975, 980, 983, 988, 995, 1000, 1002, 1002, 1006, 1006, 1008, 1012, 1022, 1022, 1025, 1025, 1026, 1027, 1028, 1038, 1040, 1041, 1045, 1046, 1049, 1054, 1057, 1057, 1059, 1059, 1062, 1065, 1066, 1072, 1072, 1073, 1075, 1078, 1080, 1080, 1082, 1084, 1087, 1095, 1102, 1103, 1117, 1120, 1123, 1124, 1125, 1126, 1128, 1135, 1138, 1140, 1143, 1146, 1153, 1154, 1158, 1159, 1169, 1169, 1170, 1171, 1172, 1174, 1175, 1177, 1185, 1185, 1185, 1187, 1191, 1193, 1194, 1196, 1197, 1201, 1212, 1212, 1216, 1216, 1217, 1222, 1225, 1225, 1232, 1234, 1236, 1252, 1255, 1255, 1256, 1257, 1258, 1259, 1261, 1267, 1272, 1281, 1282, 1282, 1284, 1284, 1288, 1288, 1289, 1290, 1298, 1300, 1309, 1310, 1312, 1313, 1315, 1316, 1319, 1322, 1326, 1330, 1333, 1333, 1338, 1340, 1347, 1348, 1356, 1359, 1363, 1364, 1369, 1369, 1369, 1371, 1373, 1376, 1383, 1383, 1386, 1386, 1395, 1395, 1401, 1409, 1411, 1419, 1424, 1425, 1426, 1427, 1428, 1430, 1431, 1435, 1437, 1438, 1444, 1446, 1447, 1447, 1451, 1452, 1454, 1456, 1461, 1462, 1463, 1466, 1470, 1470, 1473, 1476, 1477, 1482, 1484, 1492, 1506, 1506, 1508, 1511, 1513, 1515, 1520, 1522, 1523, 1534, 1539, 1539, 1540, 1542, 1543, 1544, 1549, 1551, 1553, 1553, 1564, 1564, 1565, 1569, 1573, 1574, 1574, 1575, 1575, 1576, 1576, 1578, 1579, 1590, 1593, 1593, 1594, 1598, 1598, 1607, 1608, 1610, 1617, 1617, 1619, 1620, 1620, 1627, 1631, 1636, 1648, 1652, 1657, 1668, 1670, 1671, 1671, 1677, 1678, 1679, 1681, 1684, 1687, 1687, 1687, 1689, 1690, 1691, 1693, 1695, 1702, 1705, 1706, 1707, 1707, 1716, 1717, 1720, 1722, 1722, 1724, 1727, 1728, 1736, 1738, 1744, 1745, 1745, 1745, 1764, 1764, 1765, 1768, 1774, 1776, 1784, 1784, 1785, 1790, 1794, 1799, 1800, 1803, 1804, 1804, 1804, 1808, 1809, 1815, 1815, 1820, 1822, 1825, 1830, 1831, 1834, 1834, 1836, 1842, 1842, 1849, 1850, 1851, 1852, 1861, 1866, 1869, 1871, 1873, 1873, 1873, 1877, 1881, 1883, 1887, 1891, 1892, 1897, 1899, 1900, 1912, 1917, 1917, 1917, 1918, 1921, 1921, 1931, 1937, 1937, 1938, 1944, 1947, 1948, 1956, 1957, 1959, 1960, 1962, 1963, 1970, 1975, 1978, 1978, 1980, 1980, 1983, 1984, 1984, 1989, 1997, 1998, 1998, 1999, 2001, 2005, 2005, 2012, 2013, 2014, 2014, 2025, 2028, 2031, 2046, 2046, 2050, 2057, 2059, 2060, 2060, 2062, 2062, 2063, 2068, 2070, 2073, 2075, 2075, 2081, 2084, 2084, 2085, 2095, 2098, 2100, 2102, 2107, 2108, 2112, 2113, 2115, 2126, 2127, 2127, 2127, 2127, 2128, 2141, 2142, 2143, 2145, 2147, 2149, 2160, 2161, 2170, 2170, 2171, 2172, 2173, 2174, 2176, 2177, 2185, 2187, 2187, 2188, 2197, 2199, 2199, 2202, 2204, 2205, 2209, 2209, 2213, 2215, 2223, 2228, 2238, 2240, 2241, 2241, 2242, 2242, 2244, 2244, 2256, 2257, 2258, 2260, 2267, 2271, 2274, 2278, 2284, 2284, 2286, 2286, 2289, 2290, 2296, 2298, 2299, 2300, 2302, 2302, 2316, 2317, 2324, 2335, 2335, 2336, 2337, 2338, 2339, 2342, 2343, 2343, 2344, 2355, 2356, 2356, 2357, 2357, 2359, 2360, 2361, 2365, 2368, 2371, 2372, 2381, 2381, 2387, 2388, 2395, 2399, 2413, 2413, 2417, 2423, 2427, 2428, 2430, 2431, 2433, 2436, 2437, 2443, 2447, 2448, 2449, 2451, 2452, 2453, 2453, 2458, 2464, 2468, 2469, 2473, 2479, 2484, 2484, 2485, 2486, 2488, 2489, 2490, 2494, 2500, 2501, 2504, 2506, 2507, 2509, 2510, 2514, 2520, 2524, 2524, 2538, 2542, 2549, 2550, 2556, 2556, 2565, 2566, 2569, 2572, 2576, 2577, 2578, 2580, 2580, 2581, 2581, 2582, 2593, 2594, 2594, 2595, 2598, 2599, 2600, 2601, 2602, 2602, 2613, 2620, 2621, 2635, 2635, 2637, 2638, 2639, 2641, 2647, 2648, 2651, 2651, 2653, 2653, 2659, 2663, 2666, 2670, 2677, 2679, 2680, 2681, 2693, 2693, 2695, 2695, 2696, 2696, 2697, 2699, 2709, 2714, 2722, 2724, 2728, 2728, 2732, 2733, 2735, 2738, 2738, 2740, 2749, 2750, 2750, 2752, 2760, 2761, 2763, 2764, 2765, 2766, 2767, 2767, 2776, 2777, 2788, 2790, 2792, 2794, 2795, 2796, 2809, 2810, 2810, 2810, 2810, 2811, 2822, 2824, 2825, 2829, 2830, 2835, 2837, 2839, 2842, 2852, 2853, 2853, 2856, 2862, 2862, 2864, 2867, 2869, 2874, 2875, 2875, 2877, 2877, 2878, 2880, 2887, 2891, 2891, 2906, 2909, 2912, 2923, 2923, 2924, 2925, 2932, 2932, 2936, 2938, 2939, 2939, 2940, 2948, 2953, 2953, 2954, 2957, 2957, 2959, 2959, 2962, 2967, 2974, 2975, 2977, 2978, 2980, 2981, 2989, 2990, 2993, 2999, 3000, 3000, 3006, 3016, 3016, 3019, 3020, 3020, 3020, 3025, 3037, 3038, 3040, 3045, 3046, 3050, 3054, 3056, 3060, 3064, 3064, 3064, 3066, 3068, 3071, 3076, 3085, 3086, 3087, 3088, 3095, 3095, 3101, 3103, 3103, 3106, 3107, 3112, 3115, 3117, 3122, 3122, 3128, 3129, 3133, 3133, 3133, 3134, 3137, 3138, 3143, 3147, 3152, 3153, 3153, 3161, 3163, 3169, 3172, 3173, 3173, 3192, 3192, 3192, 3193, 3199, 3201, 3209, 3210, 3213, 3215, 3215, 3217, 3220, 3221, 3230, 3230, 3231, 3232, 3235, 3242, 3244, 3246, 3247, 3248, 3250, 3250, 3250, 3253, 3256, 3258, 3259, 3260, 3266, 3266, 3267, 3269, 3280, 3285, 3289, 3301, 3306, 3310, 3317, 3317, 3318, 3320, 3320, 3327, 3329, 3330, 3339, 3339, 3343, 3344, 3344, 3347, 3358, 3359, 3361, 3361, 3362, 3362, 3363, 3363, 3364, 3368, 3372, 3373, 3373, 3384, 3384, 3386, 3388, 3393, 3394, 3395, 3397, 3398, 3398, 3403, 3414, 3415, 3417, 3422, 3424, 3426, 3429, 3431, 3431, 3445, 3453, 3455, 3460, 3461, 3464, 3467, 3467, 3471, 3474, 3475, 3476, 3481, 3483, 3485, 3486, 3490, 3490, 3491, 3493, 3499, 3500, 3502, 3506, 3507, 3509, 3510, 3511, 3512, 3513, 3518, 3526, 3528, 3536, 3542, 3542, 3551, 3551, 3554, 3554, 3561, 3564, 3566, 3568, 3568, 3568, 3573, 3574, 3578, 3581, 3589, 3590, 3597, 3599, 3604, 3604, 3607, 3611, 3615, 3618, 3621, 3622, 3624, 3625, 3627, 3628, 3637, 3639, 3647, 3648, 3649, 3649, 3653, 3653, 3655, 3655, 3656, 3665, 3670, 3676, 3678, 3679, 3680, 3681, 3682, 3682, 3685, 3701, 3703, 3705, 3712, 3712, 3715, 3720, 3721, 3721, 3725, 3725, 3736, 3740, 3741, 3743, 3744, 3746, 3750, 3752, 3752, 3752, 3760, 3762, 3763, 3765, 3766, 3767, 3768, 3768, 3778, 3779, 3783, 3784, 3791, 3794, 3797, 3799, 3802, 3809, 3811, 3812, 3813, 3814, 3817, 3820, 3834, 3835, 3842, 3850, 3853, 3855, 3857, 3857, 3859, 3862, 3864, 3865, 3865, 3871, 3872, 3875, 3878, 3878, 3880, 3880, 3883, 3888, 3891, 3892, 3896, 3897, 3899, 3909, 3910, 3911, 3912, 3912, 3915, 3915, 3925, 3929, 3931, 3931, 3935, 3935, 3937, 3942, 3949, 3954, 3957, 3962, 3964, 3970, 3975, 3977, 3977, 3979, 3981, 3985, 4004, 4006, 4008, 4012, 4012, 4012, 4016, 4018, 4020, 4021, 4022, 4022, 4024, 4026, 4026, 4026, 4027, 4028, 4032, 4039, 4043, 4044, 4044, 4045, 4046, 4058, 4059, 4062, 4062, 4064, 4065, 4066, 4072, 4078, 4082, 4091, 4105, 4108, 4117, 4120, 4121, 4123, 4125, 4125, 4126, 4132, 4133, 4133, 4135, 4140, 4140, 4141, 4144, 4146, 4152, 4155, 4158, 4159, 4159, 4159, 4163, 4165, 4169, 4171, 4172, 4173, 4173, 4175, 4175, 4177, 4187, 4188, 4190, 4192, 4195, 4202, 4212, 4222, 4230, 4233, 4236, 4237, 4238, 4241, 4245, 4246, 4249, 4255, 4255, 4258, 4264, 4268, 4269, 4272, 4272, 4272, 4273, 4273, 4277, 4278, 4283, 4286, 4287, 4288, 4289, 4292, 4296, 4299, 4300, 4301, 4303, 4304, 4315, 4316, 4319, 4322, 4323, 4326, 4328, 4340, 4345, 4346, 4350, 4358, 4358, 4364, 4370, 4370, 4375, 4383, 4384, 4385, 4385, 4386, 4386, 4386, 4393, 4397, 4401, 4402, 4406, 4409, 4411, 4411, 4413, 4415, 4417, 4419, 4420, 4427, 4427, 4429, 4431, 4437, 4441, 4443, 4444, 4445, 4447, 4451, 4455, 4459, 4462, 4466, 4473, 4483, 4484, 4489, 4493, 4497, 4498, 4499, 4501, 4502, 4506, 4508, 4512, 4514, 4515, 4521, 4526, 4526, 4530, 4532, 4532, 4534, 4538, 4542, 4543, 4544, 4546, 4548, 4556, 4556, 4558, 4558, 4563, 4564, 4564, 4569, 4570, 4574, 4575, 4576, 4580, 4584, 4587, 4591, 4597, 4599, 4613, 4618, 4619, 4623, 4625, 4630, 4636, 4639, 4640, 4640, 4643, 4645, 4646, 4652, 4656, 4656, 4659, 4661, 4661, 4662, 4671, 4676, 4676, 4677, 4677, 4677, 4677, 4679, 4681, 4684, 4684, 4687, 4694, 4703, 4705, 4707, 4712, 4712, 4713, 4721, 4722, 4726, 4726, 4727, 4727, 4736, 4737, 4743, 4751, 4753, 4766, 4774, 4774, 4774, 4774, 4781, 4781, 4790, 4790, 4790, 4790, 4793, 4793, 4800, 4806, 4808, 4808, 4809, 4809, 4809, 4822, 4822, 4823, 4823, 4823, 4823, 4824, 4824, 4824, 4824, 4834, 4836, 4840, 4840, 4840, 4840, 4840, 4850, 4850, 4850, 4850, 4880, 4880, 4937]\n",
        "print(score(pep, spec))"
      ],
      "execution_count": 0,
      "outputs": [
        {
          "output_type": "stream",
          "text": [
            "519\n"
          ],
          "name": "stdout"
        }
      ]
    },
    {
      "cell_type": "markdown",
      "metadata": {
        "id": "y_n_sk7M5Q0f",
        "colab_type": "text"
      },
      "source": [
        "## BA4G\tImplement LeaderboardCyclopeptideSequencing\n"
      ]
    },
    {
      "cell_type": "markdown",
      "metadata": {
        "id": "XUIReV6wO_3h",
        "colab_type": "text"
      },
      "source": [
        "```\n",
        "    LEADERBOARDCYCLOPEPTIDESEQUENCING(Spectrum, N)\n",
        "        Leaderboard ← {0-peptide}\n",
        "        LeaderPeptide ← 0-peptide\n",
        "        while Leaderboard is non-empty\n",
        "            Leaderboard ← Expand(Leaderboard)\n",
        "            for each Peptide in Leaderboard\n",
        "                if Mass(Peptide) = ParentMass(Spectrum)\n",
        "                    if Score(Peptide, Spectrum) > Score(LeaderPeptide, Spectrum)\n",
        "                        LeaderPeptide ← Peptide\n",
        "                else if Mass(Peptide) > ParentMass(Spectrum)\n",
        "                    remove Peptide from Leaderboard\n",
        "            Leaderboard ← Cut(Leaderboard, Spectrum, N)\n",
        "        output LeaderPeptide\n",
        "```"
      ]
    },
    {
      "cell_type": "code",
      "metadata": {
        "id": "2s_uaZg4Of5f",
        "colab_type": "code",
        "colab": {}
      },
      "source": [
        "def LeaderboardCyclopeptideSequencing(N,spectrum):\n",
        "  leaderboard = [[]]\n",
        "  leaderPeptide = []\n",
        "  while len(leaderboard)>0:\n",
        "    leaderboard = expand(leaderboard)\n",
        "    newboard=[]\n",
        "    for peptide in leaderboard:\n",
        "      if sum(peptide)==spectrum[-1]:\n",
        "        if score(peptide,spectrum)>score(leaderPeptide,spectrum):\n",
        "          leaderPeptide=peptide\n",
        "        newboard.append(peptide)\n",
        "      elif sum(peptide)<spectrum[-1]:\n",
        "        newboard.append(peptide)\n",
        "    if len(newboard)>0:\n",
        "      leaderboard = cut(newboard,spectrum,N)\n",
        "    else:\n",
        "      break;\n",
        "  return leaderPeptide\n",
        "\n",
        "def expand(board):\n",
        "  ret = []\n",
        "  for pep in board:\n",
        "    for a in aa:\n",
        "      ret.append(pep+[a])\n",
        "  return ret\n",
        "\n",
        "def Cyclospectrum(dna): ##from list of AA mass, instead of from string\n",
        "\n",
        "  def calcMass(s):\n",
        "    return sum(s)\n",
        "\n",
        "  ln = len(dna)\n",
        "  dna=dna*2\n",
        "  ret = []\n",
        "  for sln in range(1,ln):\n",
        "    for i in range(0,ln):\n",
        "      ret.append(dna[i:i+sln])\n",
        "  \n",
        "  return sorted([0]+[calcMass(s) for s in ret]+[calcMass(dna[:ln])])\n",
        "\n",
        "def score(pep, spec):\n",
        "  pep = Cyclospectrum(pep)\n",
        "  sc = 0\n",
        "  for p in pep:\n",
        "    if p in spec:\n",
        "      sc+=1\n",
        "  return sc\n",
        "\n",
        "def cut(board,spec,N):\n",
        "  scores = []\n",
        "  for pep in board:\n",
        "    scores.append(score(pep,spec))\n",
        "\n",
        "  if N>len(scores):\n",
        "    N=len(scores)\n",
        "  # print(n,len(scores))\n",
        "  val = sorted(scores,reverse=True)[N-1]\n",
        "\n",
        "  ids = [i for i,v in enumerate(scores) if v>=val]\n",
        "\n",
        "  return [board[i] for i in ids]"
      ],
      "execution_count": 0,
      "outputs": []
    },
    {
      "cell_type": "code",
      "metadata": {
        "id": "JzusOvvLaanP",
        "colab_type": "code",
        "outputId": "167d5059-8468-4c68-ce74-349984cc25f7",
        "colab": {
          "base_uri": "https://localhost:8080/",
          "height": 34
        }
      },
      "source": [
        "N = 10\n",
        "spec =  [int(i) for i in\n",
        "         \"0 71 113 129 147 200 218 260 313 331 347 389 460\".split()]\n",
        "ans = LeaderboardCyclopeptideSequencing(N,spec)\n",
        "'-'.join([str(i) for i in ans])"
      ],
      "execution_count": 0,
      "outputs": [
        {
          "output_type": "execute_result",
          "data": {
            "text/plain": [
              "'71-147-113-129'"
            ]
          },
          "metadata": {
            "tags": []
          },
          "execution_count": 124
        }
      ]
    },
    {
      "cell_type": "markdown",
      "metadata": {
        "id": "4L4-XpuZ5QwQ",
        "colab_type": "text"
      },
      "source": [
        "## BA4H\tGenerate the Convolution of a Spectrum\n"
      ]
    },
    {
      "cell_type": "code",
      "metadata": {
        "id": "lX4W2RM6DL9l",
        "colab_type": "code",
        "outputId": "a9a6bb6c-c5f2-4905-d838-39985152a034",
        "colab": {
          "base_uri": "https://localhost:8080/",
          "height": 52
        }
      },
      "source": [
        "d = {}\n",
        "arr = input().split(' ')\n",
        "arr = [int(x) for x in arr]\n",
        "for x in arr:\n",
        "  for y in arr:\n",
        "    if x-y <= 0 :\n",
        "      continue;\n",
        "    if x-y in d:\n",
        "      d[x-y] +=1\n",
        "    else:\n",
        "      d[x-y] = 1\n",
        "for key,value in d.items():\n",
        "  for i in range(value):\n",
        "    print(key, end = \" \")"
      ],
      "execution_count": 0,
      "outputs": [
        {
          "output_type": "stream",
          "text": [
            "0 137 186 323\n",
            "137 137 186 186 49 323 "
          ],
          "name": "stdout"
        }
      ]
    },
    {
      "cell_type": "markdown",
      "metadata": {
        "id": "lowYX-3M53fM",
        "colab_type": "text"
      },
      "source": [
        "## BA4I\tImplement ConvolutionCyclopeptideSequencing"
      ]
    },
    {
      "cell_type": "code",
      "metadata": {
        "id": "O_k57pT5ejZa",
        "colab_type": "code",
        "colab": {}
      },
      "source": [
        "def convolution(M,arr):\n",
        "  d = {}\n",
        "  for x in arr:\n",
        "    for y in arr:\n",
        "      if (x-y<57) | (x-y>200):\n",
        "        continue;\n",
        "      if x-y in d:\n",
        "        d[x-y] +=1\n",
        "      else:\n",
        "        d[x-y] = 1\n",
        "\n",
        "  val = list(d.items())[M-1][1]\n",
        "  return [i for i,v in d.items() if v>=val]\n",
        "\n",
        "## modified leaderboard cyclopeptide sequencing\n",
        "\n",
        "def ConvolutionCyclopeptideSequencing(N,spectrum,M):\n",
        "  aa = convolution(M,spectrum)\n",
        "  leaderboard = [[]]\n",
        "  leaderPeptide = []\n",
        "  while len(leaderboard)>0:\n",
        "    leaderboard = expand(leaderboard,aa)\n",
        "    newboard=[]\n",
        "    for peptide in leaderboard:\n",
        "      if sum(peptide)==spectrum[-1]:\n",
        "        if score(peptide,spectrum)>score(leaderPeptide,spectrum):\n",
        "          leaderPeptide=peptide\n",
        "        newboard.append(peptide)\n",
        "      elif sum(peptide)<spectrum[-1]:\n",
        "        newboard.append(peptide)\n",
        "    if len(newboard)>0:\n",
        "      leaderboard = cut(newboard,spectrum,N)\n",
        "    else:\n",
        "      break;\n",
        "  return leaderPeptide\n",
        "\n",
        "def expand(board,aa):\n",
        "  ret = []\n",
        "  for pep in board:\n",
        "    for a in aa:\n",
        "      ret.append(pep+[a])\n",
        "  return ret"
      ],
      "execution_count": 0,
      "outputs": []
    },
    {
      "cell_type": "code",
      "metadata": {
        "id": "yhP_rB4diwjQ",
        "colab_type": "code",
        "outputId": "f3510e90-bf7f-47cd-d4a2-c390126c59a2",
        "colab": {
          "base_uri": "https://localhost:8080/",
          "height": 34
        }
      },
      "source": [
        "M=20\n",
        "N=60\n",
        "spectrum=\"57 57 71 99 129 137 170 186 194 208 228 265 285 299 307 323 356 364 394 422 493\"\n",
        "spectrum=[int(i) for i in spectrum.split()]\n",
        "\n",
        "ConvolutionCyclopeptideSequencing(N,spectrum,M)"
      ],
      "execution_count": 0,
      "outputs": [
        {
          "output_type": "execute_result",
          "data": {
            "text/plain": [
              "[99, 71, 137, 57, 58, 71]"
            ]
          },
          "metadata": {
            "tags": []
          },
          "execution_count": 148
        }
      ]
    },
    {
      "cell_type": "markdown",
      "metadata": {
        "id": "MJO98vEM53lE",
        "colab_type": "text"
      },
      "source": [
        "## BA4J\tGenerate the Theoretical Spectrum of a Linear Peptide"
      ]
    },
    {
      "cell_type": "markdown",
      "metadata": {
        "id": "8lihyos9mgzi",
        "colab_type": "text"
      },
      "source": [
        "```\n",
        "LinearSpectrum(Peptide, AminoAcid, AminoAcidMass)\n",
        "    PrefixMass(0) ← 0\n",
        "    for i ← 1 to |Peptide|\n",
        "        for j ← 1 to 20\n",
        "            if AminoAcid(j) =  i-th amino acid in Peptide\n",
        "                PrefixMass(i) ← PrefixMass(i − 1) + AminoAcidMass(j)\n",
        "    LinearSpectrum ← a list consisting of the single integer 0\n",
        "    for i ← 0 to |Peptide| − 1\n",
        "        for j ← i + 1 to |Peptide|\n",
        "            add PrefixMass(j) − PrefixMass(i) to LinearSpectrum\n",
        "    return sorted list LinearSpectrum\n",
        "```"
      ]
    },
    {
      "cell_type": "code",
      "metadata": {
        "id": "NNranF8dlMP_",
        "colab_type": "code",
        "colab": {}
      },
      "source": [
        "def LinearSpectrum(peptide, aa, aam):\n",
        "  prefixMass=[0]*(len(peptide)+1)\n",
        "  for i,_ in enumerate(peptide):\n",
        "    for j in range(20):\n",
        "      if aa[j]==peptide[i]:\n",
        "        prefixMass[i+1]=prefixMass[i]+aam[j]\n",
        "  \n",
        "  linearSpec = [0]\n",
        "  for i in range(len(peptide)):\n",
        "    for j in range(i+1,len(peptide)+1):\n",
        "      linearSpec.append(prefixMass[j]-prefixMass[i])\n",
        "\n",
        "  return sorted(linearSpec)"
      ],
      "execution_count": 0,
      "outputs": []
    },
    {
      "cell_type": "code",
      "metadata": {
        "id": "3kiO8KFQlMM_",
        "colab_type": "code",
        "outputId": "53b44e47-993a-491c-9689-2f362611e77f",
        "colab": {
          "base_uri": "https://localhost:8080/",
          "height": 34
        }
      },
      "source": [
        "aa = ['G','A','S','P','V','T','C','I','L','N','D','K','Q','E','M','H','F','R','Y','W']\n",
        "aam = [57,71,87,97,99,101,103,113,113,114,115,128,128,129,131,137,147,156,163,186]\n",
        "\n",
        "\n",
        "peptide=\"NQEL\"\n",
        "LinearSpectrum(peptide, aa, aam)"
      ],
      "execution_count": 0,
      "outputs": [
        {
          "output_type": "execute_result",
          "data": {
            "text/plain": [
              "[0, 113, 114, 128, 129, 242, 242, 257, 370, 371, 484]"
            ]
          },
          "metadata": {
            "tags": []
          },
          "execution_count": 158
        }
      ]
    },
    {
      "cell_type": "markdown",
      "metadata": {
        "id": "0gZuRwjb53vI",
        "colab_type": "text"
      },
      "source": [
        "## BA4K\tCompute the Score of a Linear Peptide"
      ]
    },
    {
      "cell_type": "code",
      "metadata": {
        "id": "zvYAZemvpk7B",
        "colab_type": "code",
        "outputId": "df6450dd-0c46-4819-91e3-241500b209c2",
        "colab": {
          "base_uri": "https://localhost:8080/",
          "height": 34
        }
      },
      "source": [
        "def LinearScore(peptide,spectrum):\n",
        "  return score(LinearSpectrum(peptide,aa,aam),spectrum)\n",
        "\n",
        "def score(pep, spec):\n",
        "  sc = 0\n",
        "  for p in pep:\n",
        "    if p in spec:\n",
        "      sc+=1\n",
        "  return sc\n",
        "\n",
        "pep=\"NQEL\"\n",
        "spec=[int(i) for i in\n",
        "      \"0 99 113 114 128 227 257 299 355 356 370 371 484\".split()]\n",
        "LinearScore(pep,spec)"
      ],
      "execution_count": 0,
      "outputs": [
        {
          "output_type": "execute_result",
          "data": {
            "text/plain": [
              "8"
            ]
          },
          "metadata": {
            "tags": []
          },
          "execution_count": 161
        }
      ]
    },
    {
      "cell_type": "markdown",
      "metadata": {
        "id": "Xr9uh1yH6BV4",
        "colab_type": "text"
      },
      "source": [
        "## BA4L\tTrim a Peptide Leaderboard"
      ]
    },
    {
      "cell_type": "code",
      "metadata": {
        "id": "S0Xm1hiS6CoC",
        "colab_type": "code",
        "colab": {}
      },
      "source": [
        "def trim(peps,spec,N):\n",
        "  board = [LinearSpectrum(pep,aa,aam) for pep in peps]\n",
        "  scores = []\n",
        "  for pep in board:\n",
        "    scores.append(score(pep,spec))\n",
        "\n",
        "  if N>len(scores):\n",
        "    N=len(scores)\n",
        "  # print(n,len(scores))\n",
        "  val = sorted(scores,reverse=True)[N-1]\n",
        "  ids = [i for i,v in enumerate(scores) if v>=val]\n",
        "  return [peps[i] for i in ids]"
      ],
      "execution_count": 0,
      "outputs": []
    },
    {
      "cell_type": "code",
      "metadata": {
        "id": "6Wk30O-trFiy",
        "colab_type": "code",
        "outputId": "1ea23446-c048-4e44-9183-32034b7e6c9b",
        "colab": {
          "base_uri": "https://localhost:8080/",
          "height": 34
        }
      },
      "source": [
        "peps = ['LAST', 'ALST', 'TLLT', 'TQAS']\n",
        "spec = [0,71,87,101,113,158,184,188,259,271,372]\n",
        "N=2\n",
        "\n",
        "trim(peps,spec,N)"
      ],
      "execution_count": 0,
      "outputs": [
        {
          "output_type": "execute_result",
          "data": {
            "text/plain": [
              "['LAST', 'ALST']"
            ]
          },
          "metadata": {
            "tags": []
          },
          "execution_count": 165
        }
      ]
    },
    {
      "cell_type": "code",
      "metadata": {
        "id": "QJUrQIscrj0t",
        "colab_type": "code",
        "colab": {}
      },
      "source": [
        ""
      ],
      "execution_count": 0,
      "outputs": []
    }
  ]
}