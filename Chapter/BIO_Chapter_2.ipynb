{
  "nbformat": 4,
  "nbformat_minor": 0,
  "metadata": {
    "colab": {
      "name": "BIO_Chapter_2.ipynb",
      "provenance": [],
      "collapsed_sections": [
        "XaE5eVMItspV",
        "u05eEUyt2W3I",
        "bOo8KcD_2-aJ",
        "xrh3-SusQ_q8",
        "fRvPnroBSi8L"
      ]
    },
    "kernelspec": {
      "name": "python3",
      "display_name": "Python 3"
    }
  },
  "cells": [
    {
      "cell_type": "markdown",
      "metadata": {
        "id": "XaE5eVMItspV",
        "colab_type": "text"
      },
      "source": [
        "## BA2A Implement MotifEnumeration"
      ]
    },
    {
      "cell_type": "code",
      "metadata": {
        "id": "Ak2sibZgunpO",
        "colab_type": "code",
        "colab": {}
      },
      "source": [
        "def hamming(a,b): \n",
        "  '''\n",
        "  finding hamming distance between \n",
        "  two dna sequence a and b\n",
        "  '''\n",
        "  cnt=0\n",
        "  for i in range(len(a)):\n",
        "    if a[i]!=b[i]:\n",
        "      cnt+=1\n",
        "  return cnt"
      ],
      "execution_count": 0,
      "outputs": []
    },
    {
      "cell_type": "code",
      "metadata": {
        "id": "kK6YiveOujuq",
        "colab_type": "code",
        "colab": {}
      },
      "source": [
        "def appPatternMatch(pat,text,d):\n",
        "  '''\n",
        "  We say that a  Pattern appears as a substring of Text with at most d mismatches if there is some \n",
        "  substring Pattern of Text having d or fewer mismatches with Pattern\n",
        "  '''\n",
        "  ln = len(pat)\n",
        "  \n",
        "  for i in range(len(text)-ln+1):\n",
        "    if hamming(pat,text[i:i+ln])<=d:\n",
        "      return True\n",
        "  return False\n"
      ],
      "execution_count": 0,
      "outputs": []
    },
    {
      "cell_type": "code",
      "metadata": {
        "id": "njAmb4ELtxN1",
        "colab_type": "code",
        "outputId": "b502fffe-9edb-44f5-9d26-67d0269c3918",
        "colab": {
          "base_uri": "https://localhost:8080/",
          "height": 34
        }
      },
      "source": [
        "import itertools\n",
        "\n",
        "def motif(Dna,k,d):\n",
        "  pats = [''.join(i) for i in itertools.product('ATCG', repeat = k)]\n",
        "  ans=[]\n",
        "\n",
        "  for pat in pats:\n",
        "    cnt=1\n",
        "    for dna in Dna:\n",
        "      if not appPatternMatch(pat,dna,d):\n",
        "        cnt=0\n",
        "        break\n",
        "    if cnt==1:\n",
        "      ans.append(pat)\n",
        "  return ans\n",
        "\n",
        "\n",
        "Dna = [\"ATTTGGC\",\"TGCCTTA\",\"CGGTATC\",\"GAAAATT\"]\n",
        "motif(Dna,3,1)"
      ],
      "execution_count": 0,
      "outputs": [
        {
          "output_type": "execute_result",
          "data": {
            "text/plain": [
              "['ATA', 'ATT', 'TTT', 'GTT']"
            ]
          },
          "metadata": {
            "tags": []
          },
          "execution_count": 11
        }
      ]
    },
    {
      "cell_type": "code",
      "metadata": {
        "id": "liuLZYw4xNd9",
        "colab_type": "code",
        "outputId": "c74c297b-f002-450d-b8f6-feab20046f69",
        "colab": {
          "base_uri": "https://localhost:8080/",
          "height": 72
        }
      },
      "source": [
        "Dna = input().split()\n",
        "for i in motif(Dna,5,2):\n",
        "  print(i,end=\" \")"
      ],
      "execution_count": 0,
      "outputs": [
        {
          "output_type": "stream",
          "text": [
            "TGGCAAGACGACAGCCACTGCCTGA GCTTTAGACGCCCTTAGAGCGTCGC TTTTATGGGGGCACGTCTTTGCGGC TCTAGACCAAAGAGGTCACGCGACC AAACGAGAGCCCGTGCCAGTCGCCC AACGAAGAAATGACGGCTGCAGAAA TTCCATCATATAGTGACGGACCACG TATTAAAACGGTCCCTAGGACACTC AATCTTATAACAGTGACAAAGAACG AGTGAACTGAAGACGAGAGCCAGCG\n",
            "AAATC AAATG AAACG AAAGT AAAGG AATAG AATCG AATGT AATGC AACAT AACAC AACTC AACCT AACGA AACGT AACGC AACGG AAGAC AAGAG AAGTC AAGTG AAGCA AAGCG AAGGT AAGGC AAGGG ATAAG ATATC ATATG ATACG ATAGA ATAGC ATAGG ATTCA ATTGA ATTGG ATCAC ATCAG ATCTA ATCGA ATCGC ATGAC ATGAG ATGTC ATGCA ATGCC ATGGC ACAAC ACAAG ACATC ACATG ACACA ACACC ACACG ACAGC ACAGG ACTAT ACTAC ACTCC ACCAC ACCTA ACCTC ACCTG ACCGT ACCGC ACCGG ACGAA ACGAT ACGAC ACGAG ACGTA ACGTT ACGTG ACGCA ACGCT ACGGA ACGGT ACGGC ACGGG AGAAC AGATC AGATG AGACA AGACT AGACG AGAGC AGAGG AGTAC AGTTA AGTCA AGTCT AGTCG AGTGT AGTGC AGTGG AGCAA AGCAT AGCAC AGCAG AGCTC AGCCA AGCCT AGCCG AGCGA AGCGT AGCGC AGCGG AGGAC AGGAG AGGTC AGGTG AGGCA AGGCC AGGGA AGGGC AGGGG TAAAG TAATG TAACG TAAGA TAAGT TAAGG TATAG TATGA TACAG TACCG TACGA TACGG TAGAT TAGAG TAGTG TAGCA TAGCT TAGCG TAGGA TTACC TTACG TTAGA TTCAA TTCAC TTCAG TTCCA TTCGA TTGAC TTGCC TCAAG TCACT TCACC TCACG TCAGT TCAGG TCTAC TCTAG TCTGT TCCAG TCCTG TCCGA TCGAC TGACA TGACT TGACG TGAGA TGAGG TGTAA TGTCA TGTCC TGTCG TGTGA TGCAC TGCCA TGCCC TGCCG TGCGA TGGAA TGGAC TGGTG TGGCC CAATT CAACG CAAGA CAAGC CATAG CATTG CATGA CATGG CACAC CACAG CACTA CACTG CACCA CACCT CACCG CACGA CACGG CAGTT CAGTC CAGTG CAGCA CAGCG CAGGC CAGGG CTAAT CTATA CTACG CTAGG CTTAC CTTGA CTCAC CTCAG CTGAG CTGTA CTGTC CTGCC CTGCG CTGGC CCAAG CCATG CCACA CCACT CCACG CCAGT CCAGC CCTAG CCGAC CCGTA CCGTC CCGCG CCGGT CGAAC CGATG CGACA CGACT CGACC CGACG CGAGT CGAGC CGAGG CGTAA CGTCA CGTGC CGTGG CGCAA CGCAC CGCAG CGCCA CGCGA CGGAC CGGTA CGGTG CGGCA CGGCG GAAAC GAAAG GAATG GAACA GAACT GAACC GAACG GAAGC GAAGG GATAT GATAC GATAG GATCA GATCG GATGA GATGG GACAA GACAT GACAC GACAG GACTA GACTC GACTG GACCA GACCT GACCC GACCG GACGA GACGT GACGC GACGG GAGAA GAGAC GAGAG GAGTA GAGCA GAGCG GAGGA GAGGC GAGGG GTAAC GTAAG GTACA GTACG GTAGC GTAGG GTTAC GTTCC GTTGA GTCAT GTCAC GTCAG GTCTA GTCTG GTCCA GTCCG GTCGA GTCGT GTCGC GTGAC GTGTC GTGCA GTGCT GTGCC GTGCG GTGGA GTGGC GCAAT GCAAC GCACA GCACT GCACC GCACG GCAGA GCAGT GCTAT GCTAC GCTCA GCTCG GCCAA GCCAT GCCAC GCCAG GCCTA GCCCA GCCCG GCCGA GCCGT GCGAT GCGAC GCGAG GCGTA GCGTC GCGCC GCGGC GGAAC GGAAG GGACA GGACC GGACG GGAGA GGAGC GGAGG GGTCT GGTCG GGTGC GGCAT GGCAC GGCCA GGCCG GGCGA GGGAC GGGAG GGGTG GGGCA GGGCC GGGCG "
          ],
          "name": "stdout"
        }
      ]
    },
    {
      "cell_type": "markdown",
      "metadata": {
        "id": "eb2JPYPt2THr",
        "colab_type": "text"
      },
      "source": [
        "## BA2B\tFind a Median String"
      ]
    },
    {
      "cell_type": "code",
      "metadata": {
        "id": "-t3WYJsryj3R",
        "colab_type": "code",
        "colab": {}
      },
      "source": [
        "import itertools\n",
        "\n",
        "def medianString(k,dnas):\n",
        "  def ham(a,b):\n",
        "    ret=0;\n",
        "    for i in range(len(a)):\n",
        "      if a[i]!=b[i]:\n",
        "        ret+=1\n",
        "    return ret\n",
        "  \n",
        "  def d(pat,dna):\n",
        "    mn=len(dna)\n",
        "    for i in range(len(dna)-k):\n",
        "      mn=min(mn,ham(pat,dna[i:i+k]))\n",
        "    return mn\n",
        "  \n",
        "  def d_all(pat,dnas):\n",
        "    ret=0;\n",
        "    for dna in dnas:\n",
        "      ret+=d(pat,dna)\n",
        "    return ret\n",
        "  \n",
        "  kmers=[''.join(i) for i in itertools.product('ATCG', repeat = k)]\n",
        "  \n",
        "  ret=\"\"\n",
        "  mn=len(dnas[0])\n",
        "  for kmer in kmers:\n",
        "    m = d_all(kmer,dnas)\n",
        "    if m<mn:\n",
        "      mn=m;\n",
        "      ret=kmer\n",
        "    \n",
        "  return ret"
      ],
      "execution_count": 0,
      "outputs": []
    },
    {
      "cell_type": "code",
      "metadata": {
        "colab_type": "code",
        "id": "FWgjElO4tHZY",
        "colab": {}
      },
      "source": [
        "s='''AAGCCAAGCTGGGGGTAGAGCACAGATAGGTCCGGTCTGCAC\n",
        "GCGCTGACTACGCACCGGTCCGGTGTGCCTCGGGTACTTATC\n",
        "CGAAGTTCCCGTAGGTGGGCCCTGACCCTTTTCAGATATTTG\n",
        "TCCGGTATTCCATGGTAGGGAGGATCTCGTTTGCCTACCGGG\n",
        "GACCGCGCTGTTCCCCGTATCCGATCCCGTGCTAAGTCTGTT\n",
        "CCATGTGAATAAGCGGAGTCCCGTCTGACAGCTTGTAATAGC\n",
        "CCCAACCGACATCTTACGCGCCCGTCCCGTGATCCTTTATTG\n",
        "TACGGGTCCTGTATCCCCAATTTCCCGGATACAAAATGTCTC\n",
        "CTGAGTTCCGGTCTGCTACTGGGCTAAGGACGTCGGCATTCC\n",
        "ACAAAATCGTGGTCCTGTCGCGATCATCAAGACGGGACTAGT'''\n",
        "s=s.split('\\n')"
      ],
      "execution_count": 0,
      "outputs": []
    },
    {
      "cell_type": "code",
      "metadata": {
        "id": "68uzcRX-9Eft",
        "colab_type": "code",
        "outputId": "f3302ec9-8f62-4dc4-b387-4b6434eefc3d",
        "colab": {
          "base_uri": "https://localhost:8080/",
          "height": 34
        }
      },
      "source": [
        "medianString(6,s)"
      ],
      "execution_count": 0,
      "outputs": [
        {
          "output_type": "execute_result",
          "data": {
            "text/plain": [
              "'TCCCGT'"
            ]
          },
          "metadata": {
            "tags": []
          },
          "execution_count": 75
        }
      ]
    },
    {
      "cell_type": "markdown",
      "metadata": {
        "id": "u05eEUyt2W3I",
        "colab_type": "text"
      },
      "source": [
        "## BA2C\tFind a Profile-most Probable k-mer in a String"
      ]
    },
    {
      "cell_type": "code",
      "metadata": {
        "id": "_wqu7NQD-Ixh",
        "colab_type": "code",
        "colab": {}
      },
      "source": [
        "def Profile_most_Probable_k_mer(s,k,mat):\n",
        "  # mat = 4 by k size\n",
        "  \n",
        "  mp={'A':0,'C':1,'G':2,'T':3}\n",
        "  \n",
        "  def prob(pat):\n",
        "    val = 1.0\n",
        "    for ix,i in enumerate(pat):\n",
        "#       print(type(mp[i]),type(ix))\n",
        "      val*=mat[mp[i],ix]\n",
        "    return val\n",
        "  \n",
        "  mx=0\n",
        "  ans=s[0:k]\n",
        "  for i in range(len(s)-k+1):\n",
        "    m = prob(s[i:i+k])\n",
        "    if m>mx:\n",
        "      mx=m\n",
        "      ans=s[i:i+k]\n",
        "  return ans;"
      ],
      "execution_count": 0,
      "outputs": []
    },
    {
      "cell_type": "code",
      "metadata": {
        "id": "5zLYyp0pAvmv",
        "colab_type": "code",
        "colab": {}
      },
      "source": [
        "s=\"AGGCAGCTTGTTATTGACACACAGTAAAACAGCCGGGTCCACGTCAACGGGCCCATAATCAACAGGCACCCTTTGCTACCAACTGCTAGTACATACAGAATTCGCCGCATAAGACATATATTGCGTGCAAACCAATACGTATCTCGTAATCAATTGATGCGTCACGGCTTTGGTCGTCACCGGCGCTACTTCGCGGCCCA\"\n",
        "k=8\n",
        "mat='''0.24 0.32 0.32 0.16 0.4 0.08 0.16 0.28\n",
        "0.36 0.4 0.24 0.4 0.12 0.36 0.24 0.16\n",
        "0.28 0.16 0.24 0.2 0.04 0.28 0.32 0.24\n",
        "0.12 0.12 0.2 0.24 0.44 0.28 0.28 0.32'''"
      ],
      "execution_count": 0,
      "outputs": []
    },
    {
      "cell_type": "code",
      "metadata": {
        "id": "ZHZXuSHJBz6L",
        "colab_type": "code",
        "colab": {}
      },
      "source": [
        "import numpy as np"
      ],
      "execution_count": 0,
      "outputs": []
    },
    {
      "cell_type": "code",
      "metadata": {
        "id": "NkDxpD80BWHd",
        "colab_type": "code",
        "outputId": "1be611c1-45c8-4550-e26a-053a37a940bd",
        "colab": {
          "base_uri": "https://localhost:8080/",
          "height": 85
        }
      },
      "source": [
        "ls=np.ndarray((4,k))\n",
        "for i,val in enumerate(mat.split()):\n",
        "  ls[int(i/k),i%k]=float(val)\n",
        "  \n",
        "ls"
      ],
      "execution_count": 0,
      "outputs": [
        {
          "output_type": "execute_result",
          "data": {
            "text/plain": [
              "array([[0.24, 0.32, 0.32, 0.16, 0.4 , 0.08, 0.16, 0.28],\n",
              "       [0.36, 0.4 , 0.24, 0.4 , 0.12, 0.36, 0.24, 0.16],\n",
              "       [0.28, 0.16, 0.24, 0.2 , 0.04, 0.28, 0.32, 0.24],\n",
              "       [0.12, 0.12, 0.2 , 0.24, 0.44, 0.28, 0.28, 0.32]])"
            ]
          },
          "metadata": {
            "tags": []
          },
          "execution_count": 111
        }
      ]
    },
    {
      "cell_type": "code",
      "metadata": {
        "id": "twB9f54bAtN1",
        "colab_type": "code",
        "outputId": "6034a726-b78d-4809-980d-e46c8360d3ee",
        "colab": {
          "base_uri": "https://localhost:8080/",
          "height": 34
        }
      },
      "source": [
        "Profile_most_Probable_k_mer(s,k,ls)"
      ],
      "execution_count": 0,
      "outputs": [
        {
          "output_type": "execute_result",
          "data": {
            "text/plain": [
              "'CAGCTTGT'"
            ]
          },
          "metadata": {
            "tags": []
          },
          "execution_count": 112
        }
      ]
    },
    {
      "cell_type": "markdown",
      "metadata": {
        "id": "bOo8KcD_2-aJ",
        "colab_type": "text"
      },
      "source": [
        "## BA2D Implement GreedyMotifSearch"
      ]
    },
    {
      "cell_type": "markdown",
      "metadata": {
        "id": "bb1TKHqW3JEo",
        "colab_type": "text"
      },
      "source": [
        "```\n",
        "    GREEDYMOTIFSEARCH(Dna, k, t)\n",
        "        BestMotifs ← motif matrix formed by first k-mers in each string\n",
        "                      from Dna\n",
        "        for each k-mer Motif in the first string from Dna\n",
        "            Motif1 ← Motif\n",
        "            for i = 2 to t\n",
        "                form Profile from motifs Motif1, …, Motifi - 1\n",
        "                Motifi ← Profile-most probable k-mer in the i-th string\n",
        "                          in Dna\n",
        "            Motifs ← (Motif1, …, Motift)\n",
        "            if Score(Motifs) < Score(BestMotifs)\n",
        "                BestMotifs ← Motifs\n",
        "        return BestMotifs\n",
        "```"
      ]
    },
    {
      "cell_type": "code",
      "metadata": {
        "id": "Bci9dEiD3FuC",
        "colab_type": "code",
        "outputId": "6cff2da2-b38e-4434-f7d2-77b1f039dc7e",
        "colab": {
          "base_uri": "https://localhost:8080/",
          "height": 479
        }
      },
      "source": [
        "def greedyMotifSearch(Dna,k,t):\n",
        "  def Profile(motifs):\n",
        "      ret = np.zeros((4,k))\n",
        "      mp={'A':0,'C':1,'G':2,'T':3}\n",
        "      for motif in motifs:\n",
        "        for ix,i in enumerate(motif):\n",
        "          ret[mp[i],ix]+=1\n",
        "      return (ret)/(len(motifs))\n",
        "  def Score(motifs,k):\n",
        "      ret = np.zeros((4,k))\n",
        "      mp={'A':0,'C':1,'G':2,'T':3}\n",
        "      mp2=['A','C','G','T']\n",
        "      for motif in motifs:\n",
        "        for ix,i in enumerate(motif):\n",
        "          ret[mp[i],ix]+=1\n",
        "      mx = ret.argmax(axis=0)\n",
        "      s=\"\"\n",
        "      for i in mx:\n",
        "        s+=mp2[i]\n",
        "      \n",
        "      scr = 0\n",
        "      for motif in motifs:\n",
        "        for ix,i in enumerate(motif): \n",
        "          if i!=s[ix]:\n",
        "            scr+=1\n",
        "      return scr\n",
        "      \n",
        "  BestMotif=[dna[0:k] for dna in Dna]\n",
        "  for i in range(len(Dna[0])-k+1):\n",
        "    Motif=[Dna[0][i:i+k]]\n",
        "    for j in range(1,len(Dna)):\n",
        "      Motif.append(Profile_most_Probable_k_mer(Dna[j],k,Profile(Motif)))\n",
        "    if Score(Motif,k)<Score(BestMotif,k):\n",
        "      BestMotif=Motif\n",
        "  return BestMotif\n",
        "\n",
        "\n",
        "for i in greedyMotifSearch(input().split(),12,25):\n",
        "  print(i)"
      ],
      "execution_count": 0,
      "outputs": [
        {
          "output_type": "stream",
          "text": [
            "GCACTGCTGGAAAGCGGATCAGTGAACGGCTGGGGTGGATCGAGGAAGGGCCATTACAGTGCAATCTACATGCCCGACGGAGATTAGGAGACGCGCATTTACTAACCAAGTCTTTCCTGACCTCGCCTATCGTTCTACCTTTGTTCCGCTGCTAGA GCAACTTTCGAGGCTGGACCAGTGCCGTAGTGCTGAATGTACTAACGAGGACGCCTGTTAATTATAACATTAGACTTCACACGATCCCCACTCGGTGGTGCTTTTTGCCCGAATACGTATCTCACGTAGGGTGGCCGATGGTGTTAGTGACACCTT TTACGACAGGTTGGTCGCTGATCTTTTCCATAAAAAGTTTCTGGTTGACAATGGGCCTTACCAGTCAGCAACCTTCTGGCCGTACAAGGGAGTAGTGCGTAGTTATCTCTGGAAGCTACTAATTGGGAACAGTGTGGCAGAACCAGTTACTCACGA TGACCCGTGGGGACTACAACCGTAGTTTCTGTCTTCAGGTACTGACTAATTAACTTAGGTCGCATTCATATAGTTCGCAGTGACTATGTTGGGGATTATCTCGGTGAGCAAAGTTGTAGCAGCCATGCAGCATCGCTTTAATTCTGTTCGTACGAG AGGGAGACCCGTGCTGAGCATATCAGGAGTTCTTATAATTACTAACTATTCTGGGCCTGATGGCACACCCCTCGCATTAGGGACACCCACTAACGAGTTCTTGAATGCACCGCTGCTTGAATGAGCTGGATTTGCATTCACTGGCTAGCGCGTGGA ATTTACGCAGTAACGGTGCGGCAAATATGAGGCTCCCGTAGTTTGCCCCTTAAATCTCCCTCCCAAGGTTTAAGTCCGTAATACCTAATGTCCACTACCTACTAACAACAGCAAAGCTACAGGTCAGACACCACGTCCAAACGGGAGTCGTTTTAA GCTAATTGTCCCCCACGCGAGGGGGCGCTAGCGGCCCTAGCGCGTCCCCCATCTTTGCCCTACTACTTAGTGATGCGGTCGAACGCAGGGAACAGACTTACGATGGTTCCGCCATCCTCCAGACATTTCTGCAGGTACTCACTAAGGACACTCTTC AGTCATGAGTAAAGCTTACGGCTGTATGCTCAGACCACGAGTTAGCCATTGTAGCTGACGCTGGTTTCGGAAACGGCAGGAAATCCAGTCCGAAATACCTACTCACAAAAAGCGGGAATCGCTTTCTCAAAGGTTTGGTCCTCGACGTTCAACAAC TACAGCAGACAAAAGTTTTAACTTCCACGTCGACGCAGCTACTGACGATGTCCGAGGAACCTGGCATTGACCCAAACCTTGAAAATGGGTTCTTACAGCAACCCTAGGCTGACTAACCCGCTCTTTTGTGTTAGCACCGAATCGTGCGACTTCGGC CTCTTTGGCGATAGCGAAATGCTAATAGTTAAGATACTACCTGGGTCGGACCCTGGCGACGTTCCATAGCGCCTAATTGTTTGTTAAATAAGCTGCAGCTACTAACGACCGTGCGATCGACAACATCGTGCCGTACACCTCAGAAGTATGGCGTCT CCAGATTGAACGACCACGGGCGGGTGTGCAACCGAAACTCTTTTGGGGGCTTATGTATTCTACTCCGGGCGCCTAAAATCATCTTTTGGGAGCGGAGGAATGGCGATTTGATGCTAATACATGTACTTACCAAGGGTGAAGTACGTTGCTCTTAAG AGCTACTCACAAGCCCCGCTAGAAGATGATACTGGGCACCTCGAATTCATTTACGTAACAACTCGATCTCAGCTTAGGCACATTTGCACCTCGTATCATGCAGGCCTCTTACATTGTGCTGCGGGGGTTAACACTACCAATTATCTCCTGTGGACA CCGAGTGAGATTCGGTTCAAGGCCTGTCGATTAAGGTATAGATTTGCTAGTTACTAACAACTACTGATATACGCCTAATTGAAGTTCCTCACTCCTCCTTGTGAGGGCAACAATGAATAGCCCTGTAGAGTTAGAACCTCATAGTTCTGATTTGCG GATACCGGCCTTTCGCTAACGACCGGATTTAACGGCATTGCATGCCCAATCGCTGCGTAAGATCTTCAACCAATCTCCATGCCATAGACTAGTCTGTATCGAAGGAGGATTTACTGACGATGAAATCGCTTTTAGTGGTTGGCAGAGGATTTTGTC CCGTCTCTGGGTGAAAGAGCCGCGTTTAACTTGAAAATGTAAGTTCTTATGGTACTGCGATGAGGAATAAACGCACATTCCTAGAATGCCCGCGCCCAAGCAACATTAAATGGCGGTAAGGCGCAGAAAATTGGAAAGTCGAGTATTTACTAACGA AGGGATGCGGGGCCACTCCGATCCCTGAAAACTGGTACTTACTAACAAAGGAGCGCTCCAATTACCTTCTTTTCCCGCCGTAACGATCATACATTGGTCCCCGTATCCCGCTAGTTAATTCTTATAGGCTGATCCATTTCGGAAAAGATGTAGTTG CGTCCCTCTATAGGCTGGCAGTGACCGAGCGCACAATTCCCATCGTGGCTCCAGGATGTGTGCTCGTGGGGGAGGTGCTTTAGAATGGTTGAAAACATTTCCATTAGCACGTACTAACAATCGGATAGCAAAAGCACTATTTCAGATGTATCGAGG GCATGTGTATAGCATACACTTCACACTTAGCCTGGGTATGAACCCAGCTTGATACACAGAAGCATCCCCCACATGTACTCACTACCTAGTTTGATCCCCGGTGCGTCCGGCCGCCAGAGTAAAGTGCTTGTATGAGGGTATGTCGTTGAAGCCGTG ACCGTTGAAAACTAAGGTGCTCGGCGGTAGGTTGAAATTCGTCGTGGCTATACACTCGTTTCTACCACCATCGGCGAGCGCACGTTGCAGCTTTACTAATTTTAGACACGGCGTGCGCCTAGCAGGGACTCTAGTTACTAACCATCTGAATCGCAC ATTAGGGCCGTGTGAGGTACCTTACCTCAGATAACCAAGGTGGTTAAGCCTTCCCTTGCAGCTATAGATTAGAACGACGAGTTTAGACGATTGCATAGACCGCGAGGGGCTTGCCTTAGATAAACCTTCCGAGAGGCTCCGCTAACTTACTCACGA TACATGAAGTTCGAGGTGTTCCGCTTGTTCGGTGCGTACCTTCCCTTACCATTGGATCTCGGAAATGTTAGGTCGCATCAACGTTTTGCTAGGTTCCGTGAACTCACTAGGGGTTTAGGGTATATGGAAATGCGCATGTGACCTACGTACTCACTA GAGCACGTAGAGTGTCAAATTATGCTCCCCTCTCTTACGCCGCGACTCCCACATACTCAATCGCGAAACAGGCAACTTGAGATTACTTAAATGTGCAATTACTTACTACTGGACTAGCACATCTTTTTATTGAGACAGCTGGATTGCACCACCTTC GAGGCCCGAGCTGCGTGAGCACTGCCTGCTTCCTAGTAAACTTTAGGACTTTTGCGCTAGGAGTCGACTGAATACCACCCATCCGCCGGCAGGCCTAAAATATATTTCACATACTTACCAGTATAAACGGAGATCATTTCCTCCGCCGGGAACAGC GTCGGAGTGCTAGTTTCTGGAAGTATCCCTCGTTTTCGGGGATATTGCCTCATTGGTTCTTAATACGGGCTTGAGTAGACTAAATGTAGACCCCGCACACCCGTCAAGAATTACTAACTATGTCTTCTATACCAGAGACAAGAGACCTTAGGTACC GCAAGAGGTATGTTTGGAATCCCACCCGCGATTAACGTACATTCGCAGCGGGCCCGCGAATGCACGGCACAGCCTCCGTCGTTTGTGGTAGGGTCAAGCTAGAGGGAAGGCCAATAGACATTTGCGCAATACATCTACTAACTAAATCTTGTTATC\n",
            "AGTGCAATCTAC\n",
            "GCAACTTTCGAG\n",
            "TTACGACAGGTT\n",
            "TTAACTTAGGTC\n",
            "ATTACTAACTAT\n",
            "ATTTACGCAGTA\n",
            "GGTACTCACTAA\n",
            "AGTCATGAGTAA\n",
            "GCTACTGACGAT\n",
            "GCTACTAACGAC\n",
            "TGTGCAACCGAA\n",
            "TCTCCTGTGGAC\n",
            "GCTAGTTACTAA\n",
            "TTTACTGACGAT\n",
            "AGAAAATTGGAA\n",
            "GGTACTTACTAA\n",
            "GGTGCTTTAGAA\n",
            "TGTACTCACTAC\n",
            "TCTAGTTACTAA\n",
            "GCAGCTATAGAT\n",
            "TGAACTCACTAG\n",
            "ATTACTTACTAC\n",
            "GCTTCCTAGTAA\n",
            "ATTACTAACTAT\n",
            "TCTACTAACTAA\n"
          ],
          "name": "stdout"
        }
      ]
    },
    {
      "cell_type": "markdown",
      "metadata": {
        "id": "xrh3-SusQ_q8",
        "colab_type": "text"
      },
      "source": [
        "## BA2E\tImplement GreedyMotifSearch with Pseudocounts"
      ]
    },
    {
      "cell_type": "code",
      "metadata": {
        "id": "m95uQCjQQwYV",
        "colab_type": "code",
        "outputId": "e1c4423a-4f91-4490-e04d-aef2ae06f243",
        "colab": {
          "base_uri": "https://localhost:8080/",
          "height": 479
        }
      },
      "source": [
        "def greedyMotifSearch(Dna,k,t):\n",
        "  def Profile(motifs):\n",
        "      ret = np.zeros((4,k))\n",
        "      mp={'A':0,'C':1,'G':2,'T':3}\n",
        "      for motif in motifs:\n",
        "        for ix,i in enumerate(motif):\n",
        "          ret[mp[i],ix]+=1\n",
        "      return (ret+1)/(2*len(motifs))\n",
        "  def Score(motifs,k):\n",
        "      ret = np.zeros((4,k))\n",
        "      mp={'A':0,'C':1,'G':2,'T':3}\n",
        "      mp2=['A','C','G','T']\n",
        "      for motif in motifs:\n",
        "        for ix,i in enumerate(motif):\n",
        "          ret[mp[i],ix]+=1\n",
        "      mx = ret.argmax(axis=0)\n",
        "      s=\"\"\n",
        "      for i in mx:\n",
        "        s+=mp2[i]\n",
        "      \n",
        "      scr = 0\n",
        "      for motif in motifs:\n",
        "        for ix,i in enumerate(motif): \n",
        "          if i!=s[ix]:\n",
        "            scr+=1\n",
        "      return scr\n",
        "      \n",
        "  BestMotif=[dna[0:k] for dna in Dna]\n",
        "  for i in range(len(Dna[0])-k+1):\n",
        "    Motif=[Dna[0][i:i+k]]\n",
        "    for j in range(1,len(Dna)):\n",
        "      Motif.append(Profile_most_Probable_k_mer(Dna[j],k,Profile(Motif)))\n",
        "    if Score(Motif,k)<Score(BestMotif,k):\n",
        "      BestMotif=Motif\n",
        "  return BestMotif\n",
        "\n",
        "\n",
        "for i in greedyMotifSearch(input().split(),12,25):\n",
        "  print(i)"
      ],
      "execution_count": 0,
      "outputs": [
        {
          "output_type": "stream",
          "text": [
            "TCAGCCCCCCTGTAATAATGGGTTGGGACTCCCAGGGATGGGGCGGAAATTGGTGTATCAGCAACCTTCAAACACCAGATGCCTTCTCATATGGAGGAAGTATTCATGTACTTCCGCTGAATATATGAGGAGGCACTTTCAAGGCAAAAAAGATGA CTAGGGCGCGATGCATTTTCAAGACTGGCTCGCTTCCCTCATGGTAGAAACCAATCTGGAGAGTCTGTACAATTCGTCCTATGCGTCCCCCCTTTAACTTTGCTGGGATATGAGAGTGTGCATGTTTCGTCCTGTAGCCATGTGTTTCTTCATGCA CCCGGGCGGTCCGCACGCCTGGTCTACTTGACTTCCAGTTCCAATGAGTGCTTGCGTTCAATTTAAGACGGAGCGGGACCCCCTGTGCTCTCAATCGCATATTCAAGTATGGTCGGGGCATGCGCTTCACCCGATAGCTCGCTGCAAGTGCTATGT GCTACTGATGGAACGATTTCCACAAGCCACTTGTTGTCTACAGATCATGACAGGTTTGTGGTAATCTGCAACAAAGTCTGACAGTACCGCGTCACCGCATCTTCAAGCATTTGCCTCGGAGATTATTAATTATGAACAACCCGGAATATGACTGCT GCGGACCAAGGCCTGTCTTACAGAAAGCCAGACGCAATACATGTGAACTGCGAATCAAGCACTTAGTTTCAAGCATGTTCAAGTACTTGGTTATCGGCCATACAAGGCTGACTTGGGCTCGAACTTGACCAAGTAGAGTTAAACTAGTACGCGCAT GCGCTAAATGATATACTTTCGGGGGACCAACTTAATGCATATTAAAGGCAGTCGCTTGGCACGAAGTCAAATTTATAACGTGTAAAGCTGGTTGAGTGTAATTCCTAAATGTGTGCTACCCGTGAAAGTAGCCGTCAGAATTGGACGGAATTGCTG GTAACTCTCTCATTCATATTAGCTTCCTTCATCATCGCGACTATCAGATGCTGCATTCGTATGGGATAATAGGGGGGACCAGATTTAAGTGGTTTTGCACTTTTAAGCGCGCCTCATTGCTACTCCGCCTCTGACTGTAAAACCTTACACCCGCCC CCTGCCGAAGTCCTCTGCGAGCAAGTGACGTTACTTAAGGTCGGGGGATAGCGTCTCCCTTACGACACACAGACAGCATAAGGAGCTCAGGTAAGCGCACCTTCAAGTGACTGCCCGGCCTTGACGTTTCAGTAAAAATAACGCGTAACGTGACTT CCCGCGTGTTGTTGCATGCCCGTGAGTCGCGGTAAATGGACACAGGTTACCTGTCCCAGGTGAATCCGTAAAGTGGGTTCAGAGTCGTAGTACGTAAGCCCCGGCCCAGCAACGCGGATAGCATATTCAAGTTGAGCAGAACTAATCTCACAGTAT TAGTCCAAGGCCTAGGTCGATCGATATGAGTCCGCGTATATAAAACGACATTAGGATGTGACGTACACCCAAGCTATCGCAGCCCTGATATCCTCAGCAAGTTAAAGATGGGCGTCTAACATCATTCACAAGAGCGGACCACGCAAACGGTCGCCA GCAACGGGCGACGATATGGCGGAGCACGATGCATTTAGCCAGTAACCCACTTTGCAGGGGGATGTCGTCTACTGCACGGGATGTGCACCGGTACTGTAGCAGGCGATGGCCTTCTGGATTCGCAACGACAAAGTATTTAGCAGCGCATCTTAAAGT AAGTGAGTTCCGAGGCAGACTGGACCTAGATGACCCTGTCAAACCATGGAGAGTATCACGCGGCCGCGGGATGCTACTCCTGTTAGCTATGTTTTAACGGGGTCCGGAGCGACCATTGGCTCAGCTGTCGGTTGCTTGTTCCAAGCAAATTAAAGC ATTCATTAAGCTGAGGTGATCGGCGCTACTCTCTATAAGGTTTAGGAATTAAGACTGACGGCATCTTGAAGTTCTCCGTGTATGTCTACTCTATACGAATTAGATCCCGTATCTTTGCTCGTAATTACTATAGTTAGGTTTCTAAAATGCGGGTGG GCACCTTCAAGGTTGATGTTGACAGACTCACCCTGAACGGAAAGCACCAAGTTTAGATGGGCGAGCGAAGCGCTGAAGGGACCTGCTCCGAGAGTGCATGTAGACACAGAGGGAAGGCGATGTACCATACGATGCGCGTCACACGCACATCGGCGT GTTTTTTACCCTGGCTTGCAACCGGTCGACGAAACCTACCTGTAATATTAGATGTTGTCAGTTTGCAATATTCCAATATCGACCCAATTCCCCATGCAGGCGTGTGCCGCATCTTTAAGGTTGACACTGAGTCGACGAAGCTCCCATAATTTTAAA GACGTCTGGGAGACGGAAAAGTAGTGGCTGGCGTAGCAACCTATGTTAACAGACTCGCGTATGGAACCTCTGGATGGAAGTTCTTAATCGCGTGTAGCAACTTGAAGACCGTAAGACAGCTGCTATCCGTGCAAGCAGCTCGATTTACTTACGGCC GATGCTTAACACGGCGCAGGCATCCACGGGGTGGATAACTCCGGAGGCCGATGCTGGGAAGAAAGGGCTCCAATACTGTATTCCGCAGTACGTATTGCATTTTAAAGCGTCTAAACAAGGCAGATCCATCGGGCAGAGTCCTTGGTTATGCTGTGC GTTCAGATCCCTGCCCGGTGTTCCCAGGATTTGATCATGGGAGTTGTGTTTCCTATAATTACGATTAGCACAAGTGCGCTTCTACAGCTGTGGTACCCCATAGTTAGTTAGCATCAGGAGGCAGGTTAAAGTGTACGATGAAAATCCTTAACGTTG CATAAGGCCTTGCGGGGGAATAGCATAGGACGCTTAACATACGATCCAGAACGGTTCACAGGTACTAATCGAGCACCTTCAAGCATGCATACATAAGCTGCCTGGCACCTGTTTATAGTCCTAGGTGAATACAAGAATCCATTGGGAACTGTTTGT GTAACGCCACGATCTGGGGTTCACGCATGTTGAAGACAAATAGACTCGTCGTGAAAATGGGTATCCACAAATGGACATAGTGATTTCATCTATGCTAAAAGGACGTGGAACTAATACCGAGATTTACAGTAAGTTTATGTCACACCGAATTCGGGC GCTTACCTACCAAGACACCCGGTACTTCTCTTAGCGCGTCTATGTGCGAATATGCTACACGCAATTTAAAGAGGCTGAGTAAGCAGTTGACAGTGAACAGGTCCCCGTATTATGCATGATCTTATCAGGGCCTGGAGGACTTTAAAAGATTGTCTA TATATTCCAGTACCCAGCTATAGGATTGTCCCGGAAGATGGCCGGAGACCTATAGAGCCCAAGGACGCGCCAGGTATGATGGATAAATTGGACTACTGAGAAGCGCATATGGATCCAAAGTCGTAGTTCCGGGCAAATTCAAGGATATATCCCTAC CGGTGCGAGGGATGTCGACGTCGGCCTCGTCGCGGAGCAATTTAAAGTAAAGGACACGGTTGGAGAATTACCCGGAAGGCAATCTTGTGTTGTTACGTCAGCTAGCTTAACTCCTCCTTGTTTAAGCTGTGCATCTCTCGGGGCGAGAATTGAAGC GACCGGTGTTGGAGCTTACGCCGCATGAACCCACAGCTGCTGACCTATTTGGGTTAACGCTGTTCTTTACATGGATCCTTTTTACTGTACCATATTGAACCCTCACCCTGCCTGTTGAAGGGGGACACCGCGGCATCTTAAAGGACCCCAAATTCG CTTCCTCCGTTGACTCCCCCATGCTTCTGTCACAAAGTTGTCCATCGGCCCGACAAGAATATAACGTATTTGATCCATAACACGTGTCACCCGGCAGGGTCCCACCTGGCAGGTTTAAGATATCCATGCGTATAACTCATATATACTAGCTCAAAA\n",
            "GCACTTTCAAGG\n",
            "GCATTTTCAAGA\n",
            "GCATATTCAAGT\n",
            "GCATCTTCAAGC\n",
            "GCATGTTCAAGT\n",
            "GCATATTAAAGG\n",
            "GCACTTTTAAGC\n",
            "GCACCTTCAAGT\n",
            "GCATATTCAAGT\n",
            "GCAAGTTAAAGA\n",
            "GCATCTTAAAGT\n",
            "GCAAATTAAAGC\n",
            "GCATCTTGAAGT\n",
            "GCACCTTCAAGG\n",
            "GCATCTTTAAGG\n",
            "GCAACTTGAAGA\n",
            "GCATTTTAAAGC\n",
            "GCAGGTTAAAGT\n",
            "GCACCTTCAAGC\n",
            "GCATGTTGAAGA\n",
            "GCAATTTAAAGA\n",
            "GCAAATTCAAGG\n",
            "GCAATTTAAAGT\n",
            "GCATCTTAAAGG\n",
            "GCAGGTTTAAGA\n"
          ],
          "name": "stdout"
        }
      ]
    },
    {
      "cell_type": "markdown",
      "metadata": {
        "id": "a5HDn3Hv2cOX",
        "colab_type": "text"
      },
      "source": [
        "## BA2F\tImplement RandomizedMotifSearch"
      ]
    },
    {
      "cell_type": "markdown",
      "metadata": {
        "id": "OAJOA14mSP0n",
        "colab_type": "text"
      },
      "source": [
        "```\n",
        "RANDOMIZEDMOTIFSEARCH(Dna, k, t)\n",
        "    randomly select k-mers Motifs = (Motif1, …, Motift) in each string\n",
        "        from Dna\n",
        "    BestMotifs ← Motifs\n",
        "    while forever\n",
        "        Profile ← Profile(Motifs)\n",
        "        Motifs ← Motifs(Profile, Dna)\n",
        "        if Score(Motifs) < Score(BestMotifs)\n",
        "            BestMotifs ← Motifs\n",
        "        else\n",
        "            return BestMotifs\n",
        "```"
      ]
    },
    {
      "cell_type": "code",
      "metadata": {
        "id": "AfeqmMYfr3UG",
        "colab_type": "code",
        "colab": {}
      },
      "source": [
        "import random\n",
        "import numpy as np"
      ],
      "execution_count": 0,
      "outputs": []
    },
    {
      "cell_type": "code",
      "metadata": {
        "id": "p1Cugj7arbFn",
        "colab_type": "code",
        "colab": {}
      },
      "source": [
        "def RANDOMIZEDMOTIFSEARCH(Dna, k, t):\n",
        "    motifs=[]\n",
        "    for dna in Dna:\n",
        "      r=random.randint(0,len(dna)-k+1);\n",
        "      motifs.append(dna[r:r+k])\n",
        "    \n",
        "    bestMotifs = motifs\n",
        "    \n",
        "    def Profile(motifs):\n",
        "      ret = np.zeros((4,k))\n",
        "      mp={'A':0,'C':1,'G':2,'T':3}\n",
        "      for motif in motifs:\n",
        "        for ix,i in enumerate(motif):\n",
        "          ret[mp[i],ix]+=1\n",
        "      return (ret+1)/(2*len(motifs))\n",
        "    \n",
        "    def Profile_most_Probable_k_mer(s,k,mat):\n",
        "      # mat = 4 by k size\n",
        "      mp={'A':0,'C':1,'G':2,'T':3}\n",
        "      def prob(pat):\n",
        "        val = 1.0\n",
        "        for ix,i in enumerate(pat):\n",
        "          val*=mat[mp[i],ix]\n",
        "        return val\n",
        "      mx=0\n",
        "      ans=\"\"\n",
        "      for i in range(len(s)-k+1):\n",
        "        m = prob(s[i:i+k])\n",
        "        if m>mx:\n",
        "          mx=m\n",
        "          ans=s[i:i+k]\n",
        "      return ans\n",
        "    \n",
        "    def Motifs(profile, Dna):\n",
        "      motifs=[]\n",
        "      for dna in Dna:\n",
        "        motifs.append(Profile_most_Probable_k_mer(dna,k,profile))\n",
        "      return motifs\n",
        "      \n",
        "    while(True):\n",
        "      profile = Profile(motifs)\n",
        "      motifs = Motifs(profile,Dna)\n",
        "      if Score(motifs,k)<Score(bestMotifs,k):\n",
        "        bestMotifs=motifs\n",
        "      else:\n",
        "        return bestMotifs"
      ],
      "execution_count": 0,
      "outputs": []
    },
    {
      "cell_type": "code",
      "metadata": {
        "id": "kHMHJZO7zObn",
        "colab_type": "code",
        "colab": {}
      },
      "source": [
        "def Score(motifs,k):\n",
        "      ret = np.zeros((4,k))\n",
        "      mp={'A':0,'C':1,'G':2,'T':3}\n",
        "      mp2=['A','C','G','T']\n",
        "      for motif in motifs:\n",
        "        for ix,i in enumerate(motif):\n",
        "          ret[mp[i],ix]+=1\n",
        "      mx = ret.argmax(axis=0)\n",
        "      s=\"\"\n",
        "      for i in mx:\n",
        "        s+=mp2[i]\n",
        "      \n",
        "      scr = 0\n",
        "      for motif in motifs:\n",
        "        for ix,i in enumerate(motif): \n",
        "          if i!=s[ix]:\n",
        "            scr+=1\n",
        "      return scr"
      ],
      "execution_count": 0,
      "outputs": []
    },
    {
      "cell_type": "code",
      "metadata": {
        "id": "rX8DVqSbvPCi",
        "colab_type": "code",
        "outputId": "81dded03-ab3d-4669-f462-f45f46eea0cd",
        "colab": {
          "base_uri": "https://localhost:8080/",
          "height": 34
        }
      },
      "source": [
        "k=8 \n",
        "t=5\n",
        "Dna='''CGCCCCTCTCGGGGGTGTTCAGTAAACGGCCA\n",
        "GGGCGAGGTATGTGTAAGTGCCAAGGTGCCAG\n",
        "TAGTACCGAGACCGAAAGAAGTATACAGGCGT\n",
        "TAGATCAAGTTTCAGGTGCACGTCGGTGAACC\n",
        "AATCCACCAGCTCCACGTGCAATGTTGGCCTA'''\n",
        "Dna=Dna.split('\\n')\n",
        "t==len(Dna)"
      ],
      "execution_count": 0,
      "outputs": [
        {
          "output_type": "execute_result",
          "data": {
            "text/plain": [
              "True"
            ]
          },
          "metadata": {
            "tags": []
          },
          "execution_count": 176
        }
      ]
    },
    {
      "cell_type": "code",
      "metadata": {
        "id": "GJ58_68pxXdl",
        "colab_type": "code",
        "colab": {}
      },
      "source": [
        "best=\"\"\n",
        "mx=100000000000\n",
        "for i in range(1000):\n",
        "  x = RANDOMIZEDMOTIFSEARCH(Dna, k, t)\n",
        "  s = Score(x,k)\n",
        "  if s<mx:\n",
        "    mx=s\n",
        "    best=x"
      ],
      "execution_count": 0,
      "outputs": []
    },
    {
      "cell_type": "code",
      "metadata": {
        "colab_type": "code",
        "outputId": "4da84a16-e0d6-4ad8-b892-791a0f0ba472",
        "id": "CN_eNs40DPKj",
        "colab": {
          "base_uri": "https://localhost:8080/",
          "height": 102
        }
      },
      "source": [
        "for i in best:\n",
        "  print(i)"
      ],
      "execution_count": 0,
      "outputs": [
        {
          "output_type": "stream",
          "text": [
            "TCTCGGGG\n",
            "CCAAGGTG\n",
            "TACAGGCG\n",
            "TTCAGGTG\n",
            "TCCACGTG\n"
          ],
          "name": "stdout"
        }
      ]
    },
    {
      "cell_type": "markdown",
      "metadata": {
        "id": "fRvPnroBSi8L",
        "colab_type": "text"
      },
      "source": [
        "## BA2G Implement GibbsSampler"
      ]
    },
    {
      "cell_type": "code",
      "metadata": {
        "id": "MldTNqaEFdK3",
        "colab_type": "code",
        "colab": {}
      },
      "source": [
        "from random import choices"
      ],
      "execution_count": 0,
      "outputs": []
    },
    {
      "cell_type": "markdown",
      "metadata": {
        "id": "lg8Epn0TSvJw",
        "colab_type": "text"
      },
      "source": [
        "```\n",
        "    GIBBSSAMPLER(Dna, k, t, N)\n",
        "        randomly select k-mers Motifs = (Motif1, …, Motift) in each string\n",
        "            from Dna\n",
        "        BestMotifs ← Motifs\n",
        "        for j ← 1 to N\n",
        "            i ← Random(t)\n",
        "            Profile ← profile matrix constructed from all strings in Motifs\n",
        "                       except for Motifi\n",
        "            Motifi ← Profile-randomly generated k-mer in the i-th sequence\n",
        "            if Score(Motifs) < Score(BestMotifs)\n",
        "                BestMotifs ← Motifs\n",
        "        return BestMotifs\n",
        "```"
      ]
    },
    {
      "cell_type": "code",
      "metadata": {
        "id": "TDIuXcc7DX2j",
        "colab_type": "code",
        "colab": {}
      },
      "source": [
        "def Profile_random_k_mer(s,k,mat):\n",
        "      mp={'A':0,'C':1,'G':2,'T':3}\n",
        "      def prob(pat):\n",
        "        val = 1.0\n",
        "        for ix,i in enumerate(pat):\n",
        "          val*=mat[mp[i],ix]\n",
        "        return val\n",
        "      mx=0\n",
        "      probs=[]\n",
        "      for i in range(len(s)-k+1):\n",
        "        probs.append(prob(s[i:i+k]))\n",
        "      i = choices(list(range(len(probs))),probs)\n",
        "      i=i[0]\n",
        "      return s[i:i+k]"
      ],
      "execution_count": 0,
      "outputs": []
    },
    {
      "cell_type": "code",
      "metadata": {
        "id": "IWGfElQOGjWD",
        "colab_type": "code",
        "colab": {}
      },
      "source": [
        "def Profile(motifs,k):\n",
        "      ret = np.zeros((4,k))\n",
        "      mp={'A':0,'C':1,'G':2,'T':3}\n",
        "      for motif in motifs:\n",
        "        for ix,i in enumerate(motif):\n",
        "          ret[mp[i],ix]+=1\n",
        "      return (ret+1)/(2*len(motifs))"
      ],
      "execution_count": 0,
      "outputs": []
    },
    {
      "cell_type": "code",
      "metadata": {
        "id": "S6eAxc3nG-YR",
        "colab_type": "code",
        "colab": {}
      },
      "source": [
        "def Score(motifs,k):\n",
        "      ret = np.zeros((4,k))\n",
        "      mp={'A':0,'C':1,'G':2,'T':3}\n",
        "      mp2=['A','C','G','T']\n",
        "      for motif in motifs:\n",
        "        for ix,i in enumerate(motif):\n",
        "          ret[mp[i],ix]+=1\n",
        "      mx = ret.argmax(axis=0)\n",
        "      s=\"\"\n",
        "      for i in mx:\n",
        "        s+=mp2[i]\n",
        "      \n",
        "      scr = 0\n",
        "      for motif in motifs:\n",
        "        for ix,i in enumerate(motif): \n",
        "          if i!=s[ix]:\n",
        "            scr+=1\n",
        "      return scr"
      ],
      "execution_count": 0,
      "outputs": []
    },
    {
      "cell_type": "code",
      "metadata": {
        "id": "DHMgqB89DXz5",
        "colab_type": "code",
        "colab": {}
      },
      "source": [
        "def Gibbs(Dna, k, t, N):\n",
        "  motifs=[]\n",
        "  for dna in Dna:\n",
        "    r=random.randint(0,len(dna)-k+1);\n",
        "    motifs.append(dna[r:r+k])\n",
        "\n",
        "  bestMotifs = motifs\n",
        "  \n",
        "  for j in range(N):\n",
        "    i=random.randint(0,t-1)\n",
        "    profile = Profile(motifs[:i]+motifs[i+1:],k)\n",
        "    motifs[i]=Profile_random_k_mer(Dna[i],k,profile)\n",
        "    if Score(motifs,k)<Score(bestMotifs,k):\n",
        "      bestMotifs=motifs\n",
        "  return bestMotifs"
      ],
      "execution_count": 0,
      "outputs": []
    },
    {
      "cell_type": "code",
      "metadata": {
        "id": "7WVc4FajHPBK",
        "colab_type": "code",
        "colab": {}
      },
      "source": [
        "k=8\n",
        "t=5\n",
        "N=100\n",
        "Dna='''CGCCCCTCTCGGGGGTGTTCAGTAAACGGCCA\n",
        "GGGCGAGGTATGTGTAAGTGCCAAGGTGCCAG\n",
        "TAGTACCGAGACCGAAAGAAGTATACAGGCGT\n",
        "TAGATCAAGTTTCAGGTGCACGTCGGTGAACC\n",
        "AATCCACCAGCTCCACGTGCAATGTTGGCCTA'''.split('\\n')\n",
        "# Gibbs(Dna, k, t, N)"
      ],
      "execution_count": 0,
      "outputs": []
    },
    {
      "cell_type": "code",
      "metadata": {
        "colab_type": "code",
        "id": "339yoECXUR0d",
        "colab": {}
      },
      "source": [
        "best=[]\n",
        "mx=100000000000\n",
        "for i in range(20):\n",
        "  x = Gibbs(Dna, k, t, N)\n",
        "  s = Score(x,k)\n",
        "  if s<mx:\n",
        "    mx=s\n",
        "    best=x"
      ],
      "execution_count": 0,
      "outputs": []
    },
    {
      "cell_type": "code",
      "metadata": {
        "colab_type": "code",
        "outputId": "416c049e-dc8f-40c2-bd22-745d683f811f",
        "id": "ybzAWn60UR0o",
        "colab": {
          "base_uri": "https://localhost:8080/",
          "height": 102
        }
      },
      "source": [
        "for i in best:\n",
        "  print(i)"
      ],
      "execution_count": 0,
      "outputs": [
        {
          "output_type": "stream",
          "text": [
            "AACGGCCA\n",
            "AAGGTGCC\n",
            "AAGAAGTA\n",
            "CAGGTGCA\n",
            "CACGTGCA\n"
          ],
          "name": "stdout"
        }
      ]
    },
    {
      "cell_type": "code",
      "metadata": {
        "id": "o_DNBi19TdQa",
        "colab_type": "code",
        "outputId": "c1267b48-e09f-447b-f893-f1b5a7f5615d",
        "colab": {
          "base_uri": "https://localhost:8080/",
          "height": 54
        }
      },
      "source": [
        "k=15\n",
        "t=20\n",
        "N=2000\n",
        "Dna=input().split()"
      ],
      "execution_count": 0,
      "outputs": [
        {
          "output_type": "stream",
          "text": [
            "ACGATGTACCCTCTTCTCACCGAGTCGGCAAGTACACCAAACTCAAACTGGAAGCTAACCCGGGAGAAGCTTAATGTCCTTCGGTTATGCTACAAATCTTTCAGAATTCAGAAGCAATAAGATAGATACATAGTGAGCTGGAACCAATCCCTAAAATACCATCGGCTCCGCGTCGTTAGGATTCTAGTAGTATCATTTTTATCGAACTATAGGTTTATTAACCACCTGAGAACACCACTGAGGCAGGAGCCCGTCTACAGCATTAATGTTGATAGTCGCTTAGGACGGGTGGATGAGACGCCCATGACGATGTACCCTCTT CTCACCGAGTCGGCAAGTACACCAAACTCAAACTGGAAGCTAACCCGGGAGAAGCTTAATGTCCTTCGGTTATGCTACAAATCTTTCAGAATTCAGAAGCAATAAGATAGATACATAGTGAGCTGGAACCAATCCCTAAAATACCATCGGCTCCGCGTCGTTAGGATTCTAGTAGTATCATTTTTATCGAACTATAGGTTTATTAACCACCTGAGAACACCACTGCTGCCTGATGCTGTCAGGCAGGAGCCCGTCTACAGCATTAATGTTGATAGTCGCTTAGGACGGGTGGATGAGACGCCCATGACGATGTACCCTCTT TCTAACACTGTGAAGTAAGACCCCGGACTCAAGTGCTTCACAGCGCTCGTTGGAGATCTTGTCCGTTGGCGAGTACCTTCACGGACGCGAGGAAAATCATGTCCTAGGCTGGTCAAACGCTTGAAACACACTGTTTCTTGCTGTCATGAAGAAGATGTAAAATTTTCCCCAAGTGTCAAAACATCGTTCCTACTGGGAACAAGGGGAGATTTTATGTCACCCGTGACCGTGTTATTTAACTCTGTATTTATACTTTAAGCCAAATTTAACAACCCTGTCAAAGAGCAACATATAATCCATGAGGCGTAAAATCAGAGGTTG GGCTTGTCATGTTAGAGTGGGAACACAATACGGTGAGATGTTTGTAGCTCTATGAGTGCGTCTTCACAAAATATCTGTGGTAAAACAGGACCTTCATCAGGTTATATACCTATGCGGAGCTGGCGCGATTACCGGCCTTATATGGCTGTGCGGTTGCGCCTGTTAGATCTAGTCAACCTCGATGAAGAAACAAGCTACTAATCAGAACCAGCTCTACCCGTGAGCTGGTGTCTCGCACGATCTCATTGATTAAACCTAAACAGTTTACCTGCCCGTTAGAACGTAAGACCATCGCACCGTCGTTGTTATACTCAATATACG ACTTTTGGCCACTCCCGAGTTCCTATAAGCTTACTCCCGCATGGATGTGAGGACATGATTCGGAACAAGAGTAATTTGCCGGGAGGGCACGATGGTCTGTTGTGAGTCAGGCTGCATTATAGTCCTAGATCGAAGTCCCTCTAGGATACCTGGATTACTGTCTAATGCTGTCCACGCGGCAGGGCACCCACAATGTCCATTTGGTTTCCCGACGCTCGACGCTTGACGTGACTTGGTTGCCGGGAACTCTGGCCCAGCAGGCCACTCCGATGAGCGTTACAAGAAGCCTGGACGATAGCGACTATTTGAGGTTGGGCCAGC TCAAGTAGCATCAACAGCTGTTATTCGCTGTCGCCAGTTCTAACCTTTCCCCTATGCCACGCTACCGAAGCCTGAGTCGTTAGCTTAAGTATTATTGTAATGTCCCCTTGATACACGTATAGACCTAAGGGGATCTATCATCTCCGGATCGTATGGTCTACCACGTGGAAAGGGCGTACCGGCCTGAGGTCACAAGATATAGTAACTATCATCACCAACATCCAAGCTCGCAACAGCTTTCTGCGTCGTCGTGAAATGACCTCTTTTATTGGCATGGGCCATTTTATCCCGATGCGACTGTTCCTAAGGTCGTTTTCACGA CAAAGCTGGAAGTGAGCTTTTAAGTTCCTTTCGAGAGCCAACTGGCTTTTTCTAGATCTTACGAATGCCACTATCGGAGTATCTTTTAACTACCGGCCATGACCGCATCAGAATTTGTTTCTCAACCATTAGTCGCTAGAGCGTAGCGATTAACGTTACCAGCCCAATTAGCTAAAGTCATAGTGTTAGGTTAAGTGGGATCTACTGCTCCCAAGGAAGCGTTACAACTGAGTCCTCACCGGCCGCACTAGCTACTGATTCGGAGGTGTACTAGACAATAGGGTAACGTATTGTGTAAACCTTCCAGATGCTGTCATAAGG TGACTCCGGCCCTTTTATGTACCGCGTCGATGTCAGCCATGTAAGTATAGGAATATAATGAGAGACGAGCAGGCGGTTAGACGTCTAAACCCAGAACGTATCGGGCGCTGCACAGCTGTATACTGTCAAGAGTCCAATATTATCGTTAGGATCTCGCATTTTATACTCGATCCAAAAGGGGGACCAGTCACATATTGACACCCTCACCCAATTCGTTTCCAGTGTCGTTGTCGGTCCGATCTGGTATAGTTATGCCTGCCGCTGTTAGATGCCACCAAGGTACCCCCCCGGGCCAGGGCTTCGATCTTGCTTGAAGACAAA CGTGTTATACCTTTCCCTCTACTGAGCGATGCTGTCCTCTCTCTTCATCTGAGCATCTACGGATGTGACGCACGACAATTGTCGAGACTTTTACCCGGGCAACAACCTTCGAACTAGCGTCCGCGGGCCGGACCTTTAAATTAAGTTTAGCCTCCGTGTGATCCTGTCTTGTGGGTAAAGTTACCGCTCAGGGTCGCCTATGCGCAAAGGGTAGACCGTAAAACGCGAAGACAACAGGGTACTCTCATACCTTGAGTGCCGGGTAGAGGGAGTAGGTCTCTGGTTTTCCGCAGCCGGAATCCACCATGCAACTATATCCAG GAACCCTAGACCGCGGCCGGGTCTATGTACCGTGTGTACCTCATGCTCTGTCTACCGAGTACGTCCTCTGAGAAGGCTGTTGACTGCTGTCTTGTGTTGGAAGGACAGCAATAATCAATAAGACGTTCATCTACGGTGTGGCGTAGGTCTGTGTGGGAATGGCGGTCATCATAAAGCACGCAAGATCACTCAGTGCTCATGTCCTGGCCTGTCAACCTGAGGGTGGTATGATTGCGTCGTATGCGTATACCCAATCGTGAAAACAACAGGGACGATAAGCCCGGTAGGAATCTCTAATGGTGCGCCTGATATCCTAGTGGT CATTGCATGGAGTGCATCGTTTGACAGATCATACAGCTAGACAACGCTCAGGTCGACCTCATAAGCCTAAGTCACGTACCTCAGGTTATTGGTCATGTCCAGCTAACTCATGGGCGTGCACTCTCTATGGATGTTTACACACAGATGCAATCCCACAATGATGCAAAAAATTTGCTCGGCTAGCTTATTTTTCCATTTGATTATAGTTTTGGCGCCTTCTGGCGCAAAGGATACTTTATGGTGGTAACGTGCAGCAGTGCCGAACGATATCCCGTCCAGGACACACCAGAGTCGGCCGTTTCTTTAGATGCTGTCTCGGAG ATGCATAGACTTTTAATCTAGCTTGTTTTACGAGGGCGCATGCGACAGAGGAGTAAGATTCCTACCCGGCTACGGATTCGGCATTGATATTTTCTATGCCCAAGAAAACCTTCGCGAGCATCAAGCAGAAGTGTCGAATAGATGCTGTCGCATATCAAAAGGAATCCGCTTTACCGTCATCGACTCGACAAGTCAAGCCCAACCAAGCTATTTATCCGAAGCACTAGCATGAATCTCGCGAGGCTCATATTGGTAGGTCCCTACGGCGTTGCCGTGTAGCGGTGAGTGCAGCGAACGATTTTAAGACCGCGCTAAATGGTA GCGGCTGCTTCCTACGTCAGCTTAGCTCAGGCTTATCTCACCTCTCACTTCACTAGGGGAATCCACTAATATTGTTCCGCCCCAAACGATCCTGCAGAATGCAACAAGAATAGGTAATAAAATCTTAATCAATGTATTAATTGACTGTCTTATGCTGTCTGTATCCCCTGAGGTCAAAAATCAGCCGACACAAGATCTCAATCGAGTGCTTTATCGCGGCGAGCCGCAATGAAGTAGATCGAGCCAACTACTTTTTGGTATGTACGTATTTCGGGACGCCTGCCCATATTGGCTAGCCGCCAGGGTATATGGTATCTATAT GAGCGTTTTTTAGGGCCTGGTTAGATGCTGTGTTAGAGTCATACTGAGCCGTGGGGATTCTGTCAGCCGTCCGCCAGCGCGTTATCGAAGTGAACCGCGGCTTGACTCCCGCCGATATACGATCCAACTGCTCGAGGACTGCATACCGAGAAGAACGCTCGGTCGGCTCCGTACCAGTCGACCTGTAAATCAACGAATAAGAAAATGGGATCTCTCCTTGCTTAGCAATTACAATGGATGGCAACCTGACTATGCCTATACCGTGGTCGTCTGGGGGACTAAACCTTAACCAAGTCCTAAGGTGCGACGCCTTGGGCAGGG TTCCATGTGTATATGCTCACCTGATGGTCGGAAAGAACAAGTCACAGGGAAGGCTAAAAGACAAACTGCGCTCGCCTAGCGCTTGAATATGCCTACTCGAAACTAGTGTCGATGAAGGCCAAGACGCTAAGTGATACCTCAGAGCTGTAATGTTCTATGCCTGCAAGCTGGCGAATACGCAGGGCGCCTAACCAGAGAAATTCATACGTGGAAGTGTTAGATGCTGATCTAATACGGACATCCAAGTGCACCTCGGCTCAAGTACGCCGATATAACACGTACGGTTTTGGAAGAAACCGCCGTTTCATTTGCAAGTCATAC AATGCCGTGCATATCTGAGCTATTCTCAACTTATATATCGCATACGCATACAGTAATCAACACAAGGGAACCAAAGCGCCACTAGGAAGAACCCGCCCTTTCAAGATTGAAACTCCAGAGAGGCCGCTCTGGTGCTCTGTTAGATGAGTTCGTCGAGAGCGACCGCAAGGTCTGCAACCAAACATCGTAACTTAGTAGAAGAGTTTGTGTTTTTTTACGCAGCGAGAGTGGTTTGAAGCGTGATATTCGCAGAACACCTCCGAGTGTGTCTCCACCACTGGACCTTGGTGGGAACTGGGGTCACTATCCGCGGCACGGGGT TGGGTATGGCCATTCGGGGGCGTTCGGGTTGGGATGAGCAATCGGACCCCACCTAAACCGACAAGTTCGCCAATCCGTGCCCTTAGATCAACGAAAGAGAGGCATAGACTAACACGCAAACCTGTTAGAACATGTCCTGCATGAAAAGTATATCCCTTTTTAGAGTATTCGGCTGCCAATCGTTTGTGCGCCACTGCGGGGAGTTGGGCTGCGCCCTAGGCCGTGTCCATCTACACCATATGGGGGAACCTAGGTGTAACGTAATTTGATAATGTGGACCTATCGCCCAATGTCGTTTTGAGAAAGGTCAGCGTTCGTGGG CGCGGAGTTACACTCACAGTTCGGGGCGAGCCCCTCATCCATCTGCGACCCATACGCTTCCACAAGAAGCAAGCGCTGTTAGATGCTCAGCCATAACAGGCGTGAAATTAACCTGCTGGAGGAAAGGCATCGTGCCCGAGTCACGGGCCTTGTCCAGGGATGACCGAAACACAAGTTAGGTGCATGGCTTGACCTGAAACAAATAAGTCACCATGGAGGGTTCTTGGTTTTCCCGGAAACAAAAGGTATGGCCGACCGGAATCAGTGACTATCATTCACATAGTCCGAAACTCTCTCACACTGAGATACAAACCCGTCGTT AGACCCCACCTTGGTCCTCCCAGAATACTGAAGACTAGATCTCCTACCGCGGGCGGCTACAAAAACGAGTGGAGGCACATCGGGTAATCCAAATTAGATGGTAATCAGACACCGGCGTGGAGGCAACATGTCCAGAATCATCATACCTGAGCATCTCCTGTAGTACAGCCTTGTACCAAGGGTGCCTGCAGATGGATTACTGATTTGTTTCAACTAGGCTGTTAACGGCTGTCGGGCGAGGCAATTCCGAGCGACTCCTTTTGGTGGGTTAAAATCGGAAAGACGGATTAGAACACAAGCTATGGAGGATCTCATCAATTG CATTAAAGTCTGAATGGGTAGCTAATCAGGATGTCCATCTTCGCCTACCGTGGACCGGTTCCGAGGCGGTGATGGGGGGTGGATGGGGTCGGCGTCGTCTGAAGCCTATTGGGTGCTATCCGCAGCTGTTAGGGCCTGTCCTACGGCACTAGATGATTCCACCCGGAAGATAACGTTAACCCCCCAACTAATATAGACGCTATATCCACTAGTCAAATTCAGACTATGGGTGGTGGAGCTGGTAACCACCACAGAAGTGGCCAATTCGGGCGGTGCTTCCCCCCCGACCTCCTCTCAACGACTTAGATGCACCTTTCGACT\n"
          ],
          "name": "stdout"
        }
      ]
    },
    {
      "cell_type": "code",
      "metadata": {
        "colab_type": "code",
        "id": "138pJhmVVHI0",
        "colab": {}
      },
      "source": [
        "best=[]\n",
        "mx=100000000000\n",
        "for i in range(20):\n",
        "  x = Gibbs(Dna, k, t, N)\n",
        "  s = Score(x,k)\n",
        "  if s<mx:\n",
        "    mx=s\n",
        "    best=x"
      ],
      "execution_count": 0,
      "outputs": []
    },
    {
      "cell_type": "code",
      "metadata": {
        "colab_type": "code",
        "outputId": "8ae4346c-8231-4eaa-f87d-0b74bd939160",
        "id": "582vM59tVHI_",
        "colab": {
          "base_uri": "https://localhost:8080/",
          "height": 357
        }
      },
      "source": [
        "for i in best:\n",
        "  print(i)"
      ],
      "execution_count": 0,
      "outputs": [
        {
          "output_type": "stream",
          "text": [
            "TTGATAGTCGCTTAG\n",
            "CTGCCTGATGCTGTC\n",
            "CTGTTTCTTGCTGTC\n",
            "CTGTTAGATCTAGTC\n",
            "CTGTCTAATGCTGTC\n",
            "CTGTTATTCGCTGTC\n",
            "CTTCCAGATGCTGTC\n",
            "CTGTTAGATGCCACC\n",
            "CTGAGCGATGCTGTC\n",
            "CTGTTGACTGCTGTC\n",
            "TCTTTAGATGCTGTC\n",
            "CGAATAGATGCTGTC\n",
            "CTGTCTTATGCTGTC\n",
            "TGGTTAGATGCTGTG\n",
            "GTGTTAGATGCTGAT\n",
            "CTGTTAGATGAGTTC\n",
            "CTGTTAGAACATGTC\n",
            "CTGTTAGATGCTCAG\n",
            "CTGTTAACGGCTGTC\n",
            "CTGTTAGGGCCTGTC\n"
          ],
          "name": "stdout"
        }
      ]
    },
    {
      "cell_type": "markdown",
      "metadata": {
        "id": "rEVz2ZpEW1g6",
        "colab_type": "text"
      },
      "source": [
        "## BA2H\tImplement DistanceBetweenPatternAndStrings"
      ]
    },
    {
      "cell_type": "markdown",
      "metadata": {
        "id": "50CaZsb_W2G9",
        "colab_type": "text"
      },
      "source": [
        "```\n",
        "DistanceBetweenPatternAndStrings(Pattern, Dna)\n",
        "    k ← |Pattern|\n",
        "    distance ← 0\n",
        "    for each string Text in Dna\n",
        "        HammingDistance ← ∞\n",
        "        for each k-mer Pattern’ in Text\n",
        "            if HammingDistance > HammingDistance(Pattern, Pattern’)\n",
        "                HammingDistance ← HammingDistance(Pattern, Pattern’)\n",
        "        distance ← distance + HammingDistance\n",
        "    return distance\n",
        "```"
      ]
    },
    {
      "cell_type": "code",
      "metadata": {
        "id": "caspeb73XCDM",
        "colab_type": "code",
        "outputId": "fb11a285-2397-464b-ce17-8a195fbaa707",
        "colab": {
          "base_uri": "https://localhost:8080/",
          "height": 71
        }
      },
      "source": [
        "def dist(pat, dnas):\n",
        "  k=len(pat)\n",
        "  def ham(a,b):\n",
        "    ret=0;\n",
        "    for i in range(len(a)):\n",
        "      if a[i]!=b[i]:\n",
        "        ret+=1\n",
        "    return ret\n",
        "  \n",
        "  def d(pat,dna):\n",
        "    mn=len(dna)\n",
        "    for i in range(len(dna)-k+1):\n",
        "      mn=min(mn,ham(pat,dna[i:i+k]))\n",
        "    return mn\n",
        "  \n",
        "  def d_all(pat,dnas):\n",
        "    ret=0;\n",
        "    for dna in dnas:\n",
        "      ret+=d(pat,dna)\n",
        "    return ret\n",
        "  \n",
        "  return d_all(pat,dnas)\n",
        "\n",
        "dist(\"AAA\", input().split())"
      ],
      "execution_count": 0,
      "outputs": [
        {
          "output_type": "stream",
          "text": [
            "GGGGGCTTCTGTCACTTGGGTTCGAAGCTCGTTCCAACGCGGTTACTTCATAATAAATCTTGTAGCCTCTACACAGCGCAAAATCTACCCAACAGCGC AATTTGACGAGGATGGTAGAGAAGTATCTGTTTGGTAGCTGTCTTATAAACGCAACAAGCTTGCCCCGCAACTCTCTCCTACTTGCCTCCAGCATGAT CTGAAGGCGCGACATATGATACGGGATTGGACATACACATAAAATGTCCAGGGGGCAGTTTGACCCCATGCTGCTACAGCGGGAGGAGAGGGGGCGAC AACTCATGTACGCGGTTCGGATCCGGCGACGGCCGTAGCCTGTTACTTACTTCCCTGCCAACCTGAAGGAGTGTTGACAAGCAGCGCGTGAATAAAAT ATGTAAGTTGGGCCAAAGAAGCGCTACCGTAGACAATGGAGGGCAGCAAAAACGGAAACATGACGAGAACGCACCGCCTGGATTAAGACTATTGCAGA TCCTCCATCTTGGTGTTCGATGGAGGAGTGCAGTCGCTCGAGTCAAGAATAACTTCGTGCGGCCGCCCTCCATGTTGTTTGGGGCCTGTAAACCATAT TTTTTCTTTAGGAAAGATCCCCGCTTTCGCATAGGGTAACCGCACTAGTAGAACCATAGGCCTTCTGCCGGCAGTAAGGCTCCATATTCTCGACCTGT TACAGGTATAGAATCGATTTAGCAACTCTCCTGATTTGATATTTCTTCCGTGGCCCCGATTTGAGAGGAAATTTTGGTCCCAGGTCTAGTCTTACATT AACGTAGGTAGGTGCCCACTCGAACCACATGCGGAGTCCGAGCTCACGTGTCTCGTTCAGATAGCCTAGTACCTCCGCGGCTTTGAGTAGTATAAAGC AAGCGAGGTGGCTACGTGCGCTATACTCCTGCCTCGCTAAAGCTCGACAAGCCGTTTGACGTGTTGCTACTTGGTCCTCCCCCAGAAGGCCAACCGTA CGGCTTTCTACTTTGCCGTATCGCTAACCCCTTCTCAGATACGCGCTGTTAGTTGAGAGTGTGCCGATGGCCAGATATACGAGGCCGTCACAAATCGC GTCTATTGGATTAAGTCAATATGATTGAATTTAGTTGAAAGTGGCGGTAACTGTACGCCCGTCACCATCGAAAGATCGCACTCACGGCGACACCAAAT ATAAAAGCGCCAATTATATCTTCAATACTCTCTGCTTCCCACTGCCTACCCTGTTAGAGGATGGTGCATTTGACGTGCGGGCGACTCAGCTTGCATAG ACGATTCAATTCCGTACTGCCCGTAGGAGGTTTGTCCCACATGGATCAGACGTAGAGGACTGACAGGACTACACATCTCAACCATTTCTTACTAAATG CTTTACAAGATGGCTAAGACGATGGAGCGACAATGAGCTACCGCTTGCAAATTTTAGTTAAACCTGCTAAACATCGATACTTGACAGTAGTGCAAGCT CAATTTTGAGCTCACATCTAAGGGACCGCCCAATCCCGGTAAAACGTCTATGTACCTGTGGGCTTAGTATCCCGAGCGGTGGTCGAGCGATATTCTTC GCGGGAATTCTGATATGGTCGCGAAGGATGAACTTTGGCTTACCGCCCAACGGTAAAATGAAGGTTCTTGCAGCATCATCGCAATAAGCGGGCCGTAC GTGTAGCGGTTGACCCAGCTTTAAAACAGTCCAGCGGGCCCACTTATACCCATAGTAACCGTGCACCGAATGGAGCCAGATGGTATTTCGGTTCGCCC GCGTTGGGAGCAACTGTCTGTTAGTGTAGAAGAGCAGCTTAGCGCATCAGCTCCTCTATACCCCTTCCTAGGGAAAGCGTAACTAGTGTGAACTCGGG GGCGCCTGCCCCAAGCCCTCGAACACTAATGAGGGCGCCCAATGTTGAGCGGAGGTAACTCCACAGGACTAGCTTTTACGAGGACTCGGGACGGTACG CAATCACGCCAGTCATGACATGAAATGGGTCAGGGCCACCCGTCGGAGTGTAACGACCTATGGCTATAACGGATTTATAGTTGGTTCATCTTTGAGCA CTCTGTCGGATCCTATTTCTGGCGCCTAGCGCCAGCGTATTCATAGAATGCCGCCAATGATGCCTAGTAAATGCTTACCCGGTGTTTCACAATTACAT AAGGCAGTGATATCACACGGGGGCCAGCCTAACGCTTTCTTCCAAGCACCAAGAACGAGGACGAAGGAATCGTAGTTTTCTTAGGTAAAGCAGGCAGC CTGTGTCTGGTGGGGAGTGACGTCTATCAGCAGGAAGACTACCGTCGGCGAAATCCTGGCAAGGTCGTGAGATGTTCTCTACGACTGCGCGTTACTCG AGCAAACACACACACCTTTACTGGCCGAAGTTGCTACCATATGTTACGTGCAATCAGCCTTTCTTCAGCGCCTACGTGCGGAATAGCTCCAGCTTAGC TCGTAGATGTTTTGATGCTCAAGACGTACCTCAGATTAAGCCCCCCCTCAGAATGCTGCTAAGAAAAGCCCCCTAACCTTCTGAGGAGCAAGCTTTTC TCACAAAAGTTCTGTAGTCGTGTCACAACCCGTAACCACAATTTTTTGGATGCTGGGGCATCTGACTCAGGGTACTTGCCGCCGTATACACTACCGTG AAGGGAATATCGTTAAGACGCAGCCCCTCGTACCGCAGACACGCGAAGCAGACGATGTCCTACTCCCATTAACCAACCGCTCTGACGCATGGACAGCG TACCTAAGACTGAGGAGTGGGATCGGGACCAGTTTTATGTTTACGTGAGATATAAAAGTCCGCATCATTACTTTAACGAGGAAGTCCGCCGTAATCGG ATTTATCCGGCGTCGTCGGCGAACACTTAAGCGACTAGCGCTCTTGGCCTTGGCGTCATAGACTTACTCGAGTTACGGCGAGCGTTCGCAACCTTATC GGTTCGTAGGGTTCACAACACCTATCTTGCTTTAAATCGGAATGTTCACTTGTCGCGTCCGTTTACACGACTTCAACCCCCCTGGTACGGAACATACA TTCGTAATAGAGCCTCGATTCATGTAGCAGTCGGAACGGACGTTTAATCTAATACTGTTGAGAGAAAGAGAGGACGATATGACGCGTTGAAGCTGCGG AGCGGACGCCGCAATGCGGTACCCCGGCCTGGTCCCCACGTGAGCTTCACTTATCTTTAAGTCACCCAGCGAATCGTGCCTATAACCTTCATAACCTA GGAGATCGACGGGGGGCGAGCCGTAGCTAGCTGGCATAGCATAGAGTATAGTCGAGAAACCTGAGTGTATGGACATGTCCAGGCCGTATATTATAGGA GCAATCTGCTTCGACACTTATCCCAGAGCATATTGATACGTGGCAGACTATATTTCACCGACGAAGCATCCAGTCTTAGAGAAAGTCGGCGTTGGGCT AAGGTTGCCCTACGGGGGAATCGGCCCGATGTGCGACTGCTTGGGTTGGGCGTAGGAACCTCACCACTGATAGTCTCACAGTTCAACGTACAGGGCAG ACGTCGCCGATTCAGGACATCACAATCTTCAAGGATGAGACAATGGACCCAATGCGTTCGTTAGATAAGGAACTTCCGGGTTCTAGTGTGTCTTCAAA CGGGAACGAAAATTATCACCTAGTAGTAGTATGTGCAAAAGTGTTACATCCTTCCAGACCACTTCACCCTGAAGTAAGACCCTCAGGTGGATGGACAA GCAACCTGTAACGAGCAATTGTCGTGGCGATCTATGAGGTCTTACGCCTTTTGTCTCGGTTTTGCTTCCAGCATTAACTTTCTTAAATCAGGAGGAAC CAGACTGGCCTACTTCTCATGAGGTCAGTCCCAAATGTAGTTGGTCGTTTGACACATATCCTGTAAACACTGTCCCGTTCTATGCCAGCCGCGAAGAA\n"
          ],
          "name": "stdout"
        },
        {
          "output_type": "execute_result",
          "data": {
            "text/plain": [
              "5"
            ]
          },
          "metadata": {
            "tags": []
          },
          "execution_count": 90
        }
      ]
    }
  ]
}