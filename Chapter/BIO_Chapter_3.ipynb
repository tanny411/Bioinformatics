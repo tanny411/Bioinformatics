{
  "nbformat": 4,
  "nbformat_minor": 0,
  "metadata": {
    "colab": {
      "name": "BIO_Chapter_3.ipynb",
      "provenance": [],
      "collapsed_sections": [
        "eCHA1z1Eauz_",
        "0GUI1uDBbFr6",
        "7ZZq-CywbjI5",
        "vfBpFyW8caZU",
        "B1d7gCTCdRaI",
        "TVdkKFmtd3zp",
        "Hy61bxGkwKSK"
      ]
    },
    "kernelspec": {
      "name": "python3",
      "display_name": "Python 3"
    }
  },
  "cells": [
    {
      "cell_type": "markdown",
      "metadata": {
        "id": "eCHA1z1Eauz_",
        "colab_type": "text"
      },
      "source": [
        "## BA3A\tGenerate the k-mer Composition of a String"
      ]
    },
    {
      "cell_type": "code",
      "metadata": {
        "id": "3COmeU7S0vpm",
        "colab_type": "code",
        "colab": {}
      },
      "source": [
        "def kmerComposition(k,s):\n",
        "  ret=[]\n",
        "  for i in range(len(s)-k+1):\n",
        "    ret.append(s[i:i+k])\n",
        "    \n",
        "  return sorted(ret)"
      ],
      "execution_count": 0,
      "outputs": []
    },
    {
      "cell_type": "code",
      "metadata": {
        "id": "SMX57-B02zMn",
        "colab_type": "code",
        "outputId": "89108213-f6c4-4614-841f-84e518dd530e",
        "colab": {
          "base_uri": "https://localhost:8080/",
          "height": 102
        }
      },
      "source": [
        "for i in kmerComposition(5,'CAATCCAAC'):\n",
        "  print(i)"
      ],
      "execution_count": 0,
      "outputs": [
        {
          "output_type": "stream",
          "text": [
            "AATCC\n",
            "ATCCA\n",
            "CAATC\n",
            "CCAAC\n",
            "TCCAA\n"
          ],
          "name": "stdout"
        }
      ]
    },
    {
      "cell_type": "markdown",
      "metadata": {
        "id": "0GUI1uDBbFr6",
        "colab_type": "text"
      },
      "source": [
        "## BA3B Reconstruct a String from its Genome Path"
      ]
    },
    {
      "cell_type": "code",
      "metadata": {
        "id": "XFbUQ1cU3Pgg",
        "colab_type": "code",
        "colab": {}
      },
      "source": [
        "def genome(dnas):\n",
        "  ret=dnas[0]\n",
        "  for dna in dnas[1:]:\n",
        "    ret+=dna[-1]\n",
        "  return ret"
      ],
      "execution_count": 0,
      "outputs": []
    },
    {
      "cell_type": "code",
      "metadata": {
        "id": "WqkailOp4b6G",
        "colab_type": "code",
        "outputId": "3a075cd6-28c9-4625-be43-852f4e23a9bc",
        "colab": {
          "base_uri": "https://localhost:8080/",
          "height": 34
        }
      },
      "source": [
        "dnas = '''ACCGA\n",
        "CCGAA\n",
        "CGAAG\n",
        "GAAGC\n",
        "AAGCT'''.split('\\n')\n",
        "genome(dnas)"
      ],
      "execution_count": 0,
      "outputs": [
        {
          "output_type": "execute_result",
          "data": {
            "text/plain": [
              "'ACCGAAGCT'"
            ]
          },
          "metadata": {
            "tags": []
          },
          "execution_count": 4
        }
      ]
    },
    {
      "cell_type": "markdown",
      "metadata": {
        "id": "7ZZq-CywbjI5",
        "colab_type": "text"
      },
      "source": [
        "## BA3C Construct the Overlap Graph of a Collection of k-mers"
      ]
    },
    {
      "cell_type": "code",
      "metadata": {
        "id": "E-fq3R3c4t7_",
        "colab_type": "code",
        "colab": {}
      },
      "source": [
        "def overlap(dnas):\n",
        "  for ix,i in enumerate(dnas):\n",
        "    for jx,j in enumerate(dnas):\n",
        "      if ix==jx:\n",
        "        continue\n",
        "      if i[1:]==j[:-1]:\n",
        "        print(i,'->',j)"
      ],
      "execution_count": 0,
      "outputs": []
    },
    {
      "cell_type": "code",
      "metadata": {
        "id": "Z5mF_v3p6i8-",
        "colab_type": "code",
        "outputId": "c1967a02-e755-4b8f-9b1d-29365e3bab04",
        "colab": {
          "base_uri": "https://localhost:8080/",
          "height": 85
        }
      },
      "source": [
        "s = '''ATGCG\n",
        "GCATG\n",
        "CATGC\n",
        "AGGCA\n",
        "GGCAT'''.split('\\n')\n",
        "overlap(s)"
      ],
      "execution_count": 0,
      "outputs": [
        {
          "output_type": "stream",
          "text": [
            "GCATG -> CATGC\n",
            "CATGC -> ATGCG\n",
            "AGGCA -> GGCAT\n",
            "GGCAT -> GCATG\n"
          ],
          "name": "stdout"
        }
      ]
    },
    {
      "cell_type": "markdown",
      "metadata": {
        "id": "vfBpFyW8caZU",
        "colab_type": "text"
      },
      "source": [
        "## BA3D Construct the De Bruijn Graph of a String"
      ]
    },
    {
      "cell_type": "code",
      "metadata": {
        "id": "ZL7j63Nw8P4k",
        "colab_type": "code",
        "colab": {}
      },
      "source": [
        "from collections import defaultdict "
      ],
      "execution_count": 0,
      "outputs": []
    },
    {
      "cell_type": "code",
      "metadata": {
        "id": "UMguGa5F7E5a",
        "colab_type": "code",
        "colab": {}
      },
      "source": [
        "def De_Bruijn(k,dna):\n",
        "  mp = defaultdict(list)\n",
        "  for i in range(len(dna)-k+1):\n",
        "    mp[dna[i:i+k-1]].append(dna[i+1:i+k])\n",
        "  return mp"
      ],
      "execution_count": 0,
      "outputs": []
    },
    {
      "cell_type": "code",
      "metadata": {
        "id": "FrkQ5fR69REx",
        "colab_type": "code",
        "colab": {}
      },
      "source": [
        "k=4\n",
        "dna='AAGATTCTCTAC'"
      ],
      "execution_count": 0,
      "outputs": []
    },
    {
      "cell_type": "code",
      "metadata": {
        "id": "ExE-1P6k8wE8",
        "colab_type": "code",
        "outputId": "30104682-7afc-487e-88ee-205374d9f00f",
        "colab": {
          "base_uri": "https://localhost:8080/",
          "height": 153
        }
      },
      "source": [
        "for k,v in De_Bruijn(k,dna).items():\n",
        "  print(k,'->',end=' ')\n",
        "  for ix,i in enumerate(v):\n",
        "    c=','\n",
        "    if ix==len(v)-1:\n",
        "      c='\\n'\n",
        "    print(i,end=c)"
      ],
      "execution_count": 0,
      "outputs": [
        {
          "output_type": "stream",
          "text": [
            "AAG -> AGA\n",
            "AGA -> GAT\n",
            "GAT -> ATT\n",
            "ATT -> TTC\n",
            "TTC -> TCT\n",
            "TCT -> CTC,CTA\n",
            "CTC -> TCT\n",
            "CTA -> TAC\n"
          ],
          "name": "stdout"
        }
      ]
    },
    {
      "cell_type": "markdown",
      "metadata": {
        "id": "B1d7gCTCdRaI",
        "colab_type": "text"
      },
      "source": [
        "## BA3E Construct the De Bruijn Graph of a Collection of k-mers"
      ]
    },
    {
      "cell_type": "code",
      "metadata": {
        "id": "aGlvdLZi9Utr",
        "colab_type": "code",
        "colab": {}
      },
      "source": [
        "def De_Bruijn_kmer(kmers):\n",
        "  mp = defaultdict(list)\n",
        "  for s in kmers:\n",
        "    mp[s[:-1]].append(s[1:])\n",
        "  return mp"
      ],
      "execution_count": 0,
      "outputs": []
    },
    {
      "cell_type": "code",
      "metadata": {
        "colab_type": "code",
        "id": "m17v5ODr-oGz",
        "colab": {}
      },
      "source": [
        "dnas='''GAGG\n",
        "CAGG\n",
        "GGGG\n",
        "GGGA\n",
        "CAGG\n",
        "AGGG\n",
        "GGAG'''.split('\\n')"
      ],
      "execution_count": 0,
      "outputs": []
    },
    {
      "cell_type": "code",
      "metadata": {
        "colab_type": "code",
        "outputId": "1b97720f-06e9-4973-cc06-fba2450cb8e0",
        "id": "ZUE4j0KZ-oG4",
        "colab": {
          "base_uri": "https://localhost:8080/",
          "height": 102
        }
      },
      "source": [
        "for k,v in De_Bruijn_kmer(dnas).items():\n",
        "  print(k,'->',end=' ')\n",
        "  for ix,i in enumerate(v):\n",
        "    c=','\n",
        "    if ix==len(v)-1:\n",
        "      c='\\n'\n",
        "    print(i,end=c)"
      ],
      "execution_count": 0,
      "outputs": [
        {
          "output_type": "stream",
          "text": [
            "GAG -> AGG\n",
            "CAG -> AGG,AGG\n",
            "GGG -> GGG,GGA\n",
            "AGG -> GGG\n",
            "GGA -> GAG\n"
          ],
          "name": "stdout"
        }
      ]
    },
    {
      "cell_type": "markdown",
      "metadata": {
        "id": "TVdkKFmtd3zp",
        "colab_type": "text"
      },
      "source": [
        "## BA3F Find an Eulerian Cycle in a Graph"
      ]
    },
    {
      "cell_type": "markdown",
      "metadata": {
        "id": "12wZZYvO1qs5",
        "colab_type": "text"
      },
      "source": [
        "     a) Choose any vertex v and push it onto a stack. Initially all edges are unmarked.\n",
        "     b) While the stack is nonempty, look at the top vertex, u, on the stack. If u has an unmarked incident edge, say, to a vertex w, then push w onto the stack and mark the edge uw. On the other hand, if u has no unmarked incident edge, then pop u off the stack and print it.                \n",
        "     c) When the stack is empty, you will have printed a sequence of vertices that correspond to an Eulerian circuit."
      ]
    },
    {
      "cell_type": "code",
      "metadata": {
        "id": "6vzVNJeqjQem",
        "colab_type": "code",
        "outputId": "c237251f-0683-43db-b120-6144006b0643",
        "colab": {
          "base_uri": "https://localhost:8080/",
          "height": 34
        }
      },
      "source": [
        "s = '''0 -> 3\n",
        "1 -> 0\n",
        "2 -> 1,6\n",
        "3 -> 2\n",
        "4 -> 2\n",
        "5 -> 4\n",
        "6 -> 5,8\n",
        "7 -> 9\n",
        "8 -> 7\n",
        "9 -> 6'''.split('\\n')\n",
        "\n",
        "graph=list(range(10000))\n",
        "for line in s:\n",
        "  y,x = line.split(' -> ')\n",
        "  x=x.strip()\n",
        "  y=int(y.strip())\n",
        "  graph[y]=([int(i) for i in x.split(',')])\n",
        "  \n",
        "visited = []\n",
        "def EulerPath(node):\n",
        "  ret = []\n",
        "  global visited\n",
        "  for i in graph[node]:\n",
        "    edge=str(node)+'to'+str(i)\n",
        "    if edge not in visited:\n",
        "      visited.append(edge)\n",
        "      ret+=EulerPath(i)\n",
        "  ret.append(node)\n",
        "  return ret\n",
        "      \n",
        "EU=EulerPath(0)\n",
        "for i in EU[:0:-1]:\n",
        "  print(i,end='->')\n",
        "print(EU[0])"
      ],
      "execution_count": 0,
      "outputs": [
        {
          "output_type": "stream",
          "text": [
            "0->3->2->6->8->7->9->6->5->4->2->1->0\n"
          ],
          "name": "stdout"
        }
      ]
    },
    {
      "cell_type": "markdown",
      "metadata": {
        "id": "Hy61bxGkwKSK",
        "colab_type": "text"
      },
      "source": [
        "## BA3G Eulerian Path Problem"
      ]
    },
    {
      "cell_type": "code",
      "metadata": {
        "id": "Gj0quswh6qQr",
        "colab_type": "code",
        "colab": {}
      },
      "source": [
        "s = '''0 -> 2\n",
        "1 -> 3\n",
        "2 -> 1\n",
        "3 -> 0,4\n",
        "6 -> 3,7\n",
        "7 -> 8\n",
        "8 -> 9\n",
        "9 -> 6'''.split('\\n')\n",
        "\n",
        "graph=[[]]*10000\n",
        "for line in s:\n",
        "  y,x = line.split(' -> ')\n",
        "  x=x.strip()\n",
        "  y=int(y.strip())\n",
        "  graph[y]=([int(i) for i in x.split(',')])\n",
        "  \n",
        "node=-1\n",
        "indegree=[0]*10000\n",
        "outdegree=[0]*10000\n",
        "for i,ls in enumerate(graph):\n",
        "#   print(i,ls)\n",
        "  outdegree[i]=len(ls)\n",
        "  for j in ls:\n",
        "    indegree[j]+=1\n",
        "    \n",
        "for i,_ in enumerate(graph):\n",
        "  if outdegree[i]>indegree[i]:\n",
        "    node=i\n",
        "    break\n",
        "\n",
        "visited = []\n",
        "def EulerPath(node):\n",
        "  ret = []\n",
        "  global visited\n",
        "  for i in graph[node]:\n",
        "    edge=str(node)+'to'+str(i)\n",
        "    if edge not in visited:\n",
        "      visited.append(edge)\n",
        "      ret+=EulerPath(i)\n",
        "  ret.append(node)\n",
        "  return ret\n",
        "      \n",
        "EU=EulerPath(node)\n",
        "for i in EU[:0:-1]:\n",
        "  print(i,end='->')\n",
        "print(EU[0])"
      ],
      "execution_count": 0,
      "outputs": []
    },
    {
      "cell_type": "markdown",
      "metadata": {
        "id": "sIL2Y5VPAOl-",
        "colab_type": "text"
      },
      "source": [
        "## BA3H Reconstruct a String from its k-mer Composition"
      ]
    },
    {
      "cell_type": "code",
      "metadata": {
        "id": "EDIlok5jAAkc",
        "colab_type": "code",
        "colab": {}
      },
      "source": [
        "from collections import defaultdict \n",
        "\n",
        "def De_Bruijn_kmer(kmers):\n",
        "  mp = defaultdict(list)\n",
        "  for s in kmers:\n",
        "    mp[s[:-1]].append(s[1:])\n",
        "  return mp\n",
        "\n",
        "def reconstruct(k,kmers):\n",
        "  mp=[]\n",
        "  graph=[[] for i in range(10000)]\n",
        "#   print(De_Bruijn_kmer(kmers))\n",
        "  for k,v in De_Bruijn_kmer(kmers).items():\n",
        "    if k not in mp:\n",
        "      mp.append(k)\n",
        "    idx = mp.index(k)\n",
        "    for i in v:\n",
        "#       print(k,i)\n",
        "      if i not in mp:\n",
        "        mp.append(i)\n",
        "      idy = mp.index(i)\n",
        "#       print(idx,idy)\n",
        "      graph[idx].append(idy)\n",
        "  \n",
        "  node=0\n",
        "  indegree=[0]*10000\n",
        "  outdegree=[0]*10000\n",
        "  for i,ls in enumerate(graph):\n",
        "  #   print(i,ls)\n",
        "    outdegree[i]=len(ls)\n",
        "    for j in ls:\n",
        "      indegree[j]+=1\n",
        "\n",
        "  for i,_ in enumerate(graph):\n",
        "    if outdegree[i]>indegree[i]:\n",
        "      node=i\n",
        "      break\n",
        "\n",
        "  visited = []\n",
        "  def EulerPath(node):\n",
        "    ret = []\n",
        "    stack = [node]\n",
        "    nonlocal visited\n",
        "    ase=0\n",
        "    while(len(stack)>0):\n",
        "      node=stack[-1]\n",
        "      stk = []\n",
        "      for i in graph[node]:\n",
        "        edge=str(node)+'to'+str(i)\n",
        "        if edge not in visited:\n",
        "          visited.append(edge)\n",
        "          stk.append(i)\n",
        "          ase=1\n",
        "      if ase==0:\n",
        "        stack=stack[:-1]\n",
        "        ret.append(node)\n",
        "      stack+=stk\n",
        "    return ret\n",
        "  \n",
        "  EU=EulerPath(node)\n",
        "  EU=EU[::-1]\n",
        "  print(mp[EU[0]],end='')\n",
        "  for i in EU[1:]:\n",
        "    print(mp[i][-1],end='')"
      ],
      "execution_count": 0,
      "outputs": []
    },
    {
      "cell_type": "code",
      "metadata": {
        "id": "JvpcqwmODaYv",
        "colab_type": "code",
        "colab": {}
      },
      "source": [
        "reconstruct(4,input().split())"
      ],
      "execution_count": 0,
      "outputs": []
    },
    {
      "cell_type": "code",
      "metadata": {
        "id": "iI5fLiURrDdH",
        "colab_type": "code",
        "colab": {}
      },
      "source": [
        ""
      ],
      "execution_count": 0,
      "outputs": []
    }
  ]
}