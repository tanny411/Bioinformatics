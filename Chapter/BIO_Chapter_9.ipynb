{
  "nbformat": 4,
  "nbformat_minor": 0,
  "metadata": {
    "colab": {
      "name": "BIO_Chapter_9.ipynb",
      "provenance": [],
      "collapsed_sections": [
        "h7t5R43G_IsG",
        "zoU3z4aG_Ipx",
        "X7qjptDQ-zK4"
      ]
    },
    "kernelspec": {
      "name": "python3",
      "display_name": "Python 3"
    }
  },
  "cells": [
    {
      "cell_type": "markdown",
      "metadata": {
        "id": "CmO88BWG-zZq",
        "colab_type": "text"
      },
      "source": [
        "## BA9A\tConstruct a Trie from a Collection of Patterns"
      ]
    },
    {
      "cell_type": "code",
      "metadata": {
        "id": "Pv7JRK7vuAOA",
        "colab_type": "code",
        "colab": {}
      },
      "source": [
        "class trie:\n",
        "  def __init__(self,charno=27):\n",
        "    self.charno=charno\n",
        "    self.root=0;\n",
        "    self.tree=[[-1]*charno]     ##edges from the root\n",
        "    self.end=[-1]               ##ends in root\n",
        "    self.no_of_patters=0\n",
        "    self.node=1\n",
        "\n",
        "  def insert(self,pat):\n",
        "    self.no_of_patters+=1\n",
        "    cur=self.root\n",
        "    for i,x in enumerate(pat):\n",
        "      ind = ord(x) - ord('A')\n",
        "      if x == '$':\n",
        "        ind = 26\n",
        "      if self.tree[cur][ind]==-1:\n",
        "        self.tree[cur][ind]=self.node\n",
        "        self.tree.append([-1]*self.charno)\n",
        "        cur=self.node\n",
        "        self.node+=1\n",
        "        self.end+=[-1]\n",
        "      else:\n",
        "        cur=self.tree[cur][ind]\n",
        "    self.end[cur] = self.no_of_patters\n",
        "  \n",
        "  def search(self,pat):\n",
        "    '''\n",
        "    returns all positions in `pat` \n",
        "    where the patterns in trie occur\n",
        "    from the starting position of `pat`\n",
        "    '''\n",
        "    ret = []\n",
        "    cur=self.root\n",
        "    for i,x in enumerate(pat):\n",
        "      ind = ord(x) - ord('A')\n",
        "      if x == '$':\n",
        "        ind = 26\n",
        "      if self.tree[cur][ind]==-1:\n",
        "        break\n",
        "      cur = self.tree[cur][ind]\n",
        "      if self.end[cur]!=-1:\n",
        "        ret.append(self.end[cur])\n",
        "      # print(x,cur,self.end[cur])\n",
        "    return ret\n",
        "\n",
        "  def printTrie(self, cur=-1, par=-1, sym=-1):\n",
        "    if cur==-1:\n",
        "      cur=self.root\n",
        "    for i in range(self.charno):\n",
        "      if self.tree[cur][i]!=-1:\n",
        "       self.printTrie(self.tree[cur][i],cur,i)\n",
        "    if par!=-1:\n",
        "      print(str(par)+'->'+str(cur)+':',chr(sym+ord('A')))"
      ],
      "execution_count": 0,
      "outputs": []
    },
    {
      "cell_type": "code",
      "metadata": {
        "id": "hK6uneoCuAEv",
        "colab_type": "code",
        "colab": {
          "base_uri": "https://localhost:8080/",
          "height": 176
        },
        "outputId": "6b310df9-9e51-492d-8498-daf62877ec78"
      },
      "source": [
        "pats = ['ATAGA','ATC','GAT']\n",
        "\n",
        "tr = trie()\n",
        "for pat in pats:\n",
        "  tr.insert(pat)\n",
        "tr.printTrie()"
      ],
      "execution_count": 22,
      "outputs": [
        {
          "output_type": "stream",
          "text": [
            "4->5: A\n",
            "3->4: G\n",
            "2->3: A\n",
            "2->6: C\n",
            "1->2: T\n",
            "0->1: A\n",
            "8->9: T\n",
            "7->8: A\n",
            "0->7: G\n"
          ],
          "name": "stdout"
        }
      ]
    },
    {
      "cell_type": "markdown",
      "metadata": {
        "id": "oePY0yz5-zcE",
        "colab_type": "text"
      },
      "source": [
        "## BA9B\tImplement TrieMatching"
      ]
    },
    {
      "cell_type": "code",
      "metadata": {
        "id": "5IUjj3Q5gw0E",
        "colab_type": "code",
        "colab": {
          "base_uri": "https://localhost:8080/",
          "height": 34
        },
        "outputId": "4bb9ed6a-df8f-42ad-bc68-00f6c44e4030"
      },
      "source": [
        "text = \"AATCGGGTTCAATCGGGGT\"\n",
        "pats = [\"ATCG\",\"GGGT\"]\n",
        "\n",
        "tr = trie()\n",
        "\n",
        "for pat in pats:\n",
        "  tr.insert(pat)\n",
        "\n",
        "# tr.printTrie()\n",
        "\n",
        "ans = []\n",
        "for i in range(len(text)):\n",
        "  ans += [i]*len(tr.search(text[i:]))\n",
        "\n",
        "ans"
      ],
      "execution_count": 31,
      "outputs": [
        {
          "output_type": "execute_result",
          "data": {
            "text/plain": [
              "[1, 4, 11, 15]"
            ]
          },
          "metadata": {
            "tags": []
          },
          "execution_count": 31
        }
      ]
    },
    {
      "cell_type": "markdown",
      "metadata": {
        "id": "ui0J7Nz1-zWk",
        "colab_type": "text"
      },
      "source": [
        "## BA9C\tConstruct the Suffix Tree of a String"
      ]
    },
    {
      "cell_type": "code",
      "metadata": {
        "id": "VyGzlsJvoiKe",
        "colab_type": "code",
        "colab": {
          "base_uri": "https://localhost:8080/",
          "height": 265
        },
        "outputId": "b5abc7cb-65cc-404e-debb-f5b8c1fadca8"
      },
      "source": [
        "def create_trie(patterns):\n",
        "  trie = []\n",
        "  end = []\n",
        "  end += [-1]\n",
        "  trie.append([-1]*27)\n",
        "  cur_node = 0\n",
        "  sz = 1\n",
        "\n",
        "  for i in range(len(pat_list)):\n",
        "    cur_node = 0\n",
        "    for j in range(len(pat_list[i])):\n",
        "      ind = ord(pat_list[i][j]) - ord('A')\n",
        "      if pat_list[i][j] == '$':\n",
        "        ind = 26\n",
        "      if trie[cur_node][ind] == -1:\n",
        "        trie.append([-1]*27)\n",
        "        trie[cur_node][ind] = sz\n",
        "        cur_node = sz\n",
        "        sz += 1\n",
        "        end += [-1]\n",
        "      else:\n",
        "        cur_node = trie[cur_node][ind]\n",
        "    end[cur_node] = i\n",
        "  return trie, end\n",
        "  \n",
        "def int_to_char(x):\n",
        "  if x == 26:\n",
        "    return \"$\"\n",
        "  return chr(ord('A') + x)\n",
        "\n",
        "def char_to_int(ch):\n",
        "  return ord(ch) - ord('A')\n",
        "\n",
        "\n",
        "def dfs(u,ch):\n",
        "  # print(u,ch)\n",
        "  child = 27 - trie[u].count(-1)\n",
        "  if child == 0:\n",
        "    return ch\n",
        "  substring = \"\"\n",
        "  for i in range(27):\n",
        "    if trie[u][i] != -1:\n",
        "      substring = dfs(trie[u][i], int_to_char(i))\n",
        "      if child > 1:\n",
        "        print(substring)\n",
        "  if child == 1:\n",
        "    return str(ch) + substring\n",
        "  return ch\n",
        "\n",
        "text = input()\n",
        "pat_list = []\n",
        "for i in range(len(text)):\n",
        "  pat_list.append(text[i:])\n",
        "trie, end = create_trie(pat_list)\n",
        "dfs(0,'')"
      ],
      "execution_count": 32,
      "outputs": [
        {
          "output_type": "stream",
          "text": [
            "ATAAATG$\n",
            "ATG$\n",
            "TG$\n",
            "A\n",
            "AAATG$\n",
            "G$\n",
            "T\n",
            "A\n",
            "G$\n",
            "AAATG$\n",
            "G$\n",
            "T\n",
            "$\n"
          ],
          "name": "stdout"
        },
        {
          "output_type": "execute_result",
          "data": {
            "text/plain": [
              "''"
            ]
          },
          "metadata": {
            "tags": []
          },
          "execution_count": 32
        }
      ]
    },
    {
      "cell_type": "markdown",
      "metadata": {
        "id": "izgRK78L-zOg",
        "colab_type": "text"
      },
      "source": [
        "## BA9G\tConstruct the Suffix Array of a String"
      ]
    },
    {
      "cell_type": "code",
      "metadata": {
        "id": "py5T4tKOMFHJ",
        "colab_type": "code",
        "outputId": "b1861499-4a1c-4b7e-f5de-744304a5262d",
        "colab": {
          "base_uri": "https://localhost:8080/",
          "height": 34
        }
      },
      "source": [
        "s = 'AACGATAGCGGTAGA$'\n",
        "print(sorted(range(len(s)), key=lambda i: s[i:]))"
      ],
      "execution_count": 33,
      "outputs": [
        {
          "output_type": "stream",
          "text": [
            "[15, 14, 0, 1, 12, 6, 4, 2, 8, 13, 3, 7, 9, 10, 11, 5]\n"
          ],
          "name": "stdout"
        }
      ]
    },
    {
      "cell_type": "markdown",
      "metadata": {
        "id": "vyT-glNg_Ilf",
        "colab_type": "text"
      },
      "source": [
        "## BA9H\tPattern Matching with the Suffix Array"
      ]
    },
    {
      "cell_type": "code",
      "metadata": {
        "colab_type": "code",
        "outputId": "1eb91ef0-6b57-462a-fa11-e06ed7c3f7ea",
        "id": "K0kkZChPo6uK",
        "colab": {
          "base_uri": "https://localhost:8080/",
          "height": 34
        }
      },
      "source": [
        "def appx(text, ls):\n",
        "\n",
        "  def khujo(text,pat):\n",
        "    ln = len(pat)\n",
        "    ret=[]\n",
        "    for i in range(len(text)-ln+1):\n",
        "      if text[i:i+ln] == pat:\n",
        "        ret.append(i)\n",
        "    return ret\n",
        "\n",
        "  ret=[]\n",
        "  for pat in ls:\n",
        "    ret+=khujo(text,pat)\n",
        "  return sorted(ret)\n",
        "\n",
        "text = \"AATCGGGTTCAATCGGGGT\"\n",
        "pats = \"ATCG GGGT\".split()\n",
        "appx(text,pats)"
      ],
      "execution_count": 0,
      "outputs": [
        {
          "output_type": "execute_result",
          "data": {
            "text/plain": [
              "[1, 4, 11, 15]"
            ]
          },
          "metadata": {
            "tags": []
          },
          "execution_count": 91
        }
      ]
    },
    {
      "cell_type": "markdown",
      "metadata": {
        "id": "h7t5R43G_IsG",
        "colab_type": "text"
      },
      "source": [
        "## BA9I\tConstruct the Burrows-Wheeler Transform of a String"
      ]
    },
    {
      "cell_type": "code",
      "metadata": {
        "id": "dXbfWy_-TAj3",
        "colab_type": "code",
        "colab": {}
      },
      "source": [
        "def BWT(text):\n",
        "  bwt = []\n",
        "  for i,_ in enumerate(text):\n",
        "    bwt.append(text[i:]+text[:i])\n",
        "  bwt = sorted(bwt)\n",
        "  for i in bwt:\n",
        "    print(i)\n",
        "  return ''.join(v[-1] for v in bwt)"
      ],
      "execution_count": 0,
      "outputs": []
    },
    {
      "cell_type": "code",
      "metadata": {
        "id": "OQZ1NeYCTA60",
        "colab_type": "code",
        "outputId": "602137ee-a6f1-40ea-a437-5667948099cc",
        "colab": {
          "base_uri": "https://localhost:8080/",
          "height": 272
        }
      },
      "source": [
        "BWT(\"GCGTGCCTGGTCA$\")"
      ],
      "execution_count": 0,
      "outputs": [
        {
          "output_type": "stream",
          "text": [
            "$GCGTGCCTGGTCA\n",
            "A$GCGTGCCTGGTC\n",
            "CA$GCGTGCCTGGT\n",
            "CCTGGTCA$GCGTG\n",
            "CGTGCCTGGTCA$G\n",
            "CTGGTCA$GCGTGC\n",
            "GCCTGGTCA$GCGT\n",
            "GCGTGCCTGGTCA$\n",
            "GGTCA$GCGTGCCT\n",
            "GTCA$GCGTGCCTG\n",
            "GTGCCTGGTCA$GC\n",
            "TCA$GCGTGCCTGG\n",
            "TGCCTGGTCA$GCG\n",
            "TGGTCA$GCGTGCC\n"
          ],
          "name": "stdout"
        },
        {
          "output_type": "execute_result",
          "data": {
            "text/plain": [
              "'ACTGGCT$TGCGGC'"
            ]
          },
          "metadata": {
            "tags": []
          },
          "execution_count": 18
        }
      ]
    },
    {
      "cell_type": "markdown",
      "metadata": {
        "id": "zoU3z4aG_Ipx",
        "colab_type": "text"
      },
      "source": [
        "## BA9J\tReconstruct a String from its Burrows-Wheeler Transform"
      ]
    },
    {
      "cell_type": "code",
      "metadata": {
        "id": "kLY8SZNsaVza",
        "colab_type": "code",
        "outputId": "3dc8af43-0783-4890-b330-a2cc83c11a8e",
        "colab": {
          "base_uri": "https://localhost:8080/",
          "height": 34
        }
      },
      "source": [
        "sorted(\"ACTGGCT$TGCGGC\")"
      ],
      "execution_count": 0,
      "outputs": [
        {
          "output_type": "execute_result",
          "data": {
            "text/plain": [
              "['$', 'A', 'C', 'C', 'C', 'C', 'G', 'G', 'G', 'G', 'G', 'T', 'T', 'T']"
            ]
          },
          "metadata": {
            "tags": []
          },
          "execution_count": 20
        }
      ]
    },
    {
      "cell_type": "code",
      "metadata": {
        "id": "F-Kt2YkMhYiE",
        "colab_type": "code",
        "colab": {}
      },
      "source": [
        "def num(text):\n",
        "    a,c,t,g=0,0,0,0\n",
        "    for j,i in enumerate(text):\n",
        "      if i=='A':\n",
        "        a+=1\n",
        "        text[j]='A'+str(a)\n",
        "      elif i=='G':\n",
        "        g+=1\n",
        "        text[j]='G'+str(g)\n",
        "      elif i=='C':\n",
        "        c+=1\n",
        "        text[j]='C'+str(c)\n",
        "      elif i=='T':\n",
        "        t+=1\n",
        "        text[j]='T'+str(t)\n",
        "    return text"
      ],
      "execution_count": 0,
      "outputs": []
    },
    {
      "cell_type": "code",
      "metadata": {
        "id": "9XtxTg85UU_D",
        "colab_type": "code",
        "colab": {}
      },
      "source": [
        "def invBWT(text):\n",
        "  text = list(text)\n",
        "  srt = sorted(text)\n",
        "  text = num(text)\n",
        "  srt = num(srt)\n",
        "  # print(text,srt)\n",
        "  ans = ['$']\n",
        "  # print(type(ans))\n",
        "  for i in range(len(srt)-1):\n",
        "    idx = srt.index(ans[-1])\n",
        "    ans.append(text[idx])\n",
        "  return ''.join([x[0] for x in ans][::-1])"
      ],
      "execution_count": 0,
      "outputs": []
    },
    {
      "cell_type": "code",
      "metadata": {
        "id": "KIzR44LBVGha",
        "colab_type": "code",
        "outputId": "092a64a9-7cce-487d-ab7e-95c36cb4baa3",
        "colab": {
          "base_uri": "https://localhost:8080/",
          "height": 34
        }
      },
      "source": [
        "invBWT(\"TTCCTAACG$A\") #TACATCACGT"
      ],
      "execution_count": 0,
      "outputs": [
        {
          "output_type": "execute_result",
          "data": {
            "text/plain": [
              "'TACATCACGT$'"
            ]
          },
          "metadata": {
            "tags": []
          },
          "execution_count": 63
        }
      ]
    },
    {
      "cell_type": "markdown",
      "metadata": {
        "id": "X7qjptDQ-zK4",
        "colab_type": "text"
      },
      "source": [
        "## BA9K\tGenerate the Last-to-First Mapping of a String"
      ]
    },
    {
      "cell_type": "code",
      "metadata": {
        "id": "GxOj8ZolgPiZ",
        "colab_type": "code",
        "outputId": "ed213296-9c85-4285-b853-11b25e3c523c",
        "colab": {
          "base_uri": "https://localhost:8080/",
          "height": 34
        }
      },
      "source": [
        "def l2f(transform, ix):\n",
        "  return num(sorted(list(transform))).index(num(list(transform))[ix])\n",
        "\n",
        "l2f(\"T$GACCA\", 3)"
      ],
      "execution_count": 0,
      "outputs": [
        {
          "output_type": "execute_result",
          "data": {
            "text/plain": [
              "1"
            ]
          },
          "metadata": {
            "tags": []
          },
          "execution_count": 81
        }
      ]
    },
    {
      "cell_type": "code",
      "metadata": {
        "id": "aW_1-7-DiPlu",
        "colab_type": "code",
        "outputId": "e92ccc9a-be0f-4a70-c653-6d54e8701fea",
        "colab": {
          "base_uri": "https://localhost:8080/",
          "height": 34
        }
      },
      "source": [
        "l2f(\"CATGACACGAGCATGAGGCTGACGCCTGGCCGCGTTATATGCCGTCTCTTAATTTTTTGATTTCAGGTAGGTTAGGGCCGCAATCCTTCACGCTACAAGAAGGCACGCCTAACGAAAGCAGTCTTTTCGCTATTATTATTCCTTAGGCACCGGACCTTAGGATCCACTTCGGCGCCCCCCACCCCGCTCTTTTGCTCAACCGTCGCGGCAAGGGCATATTATTTGGATGCATTATTAGGGCAACCTGCTGACCAGCAATACATTTAGCTCCTCATGATAGGCGCGCAAAGACAGTGCATGTATTCGCTAAAGACTCTCTGTACCGATCTGGTCAGTTTTGGGGTCGCGAGGTGAGTTTTTGTTCACGAAATCACCCGTTCCTTGCGACCCAATTCTGGGCTTCCAGTTAATTAAGCACCCGGCCAGGGAGGTTTTCGCTACGGCGAGCGTTATGCAGATTAACGGCAATCTATGCGATGAGCTGCAAAGGGTGGATGGTTTTCGATGGTTTCTACAGGCTGCTAATAACGGGAATGAAATTTTATGCCGAGATGTTGCCGTCATTGGTACGCTTGCCAACCACCCTCGCGTATAGGATTCTGACAACAGCTGCCGACGTCAACACCCGAGACTGGCTAGGCAACTAATTCGACTTGTTACCTGTACAAATGCCCTCCGGTGACCGCTGACCATCGGTGGCATTGGTACACGTCCTGGTTTTCAGAGCCCTTTTCATCCCGGTTCCCTTGCCATAACAGAGTTGGGTTCATCGGGTATTGATATCTTCCTCCTTTATACGTAAATTAAGGTCTGGGATAGAGGAACAAATGACGCCAGGAACTATTTGTTCGCAGGGTTGAGATACTTGTTGCATAATATCTGATGAGAG$\",789)"
      ],
      "execution_count": 0,
      "outputs": [
        {
          "output_type": "execute_result",
          "data": {
            "text/plain": [
              "412"
            ]
          },
          "metadata": {
            "tags": []
          },
          "execution_count": 83
        }
      ]
    },
    {
      "cell_type": "markdown",
      "metadata": {
        "id": "-hDq13RQ_Z8G",
        "colab_type": "text"
      },
      "source": [
        "## BA9L\tImplement BWMatching"
      ]
    },
    {
      "cell_type": "markdown",
      "metadata": {
        "id": "xrg07tnI_aCM",
        "colab_type": "text"
      },
      "source": [
        "## BA9M\tImplement BetterBWMatching"
      ]
    },
    {
      "cell_type": "markdown",
      "metadata": {
        "id": "xGn7sZ3m_Z_y",
        "colab_type": "text"
      },
      "source": [
        "## BA9N\tFind All Occurrences of a Collection of Patterns in a String"
      ]
    },
    {
      "cell_type": "markdown",
      "metadata": {
        "id": "Q2RKEQU7_f9d",
        "colab_type": "text"
      },
      "source": [
        "## BA9O\tFind All Approximate Occurrences of a Collection of Patterns in a String"
      ]
    },
    {
      "cell_type": "code",
      "metadata": {
        "id": "0-eBdawRib8D",
        "colab_type": "code",
        "outputId": "cdefceac-ccd9-4fc7-cd53-02d782950fac",
        "colab": {
          "base_uri": "https://localhost:8080/",
          "height": 34
        }
      },
      "source": [
        "def appx(text, ls, x):\n",
        "\n",
        "  def ham(a,b):\n",
        "    diff=0\n",
        "    for i,j in zip(a,b):\n",
        "      if i!=j:\n",
        "        diff+=1\n",
        "    return diff\n",
        "\n",
        "  def khujo(text,pat,mis):\n",
        "    ln = len(pat)\n",
        "    ret=[]\n",
        "    for i in range(len(text)-ln+1):\n",
        "      if ham(text[i:i+ln],pat) <= mis:\n",
        "        ret.append(i)\n",
        "    return ret\n",
        "\n",
        "  ret=[]\n",
        "  for pat in ls:\n",
        "    ret+=khujo(text,pat,x)\n",
        "  return sorted(ret)\n",
        "\n",
        "text = \"ACATGCTACTTT\"\n",
        "pats = \"ATT GCC GCTA TATT\".split()\n",
        "mis = 1\n",
        "appx(text,pats,mis)"
      ],
      "execution_count": 0,
      "outputs": [
        {
          "output_type": "execute_result",
          "data": {
            "text/plain": [
              "[2, 4, 4, 6, 7, 8, 9]"
            ]
          },
          "metadata": {
            "tags": []
          },
          "execution_count": 87
        }
      ]
    },
    {
      "cell_type": "markdown",
      "metadata": {
        "id": "gvmgV5Yl_f7B",
        "colab_type": "text"
      },
      "source": [
        "## BA9Q\tConstruct the Partial Suffix Array of a String"
      ]
    },
    {
      "cell_type": "code",
      "metadata": {
        "id": "RGeQdcdlrpvL",
        "colab_type": "code",
        "colab": {
          "base_uri": "https://localhost:8080/",
          "height": 105
        },
        "outputId": "3e73c88d-0636-4080-dce3-13e055bc6ce8"
      },
      "source": [
        "text = input()\n",
        "k = int(input())\n",
        "suffix_ara = sorted(range(len(text)), key=lambda i: text[i:])\n",
        "for i in range(len(suffix_ara)):\n",
        "  if suffix_ara[i] % k == 0:\n",
        "    print(str(i) + \",\" + str(suffix_ara[i]))"
      ],
      "execution_count": 36,
      "outputs": [
        {
          "output_type": "stream",
          "text": [
            "PANAMABANANAS$\n",
            "5\n",
            "1,5\n",
            "11,10\n",
            "12,0\n"
          ],
          "name": "stdout"
        }
      ]
    },
    {
      "cell_type": "markdown",
      "metadata": {
        "id": "cFTYi8CK_f4v",
        "colab_type": "text"
      },
      "source": [
        "## BA9R\tConstruct a Suffix Tree from a Suffix Array"
      ]
    },
    {
      "cell_type": "code",
      "metadata": {
        "id": "0tB9vJFbr8rQ",
        "colab_type": "code",
        "colab": {
          "base_uri": "https://localhost:8080/",
          "height": 194
        },
        "outputId": "944771c2-f0bd-46fe-e775-32cd16a4c50c"
      },
      "source": [
        "def int_to_char(x):\n",
        "  if x == 26:\n",
        "    return \"$\"\n",
        "  return chr(ord('A') + x)\n",
        "\n",
        "def char_to_int(ch):\n",
        "  return ord(ch) - ord('A')\n",
        "\n",
        "def dfs(u,ch):\n",
        "  # print(u,ch)\n",
        "  child = 27 - trie[u].count(-1)\n",
        "  if child == 0:\n",
        "    return ch\n",
        "  substring = \"\"\n",
        "  for i in range(27):\n",
        "    if trie[u][i] != -1:\n",
        "      substring = dfs(trie[u][i], int_to_char(i))\n",
        "      if child > 1:\n",
        "        print(substring)\n",
        "  if child == 1:\n",
        "    return str(ch) + substring\n",
        "  return ch\n",
        "\n",
        "text = input()\n",
        "pat_list = []\n",
        "for i in range(len(text)):\n",
        "  pat_list.append(text[i:])\n",
        "trie, end = create_trie(pat_list)\n",
        "dfs(0,'')"
      ],
      "execution_count": 37,
      "outputs": [
        {
          "output_type": "stream",
          "text": [
            "GTAGT$\n",
            "AGT$\n",
            "AGT$\n",
            "$\n",
            "GT\n",
            "AGT$\n",
            "$\n",
            "T\n",
            "$\n"
          ],
          "name": "stdout"
        },
        {
          "output_type": "execute_result",
          "data": {
            "text/plain": [
              "''"
            ]
          },
          "metadata": {
            "tags": []
          },
          "execution_count": 37
        }
      ]
    },
    {
      "cell_type": "code",
      "metadata": {
        "id": "UnLxQLKrstzm",
        "colab_type": "code",
        "colab": {}
      },
      "source": [
        ""
      ],
      "execution_count": 0,
      "outputs": []
    }
  ]
}