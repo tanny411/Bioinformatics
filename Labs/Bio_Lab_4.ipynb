{
  "nbformat": 4,
  "nbformat_minor": 0,
  "metadata": {
    "colab": {
      "name": "Bio Lab 4.ipynb",
      "provenance": [],
      "collapsed_sections": [
        "wB3aO2TL2WrJ",
        "n6NXfus933_8",
        "pB62vtw85V4B",
        "Q63Eup6K7WZb",
        "3dfPKkbq935u"
      ]
    },
    "kernelspec": {
      "name": "python3",
      "display_name": "Python 3"
    }
  },
  "cells": [
    {
      "cell_type": "markdown",
      "metadata": {
        "id": "L-X3-8VZrZfZ",
        "colab_type": "text"
      },
      "source": [
        "# Task 1"
      ]
    },
    {
      "cell_type": "code",
      "metadata": {
        "id": "Ww_rlEGEqQdE",
        "colab_type": "code",
        "colab": {}
      },
      "source": [
        "'''\n",
        "RANDOMIZEDMOTIFSEARCH(Dna, k, t)\n",
        "    randomly select k-mers Motifs = (Motif1, …, Motift) in each string\n",
        "        from Dna\n",
        "    BestMotifs ← Motifs\n",
        "    while forever\n",
        "        Profile ← Profile(Motifs)\n",
        "        Motifs ← Motifs(Profile, Dna)\n",
        "        if Score(Motifs) < Score(BestMotifs)\n",
        "            BestMotifs ← Motifs\n",
        "        else\n",
        "            return BestMotifs\n",
        "'''"
      ],
      "execution_count": 0,
      "outputs": []
    },
    {
      "cell_type": "code",
      "metadata": {
        "id": "AfeqmMYfr3UG",
        "colab_type": "code",
        "colab": {}
      },
      "source": [
        "import random\n",
        "import numpy as np"
      ],
      "execution_count": 0,
      "outputs": []
    },
    {
      "cell_type": "code",
      "metadata": {
        "id": "p1Cugj7arbFn",
        "colab_type": "code",
        "colab": {}
      },
      "source": [
        "def RANDOMIZEDMOTIFSEARCH(Dna, k, t):\n",
        "    motifs=[]\n",
        "    for dna in Dna:\n",
        "      r=random.randint(0,len(dna)-k+1);\n",
        "      motifs.append(dna[r:r+k])\n",
        "    \n",
        "    bestMotifs = motifs\n",
        "    \n",
        "    def Profile(motifs):\n",
        "      ret = np.zeros((4,k))\n",
        "      mp={'A':0,'C':1,'G':2,'T':3}\n",
        "      for motif in motifs:\n",
        "        for ix,i in enumerate(motif):\n",
        "          ret[mp[i],ix]+=1\n",
        "      return (ret+1)/(2*len(motifs))\n",
        "    \n",
        "    def Profile_most_Probable_k_mer(s,k,mat):\n",
        "      # mat = 4 by k size\n",
        "      mp={'A':0,'C':1,'G':2,'T':3}\n",
        "      def prob(pat):\n",
        "        val = 1.0\n",
        "        for ix,i in enumerate(pat):\n",
        "          val*=mat[mp[i],ix]\n",
        "        return val\n",
        "      mx=0\n",
        "      ans=\"\"\n",
        "      for i in range(len(s)-k+1):\n",
        "        m = prob(s[i:i+k])\n",
        "        if m>mx:\n",
        "          mx=m\n",
        "          ans=s[i:i+k]\n",
        "      return ans\n",
        "    \n",
        "    def Motifs(profile, Dna):\n",
        "      motifs=[]\n",
        "      for dna in Dna:\n",
        "        motifs.append(Profile_most_Probable_k_mer(dna,k,profile))\n",
        "      return motifs\n",
        "      \n",
        "    while(True):\n",
        "      profile = Profile(motifs)\n",
        "      motifs = Motifs(profile,Dna)\n",
        "      if Score(motifs,k)<Score(bestMotifs,k):\n",
        "        bestMotifs=motifs\n",
        "      else:\n",
        "        return bestMotifs"
      ],
      "execution_count": 0,
      "outputs": []
    },
    {
      "cell_type": "code",
      "metadata": {
        "id": "kHMHJZO7zObn",
        "colab_type": "code",
        "colab": {}
      },
      "source": [
        "def Score(motifs,k):\n",
        "      ret = np.zeros((4,k))\n",
        "      mp={'A':0,'C':1,'G':2,'T':3}\n",
        "      mp2=['A','C','G','T']\n",
        "      for motif in motifs:\n",
        "        for ix,i in enumerate(motif):\n",
        "          ret[mp[i],ix]+=1\n",
        "      mx = ret.argmax(axis=0)\n",
        "      s=\"\"\n",
        "      for i in mx:\n",
        "        s+=mp2[i]\n",
        "      \n",
        "      scr = 0\n",
        "      for motif in motifs:\n",
        "        for ix,i in enumerate(motif): \n",
        "          if i!=s[ix]:\n",
        "            scr+=1\n",
        "      return scr"
      ],
      "execution_count": 0,
      "outputs": []
    },
    {
      "cell_type": "code",
      "metadata": {
        "id": "rX8DVqSbvPCi",
        "colab_type": "code",
        "outputId": "81dded03-ab3d-4669-f462-f45f46eea0cd",
        "colab": {
          "base_uri": "https://localhost:8080/",
          "height": 34
        }
      },
      "source": [
        "k=8 \n",
        "t=5\n",
        "Dna='''CGCCCCTCTCGGGGGTGTTCAGTAAACGGCCA\n",
        "GGGCGAGGTATGTGTAAGTGCCAAGGTGCCAG\n",
        "TAGTACCGAGACCGAAAGAAGTATACAGGCGT\n",
        "TAGATCAAGTTTCAGGTGCACGTCGGTGAACC\n",
        "AATCCACCAGCTCCACGTGCAATGTTGGCCTA'''\n",
        "Dna=Dna.split('\\n')\n",
        "t==len(Dna)"
      ],
      "execution_count": 0,
      "outputs": [
        {
          "output_type": "execute_result",
          "data": {
            "text/plain": [
              "True"
            ]
          },
          "metadata": {
            "tags": []
          },
          "execution_count": 176
        }
      ]
    },
    {
      "cell_type": "code",
      "metadata": {
        "id": "GJ58_68pxXdl",
        "colab_type": "code",
        "colab": {}
      },
      "source": [
        "best=\"\"\n",
        "mx=100000000000\n",
        "for i in range(1000):\n",
        "  x = RANDOMIZEDMOTIFSEARCH(Dna, k, t)\n",
        "  s = Score(x,k)\n",
        "  if s<mx:\n",
        "    mx=s\n",
        "    best=x"
      ],
      "execution_count": 0,
      "outputs": []
    },
    {
      "cell_type": "code",
      "metadata": {
        "colab_type": "code",
        "outputId": "4da84a16-e0d6-4ad8-b892-791a0f0ba472",
        "id": "CN_eNs40DPKj",
        "colab": {
          "base_uri": "https://localhost:8080/",
          "height": 102
        }
      },
      "source": [
        "for i in best:\n",
        "  print(i)"
      ],
      "execution_count": 0,
      "outputs": [
        {
          "output_type": "stream",
          "text": [
            "TCTCGGGG\n",
            "CCAAGGTG\n",
            "TACAGGCG\n",
            "TTCAGGTG\n",
            "TCCACGTG\n"
          ],
          "name": "stdout"
        }
      ]
    },
    {
      "cell_type": "markdown",
      "metadata": {
        "id": "ksTe5C0gDV7Z",
        "colab_type": "text"
      },
      "source": [
        "# Task 2"
      ]
    },
    {
      "cell_type": "code",
      "metadata": {
        "id": "MldTNqaEFdK3",
        "colab_type": "code",
        "colab": {}
      },
      "source": [
        "from random import choices"
      ],
      "execution_count": 0,
      "outputs": []
    },
    {
      "cell_type": "code",
      "metadata": {
        "id": "TDIuXcc7DX2j",
        "colab_type": "code",
        "colab": {}
      },
      "source": [
        "def Profile_random_k_mer(s,k,mat):\n",
        "      mp={'A':0,'C':1,'G':2,'T':3}\n",
        "      def prob(pat):\n",
        "        val = 1.0\n",
        "        for ix,i in enumerate(pat):\n",
        "          val*=mat[mp[i],ix]\n",
        "        return val\n",
        "      mx=0\n",
        "      probs=[]\n",
        "      for i in range(len(s)-k+1):\n",
        "        probs.append(prob(s[i:i+k]))\n",
        "      i = choices(list(range(len(probs))),probs)\n",
        "      i=i[0]\n",
        "      return s[i:i+k]"
      ],
      "execution_count": 0,
      "outputs": []
    },
    {
      "cell_type": "code",
      "metadata": {
        "id": "IWGfElQOGjWD",
        "colab_type": "code",
        "colab": {}
      },
      "source": [
        "def Profile(motifs,k):\n",
        "      ret = np.zeros((4,k))\n",
        "      mp={'A':0,'C':1,'G':2,'T':3}\n",
        "      for motif in motifs:\n",
        "        for ix,i in enumerate(motif):\n",
        "          ret[mp[i],ix]+=1\n",
        "      return (ret+1)/(2*len(motifs))"
      ],
      "execution_count": 0,
      "outputs": []
    },
    {
      "cell_type": "code",
      "metadata": {
        "id": "S6eAxc3nG-YR",
        "colab_type": "code",
        "colab": {}
      },
      "source": [
        "def Score(motifs,k):\n",
        "      ret = np.zeros((4,k))\n",
        "      mp={'A':0,'C':1,'G':2,'T':3}\n",
        "      mp2=['A','C','G','T']\n",
        "      for motif in motifs:\n",
        "        for ix,i in enumerate(motif):\n",
        "          ret[mp[i],ix]+=1\n",
        "      mx = ret.argmax(axis=0)\n",
        "      s=\"\"\n",
        "      for i in mx:\n",
        "        s+=mp2[i]\n",
        "      \n",
        "      scr = 0\n",
        "      for motif in motifs:\n",
        "        for ix,i in enumerate(motif): \n",
        "          if i!=s[ix]:\n",
        "            scr+=1\n",
        "      return scr"
      ],
      "execution_count": 0,
      "outputs": []
    },
    {
      "cell_type": "code",
      "metadata": {
        "id": "DHMgqB89DXz5",
        "colab_type": "code",
        "colab": {}
      },
      "source": [
        "def Gibbs(Dna, k, t, N):\n",
        "  motifs=[]\n",
        "  for dna in Dna:\n",
        "    r=random.randint(0,len(dna)-k+1);\n",
        "    motifs.append(dna[r:r+k])\n",
        "\n",
        "  bestMotifs = motifs\n",
        "  \n",
        "  for j in range(N):\n",
        "    i=random.randint(0,t-1)\n",
        "    profile = Profile(motifs[:i]+motifs[i+1:],k)\n",
        "    motifs[i]=Profile_random_k_mer(Dna[i],k,profile)\n",
        "    if Score(motifs,k)<Score(bestMotifs,k):\n",
        "      bestMotifs=motifs\n",
        "  return bestMotifs"
      ],
      "execution_count": 0,
      "outputs": []
    },
    {
      "cell_type": "code",
      "metadata": {
        "id": "7WVc4FajHPBK",
        "colab_type": "code",
        "outputId": "0d7e89d9-ba7e-4469-8fa2-0e4ff8b219f8",
        "colab": {
          "base_uri": "https://localhost:8080/",
          "height": 34
        }
      },
      "source": [
        "k=8\n",
        "t=5\n",
        "N=100\n",
        "Dna='''CGCCCCTCTCGGGGGTGTTCAGTAAACGGCCA\n",
        "GGGCGAGGTATGTGTAAGTGCCAAGGTGCCAG\n",
        "TAGTACCGAGACCGAAAGAAGTATACAGGCGT\n",
        "TAGATCAAGTTTCAGGTGCACGTCGGTGAACC\n",
        "AATCCACCAGCTCCACGTGCAATGTTGGCCTA'''.split('\\n')\n",
        "Gibbs(Dna, k, t, N)"
      ],
      "execution_count": 0,
      "outputs": [
        {
          "output_type": "execute_result",
          "data": {
            "text/plain": [
              "['GTAAACGG', 'TGTAAGTG', 'GTACCGAG', 'TTCAGGTG', 'TCCACGTG']"
            ]
          },
          "metadata": {
            "tags": []
          },
          "execution_count": 195
        }
      ]
    },
    {
      "cell_type": "markdown",
      "metadata": {
        "id": "wB3aO2TL2WrJ",
        "colab_type": "text"
      },
      "source": [
        "# Task 3"
      ]
    },
    {
      "cell_type": "code",
      "metadata": {
        "id": "3COmeU7S0vpm",
        "colab_type": "code",
        "colab": {}
      },
      "source": [
        "def kmerComposition(k,s):\n",
        "  ret=[]\n",
        "  for i in range(len(s)-k+1):\n",
        "    ret.append(s[i:i+k])\n",
        "    \n",
        "  return sorted(ret)"
      ],
      "execution_count": 0,
      "outputs": []
    },
    {
      "cell_type": "code",
      "metadata": {
        "id": "SMX57-B02zMn",
        "colab_type": "code",
        "outputId": "1d38be04-1313-42ac-8c1a-699d2048d0d3",
        "colab": {
          "base_uri": "https://localhost:8080/",
          "height": 102
        }
      },
      "source": [
        "for i in kmerComposition(5,'CAATCCAAC'):\n",
        "  print(i)"
      ],
      "execution_count": 0,
      "outputs": [
        {
          "output_type": "stream",
          "text": [
            "AATCC\n",
            "ATCCA\n",
            "CAATC\n",
            "CCAAC\n",
            "TCCAA\n"
          ],
          "name": "stdout"
        }
      ]
    },
    {
      "cell_type": "markdown",
      "metadata": {
        "id": "n6NXfus933_8",
        "colab_type": "text"
      },
      "source": [
        "# Task 4"
      ]
    },
    {
      "cell_type": "code",
      "metadata": {
        "id": "XFbUQ1cU3Pgg",
        "colab_type": "code",
        "colab": {}
      },
      "source": [
        "def genome(dnas):\n",
        "  ret=dnas[0]\n",
        "  for dna in dnas[1:]:\n",
        "    ret+=dna[-1]\n",
        "  return ret"
      ],
      "execution_count": 0,
      "outputs": []
    },
    {
      "cell_type": "code",
      "metadata": {
        "id": "WqkailOp4b6G",
        "colab_type": "code",
        "outputId": "aaf65d54-b932-4546-dce0-7e386ca86891",
        "colab": {
          "base_uri": "https://localhost:8080/",
          "height": 34
        }
      },
      "source": [
        "dnas = '''ACCGA\n",
        "CCGAA\n",
        "CGAAG\n",
        "GAAGC\n",
        "AAGCT'''.split('\\n')\n",
        "genome(dnas)"
      ],
      "execution_count": 0,
      "outputs": [
        {
          "output_type": "execute_result",
          "data": {
            "text/plain": [
              "'ACCGAAGCT'"
            ]
          },
          "metadata": {
            "tags": []
          },
          "execution_count": 95
        }
      ]
    },
    {
      "cell_type": "markdown",
      "metadata": {
        "id": "pB62vtw85V4B",
        "colab_type": "text"
      },
      "source": [
        "# Task 5"
      ]
    },
    {
      "cell_type": "code",
      "metadata": {
        "id": "E-fq3R3c4t7_",
        "colab_type": "code",
        "colab": {}
      },
      "source": [
        "def overlap(dnas):\n",
        "  for ix,i in enumerate(dnas):\n",
        "    for jx,j in enumerate(dnas):\n",
        "      if ix==jx:\n",
        "        continue\n",
        "      if i[1:]==j[:-1]:\n",
        "        print(i,'->',j)"
      ],
      "execution_count": 0,
      "outputs": []
    },
    {
      "cell_type": "code",
      "metadata": {
        "id": "Z5mF_v3p6i8-",
        "colab_type": "code",
        "outputId": "c1967a02-e755-4b8f-9b1d-29365e3bab04",
        "colab": {
          "base_uri": "https://localhost:8080/",
          "height": 85
        }
      },
      "source": [
        "s = '''ATGCG\n",
        "GCATG\n",
        "CATGC\n",
        "AGGCA\n",
        "GGCAT'''.split('\\n')\n",
        "overlap(s)"
      ],
      "execution_count": 0,
      "outputs": [
        {
          "output_type": "stream",
          "text": [
            "GCATG -> CATGC\n",
            "CATGC -> ATGCG\n",
            "AGGCA -> GGCAT\n",
            "GGCAT -> GCATG\n"
          ],
          "name": "stdout"
        }
      ]
    },
    {
      "cell_type": "markdown",
      "metadata": {
        "id": "Q63Eup6K7WZb",
        "colab_type": "text"
      },
      "source": [
        "# Task 6"
      ]
    },
    {
      "cell_type": "code",
      "metadata": {
        "id": "ZL7j63Nw8P4k",
        "colab_type": "code",
        "colab": {}
      },
      "source": [
        "from collections import defaultdict "
      ],
      "execution_count": 0,
      "outputs": []
    },
    {
      "cell_type": "code",
      "metadata": {
        "id": "UMguGa5F7E5a",
        "colab_type": "code",
        "colab": {}
      },
      "source": [
        "def De_Bruijn(k,dna):\n",
        "  mp = defaultdict(list)\n",
        "  for i in range(len(dna)-k+1):\n",
        "    mp[dna[i:i+k-1]].append(dna[i+1:i+k])\n",
        "  return mp"
      ],
      "execution_count": 0,
      "outputs": []
    },
    {
      "cell_type": "code",
      "metadata": {
        "id": "FrkQ5fR69REx",
        "colab_type": "code",
        "colab": {}
      },
      "source": [
        "k=4\n",
        "dna='AAGATTCTCTAC'"
      ],
      "execution_count": 0,
      "outputs": []
    },
    {
      "cell_type": "code",
      "metadata": {
        "id": "ExE-1P6k8wE8",
        "colab_type": "code",
        "outputId": "30104682-7afc-487e-88ee-205374d9f00f",
        "colab": {
          "base_uri": "https://localhost:8080/",
          "height": 153
        }
      },
      "source": [
        "for k,v in De_Bruijn(k,dna).items():\n",
        "  print(k,'->',end=' ')\n",
        "  for ix,i in enumerate(v):\n",
        "    c=','\n",
        "    if ix==len(v)-1:\n",
        "      c='\\n'\n",
        "    print(i,end=c)"
      ],
      "execution_count": 0,
      "outputs": [
        {
          "output_type": "stream",
          "text": [
            "AAG -> AGA\n",
            "AGA -> GAT\n",
            "GAT -> ATT\n",
            "ATT -> TTC\n",
            "TTC -> TCT\n",
            "TCT -> CTC,CTA\n",
            "CTC -> TCT\n",
            "CTA -> TAC\n"
          ],
          "name": "stdout"
        }
      ]
    },
    {
      "cell_type": "markdown",
      "metadata": {
        "id": "3dfPKkbq935u",
        "colab_type": "text"
      },
      "source": [
        "# Task 7"
      ]
    },
    {
      "cell_type": "code",
      "metadata": {
        "id": "aGlvdLZi9Utr",
        "colab_type": "code",
        "colab": {}
      },
      "source": [
        "def De_Bruijn_kmer(kmers):\n",
        "  mp = defaultdict(list)\n",
        "  for s in kmers:\n",
        "    mp[s[:-1]].append(s[1:])\n",
        "  return mp"
      ],
      "execution_count": 0,
      "outputs": []
    },
    {
      "cell_type": "code",
      "metadata": {
        "colab_type": "code",
        "id": "m17v5ODr-oGz",
        "colab": {}
      },
      "source": [
        "dnas='''GAGG\n",
        "CAGG\n",
        "GGGG\n",
        "GGGA\n",
        "CAGG\n",
        "AGGG\n",
        "GGAG'''.split('\\n')"
      ],
      "execution_count": 0,
      "outputs": []
    },
    {
      "cell_type": "code",
      "metadata": {
        "colab_type": "code",
        "outputId": "1b97720f-06e9-4973-cc06-fba2450cb8e0",
        "id": "ZUE4j0KZ-oG4",
        "colab": {
          "base_uri": "https://localhost:8080/",
          "height": 102
        }
      },
      "source": [
        "for k,v in De_Bruijn_kmer(dnas).items():\n",
        "  print(k,'->',end=' ')\n",
        "  for ix,i in enumerate(v):\n",
        "    c=','\n",
        "    if ix==len(v)-1:\n",
        "      c='\\n'\n",
        "    print(i,end=c)"
      ],
      "execution_count": 0,
      "outputs": [
        {
          "output_type": "stream",
          "text": [
            "GAG -> AGG\n",
            "CAG -> AGG,AGG\n",
            "GGG -> GGG,GGA\n",
            "AGG -> GGG\n",
            "GGA -> GAG\n"
          ],
          "name": "stdout"
        }
      ]
    },
    {
      "cell_type": "code",
      "metadata": {
        "id": "YE9Phc_1_TL3",
        "colab_type": "code",
        "colab": {}
      },
      "source": [
        ""
      ],
      "execution_count": 0,
      "outputs": []
    }
  ]
}