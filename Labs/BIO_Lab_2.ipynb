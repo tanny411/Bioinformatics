{
  "nbformat": 4,
  "nbformat_minor": 0,
  "metadata": {
    "colab": {
      "name": "BIO Lab 2.ipynb",
      "provenance": [],
      "collapsed_sections": []
    },
    "kernelspec": {
      "name": "python3",
      "display_name": "Python 3"
    }
  },
  "cells": [
    {
      "cell_type": "markdown",
      "metadata": {
        "id": "C0NhkV9Xrqa2",
        "colab_type": "text"
      },
      "source": [
        "2015331042"
      ]
    },
    {
      "cell_type": "markdown",
      "metadata": {
        "id": "0NtOzKnOYpyg",
        "colab_type": "text"
      },
      "source": [
        "# Task 1"
      ]
    },
    {
      "cell_type": "code",
      "metadata": {
        "id": "_1qHFkOEYmEG",
        "colab_type": "code",
        "outputId": "b2d1d5db-e7f6-45e2-8f30-7120700d09e3",
        "colab": {
          "base_uri": "https://localhost:8080/",
          "height": 34
        }
      },
      "source": [
        "def reverseComplement(dna):\n",
        "  mp = {'A':'T',\n",
        "        'T':'A',\n",
        "        'G':'C',\n",
        "        'C':'G'}\n",
        "  dna = ''.join([mp[i] for i in dna][::-1])\n",
        "  return dna\n",
        "\n",
        "reverseComplement('AAAACCCGGT')"
      ],
      "execution_count": 0,
      "outputs": [
        {
          "output_type": "execute_result",
          "data": {
            "text/plain": [
              "'ACCGGGTTTT'"
            ]
          },
          "metadata": {
            "tags": []
          },
          "execution_count": 4
        }
      ]
    },
    {
      "cell_type": "markdown",
      "metadata": {
        "id": "wsGPogPUam6a",
        "colab_type": "text"
      },
      "source": [
        "# Task 2"
      ]
    },
    {
      "cell_type": "code",
      "metadata": {
        "id": "iw3tjjfeadY2",
        "colab_type": "code",
        "outputId": "27c5c8b6-d3e4-4629-9cae-eb57a09bf79c",
        "colab": {
          "base_uri": "https://localhost:8080/",
          "height": 34
        }
      },
      "source": [
        "def hamming(a,b): \n",
        "  '''\n",
        "  finding hamming distance between \n",
        "  two dna sequence a and b\n",
        "  '''\n",
        "  cnt=0\n",
        "  for i in range(len(a)):\n",
        "    if a[i]!=b[i]:\n",
        "      cnt+=1\n",
        "  return cnt\n",
        "\n",
        "hamming('GGACCGTTGAC','GGGCCGTTGGT')   "
      ],
      "execution_count": 0,
      "outputs": [
        {
          "output_type": "execute_result",
          "data": {
            "text/plain": [
              "3"
            ]
          },
          "metadata": {
            "tags": []
          },
          "execution_count": 5
        }
      ]
    },
    {
      "cell_type": "markdown",
      "metadata": {
        "id": "tNSbQ8Z-bjXu",
        "colab_type": "text"
      },
      "source": [
        "# Task 3"
      ]
    },
    {
      "cell_type": "code",
      "metadata": {
        "id": "YTqXyL8fbiEi",
        "colab_type": "code",
        "outputId": "d6ffdd8c-e133-490e-c9c8-d6da1675b6a5",
        "colab": {
          "base_uri": "https://localhost:8080/",
          "height": 34
        }
      },
      "source": [
        "def appPatternMatch(pat,text,d):\n",
        "  '''\n",
        "  We say that a  Pattern appears as a substring of Text with at most d mismatches if there is some \n",
        "  substring Pattern of Text having d or fewer mismatches with Pattern\n",
        "  '''\n",
        "  ln = len(pat)\n",
        "  ans=[]\n",
        "  \n",
        "  for i in range(len(text)-ln):\n",
        "    if hamming(pat,text[i:i+ln])<=d:\n",
        "      ans.append(i)\n",
        "  return ans\n",
        "\n",
        "appPatternMatch('ATTCTGGA','CGCCCGAATCCAGAACGCATTCCCATATTTCGGGACCACTGGCCTCCACGGTACGGACGTCAATCAAATGCCTAGCGGCTTGTGGTTTCTCCTACGCTCC',3)"
      ],
      "execution_count": 0,
      "outputs": [
        {
          "output_type": "execute_result",
          "data": {
            "text/plain": [
              "[6, 7, 26, 27, 78]"
            ]
          },
          "metadata": {
            "tags": []
          },
          "execution_count": 10
        }
      ]
    },
    {
      "cell_type": "markdown",
      "metadata": {
        "id": "HWfuHHr2dkOI",
        "colab_type": "text"
      },
      "source": [
        "# Task 4"
      ]
    },
    {
      "cell_type": "code",
      "metadata": {
        "id": "026APuRvgZCi",
        "colab_type": "code",
        "colab": {}
      },
      "source": [
        "import itertools"
      ],
      "execution_count": 0,
      "outputs": []
    },
    {
      "cell_type": "code",
      "metadata": {
        "id": "IlBghr5hdJc0",
        "colab_type": "code",
        "outputId": "c6405311-80ba-4942-8d73-4cfbd1e0abd1",
        "colab": {
          "base_uri": "https://localhost:8080/",
          "height": 34
        }
      },
      "source": [
        "def freqWordsMismatch(text,d,k):\n",
        "#    '''\n",
        "#    d = max # of mismatch\n",
        "#    k = length of patterns\n",
        "#    '''\n",
        "  ans = {}\n",
        "  pats = [''.join(i) for i in itertools.product('ATCG', repeat = k)]\n",
        "  for i in range(len(text)-k):\n",
        "    for pat in pats:\n",
        "      ans[pat]=len(appPatternMatch(pat,text,d))\n",
        "  \n",
        "#   print(ans)\n",
        "  f = sorted(ans.values())[-1]\n",
        "  \n",
        "  ret=[]\n",
        "  \n",
        "  for k,v in ans.items():\n",
        "    if v==f:\n",
        "      ret.append(k)\n",
        "      \n",
        "  return ret\n",
        "\n",
        "\n",
        "freqWordsMismatch('ACGTTGCATGTCGCATGATGCATGAGAGCT',k=4,d=1)"
      ],
      "execution_count": 0,
      "outputs": [
        {
          "output_type": "execute_result",
          "data": {
            "text/plain": [
              "['ATGT', 'ATGC', 'GATG']"
            ]
          },
          "metadata": {
            "tags": []
          },
          "execution_count": 58
        }
      ]
    },
    {
      "cell_type": "markdown",
      "metadata": {
        "id": "spjZgvtIi9mk",
        "colab_type": "text"
      },
      "source": [
        "# Task 5"
      ]
    },
    {
      "cell_type": "code",
      "metadata": {
        "id": "p8oRRA35iFjQ",
        "colab_type": "code",
        "outputId": "b7256500-2115-46e1-f6ad-ebfab2a6ca32",
        "colab": {
          "base_uri": "https://localhost:8080/",
          "height": 34
        }
      },
      "source": [
        "def freqWordsMismatchReverse(text,d,k):\n",
        "  ans = {}\n",
        "  pats = [''.join(i) for i in itertools.product('ACGT', repeat = k)]\n",
        "  for i in range(len(text)-k):\n",
        "    for pat in pats:\n",
        "      ans[pat]=len(appPatternMatch(pat,text,d))\n",
        "  \n",
        "  newans={}\n",
        "  for k,v in ans.items():\n",
        "    newans[k]=ans[k]+ans[reverseComplement(k)]\n",
        "    \n",
        "  f = sorted(newans.values())[-1]\n",
        "  \n",
        "  ret=[]\n",
        "  \n",
        "  for k,v in newans.items():\n",
        "    if v==f:\n",
        "      ret.append(k)\n",
        "      \n",
        "  return ret\n",
        "\n",
        "\n",
        "freqWordsMismatchReverse('ACGTTGCATGTCGCATGATGCATGAGAGCT',k=4,d=1)"
      ],
      "execution_count": 0,
      "outputs": [
        {
          "output_type": "execute_result",
          "data": {
            "text/plain": [
              "['ACAT', 'ATGT']"
            ]
          },
          "metadata": {
            "tags": []
          },
          "execution_count": 49
        }
      ]
    },
    {
      "cell_type": "markdown",
      "metadata": {
        "id": "jXnrpztsq8IR",
        "colab_type": "text"
      },
      "source": [
        "# Task 6"
      ]
    },
    {
      "cell_type": "code",
      "metadata": {
        "id": "4uaFxl1Bo8fi",
        "colab_type": "code",
        "outputId": "22649289-e1ba-498c-fea5-5284d952cf73",
        "colab": {
          "base_uri": "https://localhost:8080/",
          "height": 34
        }
      },
      "source": [
        "def PatternToNumber(pat):\n",
        "  pats = [''.join(i) for i in itertools.product('ACGT', repeat = len(pat))]\n",
        "  return pats.index(pat)\n",
        "\n",
        "PatternToNumber('AGT')"
      ],
      "execution_count": 0,
      "outputs": [
        {
          "output_type": "execute_result",
          "data": {
            "text/plain": [
              "11"
            ]
          },
          "metadata": {
            "tags": []
          },
          "execution_count": 50
        }
      ]
    },
    {
      "cell_type": "markdown",
      "metadata": {
        "id": "Imh2F8Eqq6My",
        "colab_type": "text"
      },
      "source": [
        "# Task 7"
      ]
    },
    {
      "cell_type": "code",
      "metadata": {
        "id": "8HObGzJhqx6d",
        "colab_type": "code",
        "outputId": "3c5e92a8-d58d-4be3-f495-eec8f1fb4c9d",
        "colab": {
          "base_uri": "https://localhost:8080/",
          "height": 34
        }
      },
      "source": [
        "def NumberToPattern(index,k):\n",
        "  pats = [''.join(i) for i in itertools.product('ACGT', repeat = k)]\n",
        "  return pats[index]\n",
        "\n",
        "NumberToPattern(45,4)"
      ],
      "execution_count": 0,
      "outputs": [
        {
          "output_type": "execute_result",
          "data": {
            "text/plain": [
              "'AGTC'"
            ]
          },
          "metadata": {
            "tags": []
          },
          "execution_count": 53
        }
      ]
    },
    {
      "cell_type": "code",
      "metadata": {
        "id": "HRNZOsoWrO1D",
        "colab_type": "code",
        "colab": {}
      },
      "source": [
        ""
      ],
      "execution_count": 0,
      "outputs": []
    }
  ]
}