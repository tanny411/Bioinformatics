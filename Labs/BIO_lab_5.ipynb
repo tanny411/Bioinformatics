{
  "nbformat": 4,
  "nbformat_minor": 0,
  "metadata": {
    "colab": {
      "name": "BIO lab 5.ipynb",
      "provenance": []
    },
    "kernelspec": {
      "name": "python3",
      "display_name": "Python 3"
    }
  },
  "cells": [
    {
      "cell_type": "markdown",
      "metadata": {
        "id": "N5BUbvqzxQJd",
        "colab_type": "text"
      },
      "source": [
        "# Task 1"
      ]
    },
    {
      "cell_type": "code",
      "metadata": {
        "id": "oLAOxHAMwKpw",
        "colab_type": "code",
        "colab": {}
      },
      "source": [
        "d = {}\n",
        "d['UUU']='F'\n",
        "d['CUU']='L'\n",
        "d['AUU']='I'\n",
        "d['GUU']='V'\n",
        "d['UUC']='F'\n",
        "d['CUC']='L'\n",
        "d['AUC']='I'\n",
        "d['GUC']='V'\n",
        "d['UUA']='L'\n",
        "d['CUA']='L'\n",
        "d['AUA']='I'\n",
        "d['GUA']='V'\n",
        "d['UUG']='L'\n",
        "d['CUG']='L'\n",
        "d['AUG']='M'\n",
        "d['GUG']='V'\n",
        "d['UCU']='S'\n",
        "d['CCU']='P'\n",
        "d['ACU']='T'\n",
        "d['GCU']='A'\n",
        "d['UCC']='S'\n",
        "d['CCC']='P'\n",
        "d['ACC']='T'\n",
        "d['GCC']='A'\n",
        "d['UCA']='S'\n",
        "d['CCA']='P'\n",
        "d['ACA']='T'\n",
        "d['GCA']='A'\n",
        "d['UCG']='S'\n",
        "d['CCG']='P'\n",
        "d['ACG']='T'\n",
        "d['GCG']='A'\n",
        "d['UAU']='Y'\n",
        "d['CAU']='H'\n",
        "d['AAU']='N'\n",
        "d['GAU']='D'\n",
        "d['UAC']='Y'\n",
        "d['CAC']='H'\n",
        "d['AAC']='N'\n",
        "d['GAC']='D'\n",
        "d['UAA']='Stop'\n",
        "d['CAA']='Q'\n",
        "d['AAA']='K'\n",
        "d['GAA']='E'\n",
        "d['UAG']='Stop'\n",
        "d['CAG']='Q'\n",
        "d['AAG']='K'\n",
        "d['GAG']='E'\n",
        "d['UGU']='C'\n",
        "d['CGU']='R'\n",
        "d['AGU']='S'\n",
        "d['GGU']='G'\n",
        "d['UGC']='C'\n",
        "d['CGC']='R'\n",
        "d['AGC']='S'\n",
        "d['GGC']='G'\n",
        "d['UGA']='Stop'\n",
        "d['CGA']='R'\n",
        "d['AGA']='R'\n",
        "d['GGA']='G'\n",
        "d['UGG']='W'\n",
        "d['CGG']='R'\n",
        "d['AGG']='R'\n",
        "d['GGG']='G'\n",
        "\n",
        "def rna2protein(s):\n",
        "  pr=\"\"\n",
        "  for i in range(0,len(s),3):\n",
        "    a = d[s[i:i+3]]\n",
        "    if a=='Stop':\n",
        "      return pr\n",
        "    else:\n",
        "      pr += a\n",
        "  return pr"
      ],
      "execution_count": 0,
      "outputs": []
    },
    {
      "cell_type": "code",
      "metadata": {
        "id": "OuN9xTCwyY7g",
        "colab_type": "code",
        "outputId": "3feed31f-ca02-4d67-f64a-1507b7399e27",
        "colab": {
          "base_uri": "https://localhost:8080/",
          "height": 34
        }
      },
      "source": [
        "rna2protein(\"AUGGCCAUGGCGCCCAGAACUGAGAUCAAUAGUACCCGUAUUAACGGGUGA\")"
      ],
      "execution_count": 0,
      "outputs": [
        {
          "output_type": "execute_result",
          "data": {
            "text/plain": [
              "'MAMAPRTEINSTRING'"
            ]
          },
          "metadata": {
            "tags": []
          },
          "execution_count": 5
        }
      ]
    },
    {
      "cell_type": "markdown",
      "metadata": {
        "id": "RL5Elc8yzxLb",
        "colab_type": "text"
      },
      "source": [
        "# Task 2"
      ]
    },
    {
      "cell_type": "code",
      "metadata": {
        "id": "PX1YR8WKy7rX",
        "colab_type": "code",
        "colab": {}
      },
      "source": [
        "def reverseComplement(dna):\n",
        "  mp = {'A':'T',\n",
        "        'T':'A',\n",
        "        'G':'C',\n",
        "        'C':'G'}\n",
        "  dna = ''.join([mp[i] for i in dna][::-1])\n",
        "  return dna\n",
        "\n",
        "def dna2rna(dna):\n",
        "  return dna.replace('T','U')\n",
        "def rna2dna(dna):\n",
        "  return dna.replace('U','T')\n",
        "\n",
        "def peptideEncoding(dna,pr):\n",
        "  rna1 = dna2rna(dna+dna)\n",
        "  r = reverseComplement(dna)\n",
        "  rna2 = dna2rna(r+r)\n",
        "  lenRna = 3*len(pr)\n",
        "  for i in range(len(dna)):\n",
        "    if rna2protein(rna1[i:i+lenRna]) == pr:\n",
        "      print(dna[i:i+lenRna])\n",
        "  for i in range(len(dna)):\n",
        "    if rna2protein(rna2[i:i+lenRna]) == pr:\n",
        "      print(reverseComplement(rna2dna(rna2[i:i+lenRna])))"
      ],
      "execution_count": 0,
      "outputs": []
    },
    {
      "cell_type": "code",
      "metadata": {
        "id": "bb4Ohiojz3iw",
        "colab_type": "code",
        "outputId": "1092bab0-c977-4aca-c5a8-a9d241c67ffd",
        "colab": {
          "base_uri": "https://localhost:8080/",
          "height": 68
        }
      },
      "source": [
        "dna=\"ATGGCCATGGCCCCCAGAACTGAGATCAATAGTACCCGTATTAACGGGTGA\"\n",
        "pr=\"MA\"\n",
        "\n",
        "peptideEncoding(dna,pr)"
      ],
      "execution_count": 0,
      "outputs": [
        {
          "output_type": "stream",
          "text": [
            "ATGGCC\n",
            "ATGGCC\n",
            "GGCCAT\n"
          ],
          "name": "stdout"
        }
      ]
    },
    {
      "cell_type": "markdown",
      "metadata": {
        "id": "Q8ZOoISa9YYy",
        "colab_type": "text"
      },
      "source": [
        "# Task 3"
      ]
    },
    {
      "cell_type": "code",
      "metadata": {
        "id": "okM1GdBi3HmZ",
        "colab_type": "code",
        "colab": {}
      },
      "source": [
        "mass = {}\n",
        "mass['G'] = 57\n",
        "mass['A'] = 71\n",
        "mass['S'] = 87\n",
        "mass['P'] = 97\n",
        "mass['V'] = 99\n",
        "mass['T'] = 101\n",
        "mass['C'] = 103\n",
        "mass['I'] = 113\n",
        "mass['L'] = 113\n",
        "mass['N'] = 114\n",
        "mass['D'] = 115\n",
        "mass['K'] = 128\n",
        "mass['Q'] = 128\n",
        "mass['E'] = 129\n",
        "mass['M'] = 131\n",
        "mass['H'] = 137\n",
        "mass['F'] = 147\n",
        "mass['R'] = 156\n",
        "mass['Y'] = 163\n",
        "mass['W'] = 186\n",
        "\n",
        "def Cyclospectrum(dna):\n",
        "\n",
        "  def calcMass(s):\n",
        "    ret = 0\n",
        "    for i in s:\n",
        "      ret+=mass[i]\n",
        "    return ret\n",
        "\n",
        "  ln = len(dna)\n",
        "  dna=dna*2\n",
        "  ret = []\n",
        "  for sln in range(1,ln):\n",
        "    for i in range(0,ln):\n",
        "      # if dna[i:i+sln] not in ret:\n",
        "      ret.append(dna[i:i+sln])\n",
        "  \n",
        "  return sorted([0]+[calcMass(s) for s in ret]+[calcMass(dna[:ln])])"
      ],
      "execution_count": 0,
      "outputs": []
    },
    {
      "cell_type": "code",
      "metadata": {
        "id": "Kb7kvW0DBEoJ",
        "colab_type": "code",
        "outputId": "e614cf4f-0252-45a5-938e-387a4fd0aebf",
        "colab": {
          "base_uri": "https://localhost:8080/",
          "height": 34
        }
      },
      "source": [
        "print(Cyclospectrum(\"LEQN\"))"
      ],
      "execution_count": 0,
      "outputs": [
        {
          "output_type": "stream",
          "text": [
            "[0, 113, 114, 128, 129, 227, 242, 242, 257, 355, 356, 370, 371, 484]\n"
          ],
          "name": "stdout"
        }
      ]
    },
    {
      "cell_type": "code",
      "metadata": {
        "id": "2PTYh2G0BTj0",
        "colab_type": "code",
        "colab": {}
      },
      "source": [
        ""
      ],
      "execution_count": 0,
      "outputs": []
    }
  ]
}