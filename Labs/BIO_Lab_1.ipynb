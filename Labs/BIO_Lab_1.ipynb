{
  "nbformat": 4,
  "nbformat_minor": 0,
  "metadata": {
    "colab": {
      "name": "BIO Lab 1.ipynb",
      "provenance": []
    },
    "kernelspec": {
      "name": "python3",
      "display_name": "Python 3"
    }
  },
  "cells": [
    {
      "cell_type": "markdown",
      "metadata": {
        "id": "P2FzKg5ML_XW",
        "colab_type": "text"
      },
      "source": [
        "# Python"
      ]
    },
    {
      "cell_type": "markdown",
      "metadata": {
        "id": "UW4KQT7JMB16",
        "colab_type": "text"
      },
      "source": [
        "## Basic syntax"
      ]
    },
    {
      "cell_type": "code",
      "metadata": {
        "id": "Z-52xtwbLdvM",
        "colab_type": "code",
        "outputId": "1a7f09f0-d924-468e-f5b9-46334f9ecdfd",
        "colab": {
          "base_uri": "https://localhost:8080/",
          "height": 34
        }
      },
      "source": [
        "print('Hello World')\n",
        "#comments in python"
      ],
      "execution_count": 0,
      "outputs": [
        {
          "output_type": "stream",
          "text": [
            "Hello World\n"
          ],
          "name": "stdout"
        }
      ]
    },
    {
      "cell_type": "markdown",
      "metadata": {
        "id": "yKU50rULMFW0",
        "colab_type": "text"
      },
      "source": [
        "## Variables"
      ]
    },
    {
      "cell_type": "code",
      "metadata": {
        "id": "Z9oJkwx3L6hE",
        "colab_type": "code",
        "outputId": "e4a15663-cc29-43cc-bf52-b5ffb42eb4ef",
        "colab": {
          "base_uri": "https://localhost:8080/",
          "height": 34
        }
      },
      "source": [
        "x=5\n",
        "y='students'\n",
        "X='5'\n",
        "\n",
        "print(x,y+X)"
      ],
      "execution_count": 0,
      "outputs": [
        {
          "output_type": "stream",
          "text": [
            "5 students5\n"
          ],
          "name": "stdout"
        }
      ]
    },
    {
      "cell_type": "code",
      "metadata": {
        "id": "DI_nZp4LP_nh",
        "colab_type": "code",
        "outputId": "3088bfe4-a3fe-4e08-870b-096b670d78d2",
        "colab": {
          "base_uri": "https://localhost:8080/",
          "height": 34
        }
      },
      "source": [
        "a=100\n",
        "b=9\n",
        "\n",
        "a/b , a//b , a**b"
      ],
      "execution_count": 0,
      "outputs": [
        {
          "output_type": "execute_result",
          "data": {
            "text/plain": [
              "(11.11111111111111, 11, 1000000000000000000)"
            ]
          },
          "metadata": {
            "tags": []
          },
          "execution_count": 24
        }
      ]
    },
    {
      "cell_type": "code",
      "metadata": {
        "id": "fTdMhmTWMOoo",
        "colab_type": "code",
        "outputId": "b6969c50-ab4f-4b1c-8dea-ba96be7e605d",
        "colab": {
          "base_uri": "https://localhost:8080/",
          "height": 34
        }
      },
      "source": [
        "a=10\n",
        "b=4\n",
        "\n",
        "print(a+b)"
      ],
      "execution_count": 0,
      "outputs": [
        {
          "output_type": "stream",
          "text": [
            "14\n"
          ],
          "name": "stdout"
        }
      ]
    },
    {
      "cell_type": "code",
      "metadata": {
        "id": "zpdcJg1UMu_O",
        "colab_type": "code",
        "colab": {}
      },
      "source": [
        "cpx = 1j"
      ],
      "execution_count": 0,
      "outputs": []
    },
    {
      "cell_type": "code",
      "metadata": {
        "id": "6TkWGVnkM2Ze",
        "colab_type": "code",
        "outputId": "28265f4c-bf5c-476d-b30a-a38d43a5ef78",
        "colab": {
          "base_uri": "https://localhost:8080/",
          "height": 34
        }
      },
      "source": [
        "type(cpx)"
      ],
      "execution_count": 0,
      "outputs": [
        {
          "output_type": "execute_result",
          "data": {
            "text/plain": [
              "complex"
            ]
          },
          "metadata": {
            "tags": []
          },
          "execution_count": 9
        }
      ]
    },
    {
      "cell_type": "code",
      "metadata": {
        "id": "on6POMjyM3qu",
        "colab_type": "code",
        "outputId": "e1bc2b12-4fee-48fe-e797-a1fe0110a9d4",
        "colab": {
          "base_uri": "https://localhost:8080/",
          "height": 34
        }
      },
      "source": [
        "cmplx = x+cpx\n",
        "cmplx"
      ],
      "execution_count": 0,
      "outputs": [
        {
          "output_type": "execute_result",
          "data": {
            "text/plain": [
              "(5+1j)"
            ]
          },
          "metadata": {
            "tags": []
          },
          "execution_count": 10
        }
      ]
    },
    {
      "cell_type": "code",
      "metadata": {
        "id": "Alc-hWimM-gP",
        "colab_type": "code",
        "outputId": "56156b78-6a5f-459f-f742-cbebca8975d0",
        "colab": {
          "base_uri": "https://localhost:8080/",
          "height": 34
        }
      },
      "source": [
        "type(cmplx)"
      ],
      "execution_count": 0,
      "outputs": [
        {
          "output_type": "execute_result",
          "data": {
            "text/plain": [
              "complex"
            ]
          },
          "metadata": {
            "tags": []
          },
          "execution_count": 11
        }
      ]
    },
    {
      "cell_type": "code",
      "metadata": {
        "id": "yMPBvDx5NAum",
        "colab_type": "code",
        "outputId": "3485efa0-bf30-497d-fa27-4a0ce9b5ac17",
        "colab": {
          "base_uri": "https://localhost:8080/",
          "height": 34
        }
      },
      "source": [
        "x = 35e3\n",
        "y = 12E4\n",
        "z = -87.7e100\n",
        "\n",
        "type(x) , type(y) ,type(z)"
      ],
      "execution_count": 0,
      "outputs": [
        {
          "output_type": "execute_result",
          "data": {
            "text/plain": [
              "(float, float, float)"
            ]
          },
          "metadata": {
            "tags": []
          },
          "execution_count": 12
        }
      ]
    },
    {
      "cell_type": "markdown",
      "metadata": {
        "id": "TXEZjnr9NaTQ",
        "colab_type": "text"
      },
      "source": [
        "## Casting"
      ]
    },
    {
      "cell_type": "code",
      "metadata": {
        "id": "Rkh-0WylNRCl",
        "colab_type": "code",
        "outputId": "d3ce384b-6d3e-4419-99bf-623c0a41153a",
        "colab": {
          "base_uri": "https://localhost:8080/",
          "height": 34
        }
      },
      "source": [
        "x = 89\n",
        "y=float(x)\n",
        "z=complex(x)\n",
        "\n",
        "x,y,z"
      ],
      "execution_count": 0,
      "outputs": [
        {
          "output_type": "execute_result",
          "data": {
            "text/plain": [
              "(89, 89.0, (89+0j))"
            ]
          },
          "metadata": {
            "tags": []
          },
          "execution_count": 13
        }
      ]
    },
    {
      "cell_type": "code",
      "metadata": {
        "id": "2dLFGDkWNn6N",
        "colab_type": "code",
        "outputId": "8b9af1fe-9d83-4dc8-aa7c-60ede48ffd3a",
        "colab": {
          "base_uri": "https://localhost:8080/",
          "height": 34
        }
      },
      "source": [
        "cmplx"
      ],
      "execution_count": 0,
      "outputs": [
        {
          "output_type": "execute_result",
          "data": {
            "text/plain": [
              "(5+1j)"
            ]
          },
          "metadata": {
            "tags": []
          },
          "execution_count": 14
        }
      ]
    },
    {
      "cell_type": "code",
      "metadata": {
        "id": "HVz9JhZcNqSk",
        "colab_type": "code",
        "outputId": "2758bf3a-b05a-4f92-8f38-dbb893df63b5",
        "colab": {
          "base_uri": "https://localhost:8080/",
          "height": 163
        }
      },
      "source": [
        "int(cmplx)"
      ],
      "execution_count": 0,
      "outputs": [
        {
          "output_type": "error",
          "ename": "TypeError",
          "evalue": "ignored",
          "traceback": [
            "\u001b[0;31m---------------------------------------------------------------------------\u001b[0m",
            "\u001b[0;31mTypeError\u001b[0m                                 Traceback (most recent call last)",
            "\u001b[0;32m<ipython-input-15-411064cc8da0>\u001b[0m in \u001b[0;36m<module>\u001b[0;34m()\u001b[0m\n\u001b[0;32m----> 1\u001b[0;31m \u001b[0mint\u001b[0m\u001b[0;34m(\u001b[0m\u001b[0mcmplx\u001b[0m\u001b[0;34m)\u001b[0m\u001b[0;34m\u001b[0m\u001b[0;34m\u001b[0m\u001b[0m\n\u001b[0m",
            "\u001b[0;31mTypeError\u001b[0m: can't convert complex to int"
          ]
        }
      ]
    },
    {
      "cell_type": "code",
      "metadata": {
        "id": "YzKg35u8NsV8",
        "colab_type": "code",
        "outputId": "6be39b6b-e4b9-4fa0-907c-288af9401f99",
        "colab": {
          "base_uri": "https://localhost:8080/",
          "height": 34
        }
      },
      "source": [
        "int(\"90\") , float(\"90.78\")"
      ],
      "execution_count": 0,
      "outputs": [
        {
          "output_type": "execute_result",
          "data": {
            "text/plain": [
              "(90, 90.78)"
            ]
          },
          "metadata": {
            "tags": []
          },
          "execution_count": 17
        }
      ]
    },
    {
      "cell_type": "markdown",
      "metadata": {
        "id": "-TQW_M0-OFvQ",
        "colab_type": "text"
      },
      "source": [
        "## String"
      ]
    },
    {
      "cell_type": "code",
      "metadata": {
        "id": "2q4QmpByN9kj",
        "colab_type": "code",
        "outputId": "0ec86cb6-3d07-422b-c326-da595ab2a330",
        "colab": {
          "base_uri": "https://localhost:8080/",
          "height": 34
        }
      },
      "source": [
        "str0 = 'okay'\n",
        "str1 = \"okay\"\n",
        "str2 = '''okay\n",
        "okay\n",
        "but\n",
        "not okay'''\n",
        "str3=\"\"\"okay\n",
        "okay\n",
        "okay fine!\"\"\"\n",
        "\n",
        "str0 , str1 , str2 , str3"
      ],
      "execution_count": 0,
      "outputs": [
        {
          "output_type": "execute_result",
          "data": {
            "text/plain": [
              "('okay', 'okay', 'okay\\nokay\\nbut\\nnot okay', 'okay\\nokay\\nokay fine!')"
            ]
          },
          "metadata": {
            "tags": []
          },
          "execution_count": 21
        }
      ]
    },
    {
      "cell_type": "markdown",
      "metadata": {
        "id": "lhxndQ6KOsFI",
        "colab_type": "text"
      },
      "source": [
        "Python does not have a character data type, a single character is simply a string with a length of 1. Square brackets can be used to access elements of the string."
      ]
    },
    {
      "cell_type": "code",
      "metadata": {
        "id": "knWiC1HqQr_X",
        "colab_type": "code",
        "outputId": "1974bb0d-e8b3-48d7-ca44-fe977f6bcdcc",
        "colab": {
          "base_uri": "https://localhost:8080/",
          "height": 34
        }
      },
      "source": [
        "#substring in python\n",
        "str3[:5] , str3[7:10]  , str3[::2]"
      ],
      "execution_count": 0,
      "outputs": [
        {
          "output_type": "execute_result",
          "data": {
            "text/plain": [
              "('okay\\n', 'ay\\n', 'oa\\nkyoa ie')"
            ]
          },
          "metadata": {
            "tags": []
          },
          "execution_count": 33
        }
      ]
    },
    {
      "cell_type": "markdown",
      "metadata": {
        "id": "ClRQdwmTPENQ",
        "colab_type": "text"
      },
      "source": [
        "### Format in strings"
      ]
    },
    {
      "cell_type": "code",
      "metadata": {
        "id": "q7PkkHVKOVES",
        "colab_type": "code",
        "outputId": "0d073f60-5404-4c21-96c9-ba6baf7f7c06",
        "colab": {
          "base_uri": "https://localhost:8080/",
          "height": 34
        }
      },
      "source": [
        "st = \"My {} has been hidden for {} years\"\n",
        "x = \"name\"\n",
        "y = 5\n",
        "\n",
        "print(st.format(x,y))"
      ],
      "execution_count": 0,
      "outputs": [
        {
          "output_type": "stream",
          "text": [
            "My name has been hidden for 5 years\n"
          ],
          "name": "stdout"
        }
      ]
    },
    {
      "cell_type": "code",
      "metadata": {
        "id": "KHWu3xrlPqgO",
        "colab_type": "code",
        "outputId": "956e39ee-1dfb-4156-e434-7a1ca6956167",
        "colab": {
          "base_uri": "https://localhost:8080/",
          "height": 34
        }
      },
      "source": [
        "st = \"My {1} has been hidden for {0} years\"\n",
        "x = \"name\"\n",
        "y = 5\n",
        "\n",
        "print(st.format(y,x))"
      ],
      "execution_count": 0,
      "outputs": [
        {
          "output_type": "stream",
          "text": [
            "My name has been hidden for 5 years\n"
          ],
          "name": "stdout"
        }
      ]
    },
    {
      "cell_type": "markdown",
      "metadata": {
        "id": "znUGSA9lQleA",
        "colab_type": "text"
      },
      "source": [
        "## Python Collections (Arrays)\n",
        "There are four collection data types in the Python programming language:\n",
        "\n",
        "List is a collection which is ordered and changeable. Allows duplicate members.\n",
        "Tuple is a collection which is ordered and unchangeable. Allows duplicate members.\n",
        "Set is a collection which is unordered and unindexed. No duplicate members.\n",
        "Dictionary is a collection which is unordered, changeable and indexed. No duplicate members."
      ]
    },
    {
      "cell_type": "code",
      "metadata": {
        "id": "f1kiCP6FPwz9",
        "colab_type": "code",
        "colab": {}
      },
      "source": [
        "#list \n",
        "ls = ['item1','item2','item999','item-1']\n",
        "\n",
        "#dict\n",
        "dc = {\n",
        "    'name' : 'SomeName',\n",
        "    'campus location': 'sylhet',\n",
        "    'zip' : 3110\n",
        "}"
      ],
      "execution_count": 0,
      "outputs": []
    },
    {
      "cell_type": "code",
      "metadata": {
        "id": "V4Rwp4VlTRnM",
        "colab_type": "code",
        "colab": {}
      },
      "source": [
        "def printStuff(arg):\n",
        "  if type(arg) == list:\n",
        "    for i,a in enumerate(arg):\n",
        "      print(i,\" no. item is \",a)\n",
        "  \n",
        "  elif type(arg) == dict:\n",
        "    for i,a in enumerate(arg.items()):\n",
        "      print(i,\" no. item is \",a)"
      ],
      "execution_count": 0,
      "outputs": []
    },
    {
      "cell_type": "code",
      "metadata": {
        "id": "w17U0tRIT7Hq",
        "colab_type": "code",
        "outputId": "b402371a-93e5-4a39-b545-d38e943f2e97",
        "colab": {
          "base_uri": "https://localhost:8080/",
          "height": 85
        }
      },
      "source": [
        "printStuff(ls)"
      ],
      "execution_count": 0,
      "outputs": [
        {
          "output_type": "stream",
          "text": [
            "0  no. item is  item1\n",
            "1  no. item is  item2\n",
            "2  no. item is  item999\n",
            "3  no. item is  item-1\n"
          ],
          "name": "stdout"
        }
      ]
    },
    {
      "cell_type": "code",
      "metadata": {
        "id": "-QQyXAiAVYBm",
        "colab_type": "code",
        "outputId": "22ed023f-6e07-4c31-b757-8f4ac66c86a6",
        "colab": {
          "base_uri": "https://localhost:8080/",
          "height": 68
        }
      },
      "source": [
        "printStuff(dc)"
      ],
      "execution_count": 0,
      "outputs": [
        {
          "output_type": "stream",
          "text": [
            "0  no. item is  ('name', 'SomeName')\n",
            "1  no. item is  ('campus location', 'sylhet')\n",
            "2  no. item is  ('zip', 3110)\n"
          ],
          "name": "stdout"
        }
      ]
    },
    {
      "cell_type": "code",
      "metadata": {
        "id": "bi_H3FhcUAWq",
        "colab_type": "code",
        "outputId": "24510921-b44f-4e50-e3de-a428f363a04c",
        "colab": {
          "base_uri": "https://localhost:8080/",
          "height": 34
        }
      },
      "source": [
        "type(dc)"
      ],
      "execution_count": 0,
      "outputs": [
        {
          "output_type": "execute_result",
          "data": {
            "text/plain": [
              "dict"
            ]
          },
          "metadata": {
            "tags": []
          },
          "execution_count": 40
        }
      ]
    },
    {
      "cell_type": "code",
      "metadata": {
        "id": "oJBut5UNUDcq",
        "colab_type": "code",
        "colab": {}
      },
      "source": [
        ""
      ],
      "execution_count": 0,
      "outputs": []
    }
  ]
}